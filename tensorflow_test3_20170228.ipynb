{
 "cells": [
  {
   "cell_type": "code",
   "execution_count": null,
   "metadata": {
    "collapsed": false
   },
   "outputs": [],
   "source": [
    "\n",
    "import tensorflow as tf\n",
    "x2 = tf.linspace(-1.0, 1.0, 10)\n",
    "print(x2) \n",
    "\n",
    "g = tf.get_default_graph()\n",
    "print([op.name for op in g.get_operations()])\n",
    "\n",
    "\n",
    "sess = tf.Session()\n",
    "print(sess.run(x2))\n",
    "sess.close()"
   ]
  },
  {
   "cell_type": "code",
   "execution_count": null,
   "metadata": {
    "collapsed": false
   },
   "outputs": [],
   "source": [
    "import tensorflow as tf\n",
    "\n",
    "x = tf.constant(1.0, name=\"x\")\n",
    "w = tf.constant(0.8, name=\"weight\")\n",
    "y = tf.mul(x,w, name=\"output\")\n",
    "\n",
    "g = tf.get_default_graph()\n",
    "print([op.name for op in g.get_operations()])\n",
    "sess = tf.Session()\n",
    "summary_writer = tf.train.SummaryWriter(r'C:\\Users\\06411\\Documents\\logs\\test_x', sess.graph_def)\n",
    "print(sess.run(y))\n",
    "sess.close()"
   ]
  },
  {
   "cell_type": "code",
   "execution_count": null,
   "metadata": {
    "collapsed": true
   },
   "outputs": [],
   "source": [
    "import tensorflow as tf"
   ]
  },
  {
   "cell_type": "code",
   "execution_count": null,
   "metadata": {
    "collapsed": false
   },
   "outputs": [],
   "source": [
    "!cd"
   ]
  },
  {
   "cell_type": "code",
   "execution_count": null,
   "metadata": {
    "collapsed": false
   },
   "outputs": [],
   "source": [
    "!tensorboard logdir=r'C:\\Users\\06411\\Documents\\logs\\test_x'"
   ]
  },
  {
   "cell_type": "code",
   "execution_count": null,
   "metadata": {
    "collapsed": false
   },
   "outputs": [],
   "source": [
    "import tensorflow as tf\n",
    "\n",
    "x = tf.constant(1.0, name=\"x\")\n",
    "w = tf.constant(0.8, name=\"weight\")\n",
    "y = tf.mul(x,w, name=\"output\")\n",
    "\n",
    "g = tf.get_default_graph()\n",
    "op =  g.get_operations()\n",
    "print(op[0].node_def)\n"
   ]
  },
  {
   "cell_type": "code",
   "execution_count": null,
   "metadata": {
    "collapsed": false
   },
   "outputs": [],
   "source": [
    "import tensorflow as tf\n",
    "\n",
    "xx = tf.constant([1,2,3], name=\"x\")\n",
    "\n",
    "g = tf.get_default_graph()\n",
    "op =  g.get_operations()\n",
    "\n",
    "print(op[0].node_def)"
   ]
  },
  {
   "cell_type": "code",
   "execution_count": null,
   "metadata": {
    "collapsed": false
   },
   "outputs": [],
   "source": [
    "import tensorflow as tf\n",
    "\n",
    "#그래프를 만들고 \n",
    "g = tf.Graph()\n",
    "print(g)\n",
    "\n",
    "#현재 그래프에 추가\n",
    "with g.as_default():\n",
    "    # Define operations and tensors in `g`.\n",
    "    c = tf.constant(30.0,name=\"ccc\")\n",
    "    print(c.graph)\n",
    "    print(c.graph is g)\n",
    "    "
   ]
  },
  {
   "cell_type": "code",
   "execution_count": null,
   "metadata": {
    "collapsed": false
   },
   "outputs": [],
   "source": [
    "dir(g)"
   ]
  },
  {
   "cell_type": "code",
   "execution_count": null,
   "metadata": {
    "collapsed": false
   },
   "outputs": [],
   "source": [
    "c = tf.mul(10, 20)\n",
    "print(type(c))\n",
    "print(c.name)\n"
   ]
  },
  {
   "cell_type": "code",
   "execution_count": null,
   "metadata": {
    "collapsed": false
   },
   "outputs": [],
   "source": [
    "import numpy as np\n",
    "\n",
    "a = np.zeros((2,2))\n",
    "print(a)\n",
    "b = np.ones((2,2))\n",
    "print(b)\n",
    "# 열단위로 합산\n",
    "print( np.sum(b, axis=1))\n",
    "\n",
    "print(a.shape)\n",
    "print(np.reshape(a, (1,4)))\n"
   ]
  },
  {
   "cell_type": "code",
   "execution_count": null,
   "metadata": {
    "collapsed": false
   },
   "outputs": [],
   "source": [
    "import tensorflow as tf\n",
    "\n",
    "\n",
    "a = tf.zeros((2,2))\n",
    "b = tf.ones((2,2))\n",
    "print(a)\n",
    "\n",
    "sess = tf.InteractiveSession()\n",
    "print(b.eval())\n",
    "print(tf.reduce_sum(b, reduction_indices=1).eval())\n",
    "\n",
    "print(a.get_shape())\n",
    "print(a.eval())\n",
    "print(tf.reshape(a, (1, 4)).eval())\n",
    "\n",
    "sess.close()"
   ]
  },
  {
   "cell_type": "code",
   "execution_count": null,
   "metadata": {
    "collapsed": false
   },
   "outputs": [],
   "source": [
    "import tensorflow as tf\n",
    "\n",
    "input1 = tf.constant(3.0)\n",
    "input2 = tf.constant(2.0)\n",
    "input3 = tf.constant(5.0)\n",
    "intermed = tf.add(input2, input3)\n",
    "mul = tf.mul(input1, intermed)\n",
    "with tf.Session() as sess:\n",
    "    result = sess.run([mul, intermed])\n",
    "    print(result)\n"
   ]
  },
  {
   "cell_type": "code",
   "execution_count": null,
   "metadata": {
    "collapsed": false
   },
   "outputs": [],
   "source": [
    "import tensorflow as tf\n",
    "\n",
    "input1 = tf.placeholder(tf.float32)\n",
    "input2 = tf.placeholder(tf.float32)\n",
    "output = tf.mul(input1, input2)\n",
    "with tf.Session() as sess:\n",
    "    print(sess.run([output], \n",
    "                   feed_dict={input1:[7.], input2:[2.]}))"
   ]
  },
  {
   "cell_type": "code",
   "execution_count": null,
   "metadata": {
    "collapsed": false
   },
   "outputs": [],
   "source": [
    "import tensorflow as tf\n",
    "\n",
    "with tf.variable_scope(\"foo\"):\n",
    "    with tf.variable_scope(\"bar\"):\n",
    "        v = tf.get_variable(\"v\", [1])\n",
    "        \n",
    "print(v.name == \"foo/bar/v:0\")"
   ]
  },
  {
   "cell_type": "code",
   "execution_count": 54,
   "metadata": {
    "collapsed": false
   },
   "outputs": [
    {
     "name": "stdout",
     "output_type": "stream",
     "text": [
      "True\n"
     ]
    }
   ],
   "source": [
    "import tensorflow as tf\n",
    "\n",
    "with tf.variable_scope(\"foo\"):\n",
    "    \n",
    "    v = tf.get_variable(\"v\", [1])\n",
    "    tf.get_variable_scope().reuse_variables()\n",
    "    v1 = tf.get_variable(\"v\", [1])\n",
    "    print( v1 == v)\n"
   ]
  },
  {
   "cell_type": "code",
   "execution_count": 56,
   "metadata": {
    "collapsed": true
   },
   "outputs": [],
   "source": [
    "tf.reset_default_graph()"
   ]
  },
  {
   "cell_type": "code",
   "execution_count": 57,
   "metadata": {
    "collapsed": false
   },
   "outputs": [
    {
     "name": "stdout",
     "output_type": "stream",
     "text": [
      "True\n",
      "foobars/v1:0\n"
     ]
    }
   ],
   "source": [
    "import tensorflow as tf\n",
    "\n",
    "with tf.variable_scope(\"foobars\"):\n",
    "   \n",
    "    v = tf.get_variable(\"v1\", [1])\n",
    "    print(v.name == \"foobars/v1:0\")\n",
    "    print(v.name)"
   ]
  },
  {
   "cell_type": "code",
   "execution_count": null,
   "metadata": {
    "collapsed": false
   },
   "outputs": [],
   "source": [
    "%matplotlib inline\n",
    "import matplotlib.pyplot as plt\n",
    "import numpy as np\n",
    "import seaborn\n",
    "# Define input data\n",
    "X_data = np.arange(100, step=.1)\n",
    "y_data = X_data + 20 * np.sin(X_data/10)\n",
    "# Plot input data\n",
    "plt.scatter(X_data, y_data)\n",
    "plt.show()"
   ]
  },
  {
   "cell_type": "code",
   "execution_count": null,
   "metadata": {
    "collapsed": false
   },
   "outputs": [],
   "source": [
    "!pip install seaborn"
   ]
  },
  {
   "cell_type": "code",
   "execution_count": null,
   "metadata": {
    "collapsed": false
   },
   "outputs": [],
   "source": [
    "import tensorflow as tf\n",
    "# Define data size and batch size\n",
    "# Define input data\n",
    "X_data = np.arange(10000, step=.1)\n",
    "\n",
    "y_data = X_data + 20 * np.sin(X_data/10)\n",
    "''''''\n",
    "n_samples = 10000\n",
    "batch_size = 10000\n",
    "# Tensorflow is finicky about shapes, so resize\n",
    "#X_data = tf.reshape(X_data, (n_samples,1))\n",
    "#y_data = tf.reshape(y_data, (n_samples,1))\n",
    "# Define placeholders for input\n",
    "X = tf.placeholder(tf.float32, shape=(batch_size, 1))\n",
    "y = tf.placeholder(tf.float32, shape=(batch_size, 1)) \n",
    "\n",
    "# Define variables to be learned\n",
    "with tf.variable_scope(\"linear-regression\", reuse=True):\n",
    "    W = tf.get_variable(\"weights\", (1, 1))\n",
    "    b = tf.get_variable(\"bias\", (1,))\n",
    "    y_pred = tf.matmul(X, W) + b\n",
    "    loss = tf.reduce_sum((y - y_pred)**2/n_samples)\n",
    "    \n",
    "opt = tf.train.AdamOptimizer()\n",
    "opt_operation = opt.minimize(loss)\n",
    "with tf.Session() as sess:\n",
    "    sess.run(tf.global_variables_initializer())\n",
    "    sess.run([opt_operation], feed_dict={X: X_data, y: y_data})\n",
    "    \n",
    "# Sample code to run full gradient descent:\n",
    "# Define optimizer operation\n",
    "opt_operation = tf.train.AdamOptimizer().minimize(loss)\n",
    "with tf.Session() as sess:\n",
    "    # Initialize Variables in graph\n",
    "    sess.run(tf.global_variables_initializer())\n",
    "    # Gradient descent loop for 500 steps\n",
    "    for _ in range(500):\n",
    "        # Select random minibatch\n",
    "        indices = np.random.choice(n_samples, batch_size)\n",
    "        X_batch, y_batch = X_data[indices], y_data[indices]\n",
    "        # Do gradient descent step\n",
    "        _, loss_val = sess.run([opt_operation, loss], feed_dict={X: X_batch, y: y_batch})\n",
    "\n"
   ]
  },
  {
   "cell_type": "code",
   "execution_count": null,
   "metadata": {
    "collapsed": false
   },
   "outputs": [],
   "source": [
    "import numpy as np\n",
    "import matplotlib.pyplot as plt\n",
    "import tensorflow as tf\n",
    "\n",
    "number_of_points = 200\n",
    "x_point =[]\n",
    "y_point = []\n",
    "\n",
    "a = 0.22\n",
    "b = 0.78\n",
    "\n",
    "for i in range(number_of_points) :\n",
    "    x = np.random.normal(0.0,0.5)\n",
    "    y = a*x + b + np.random.normal(0.0,0.1)\n",
    "    x_point.append([x])\n",
    "    y_point.append([y])\n",
    "\n",
    "plt.plot(x_point, y_point, 'o',label=\"Input Data\")\n",
    "plt.legend()\n",
    "plt.show()\n",
    "\n",
    "A = tf.Variable(tf.random_uniform([1],-1.0,1.0))\n",
    "B = tf.Variable(tf.zeros([1]))\n",
    "\n",
    "y = A*x_point + B\n",
    "cost_function = tf.reduce_mean(tf.square(y-y_point))\n",
    "optimizer = tf.train.GradientDescentOptimizer(0.5)\n",
    "train = optimizer.minimize(cost_function)\n",
    "\n",
    "model = tf.global_variables_initializer()\n",
    "with tf.Session() as sess :\n",
    "    sess.run(model)\n",
    "    for step in range(0,21) :\n",
    "        sess.run(train)\n",
    "        if step % 5 == 0 :\n",
    "            plt.plot(x_point, y_point, 'o', label=\" step={0}\".format(step))\n",
    "            y_point_l = sess.run(A)* x_point + sess.run(B)\n",
    "            plt.plot(x_point,  y_point_l, 'o', label=\" step={0}\".format(step))\n",
    "            plt.legend()\n",
    "            plt.show()\n",
    "            \n",
    "    \n"
   ]
  },
  {
   "cell_type": "code",
   "execution_count": null,
   "metadata": {
    "collapsed": false
   },
   "outputs": [],
   "source": [
    "import tensorflow as tf\n",
    "# tf.reduce_min(input_tensor, axis=None, \n",
    "# keep_dims=False, name=None, reduction_indices=None)\n",
    "sess = tf.Session()\n",
    "print(sess.run(tf.reduce_min([1,2,3,4])))\n",
    "\n",
    "# tf.reduce_max(input_tensor, axis=None,\n",
    "# keep_dims=False, name=None, reduction_indices=None)\n",
    "\n",
    "print(sess.run(tf.reduce_max([1,2,3,4])))\n",
    "\n",
    "# tf.reduce_mean(input_tensor, axis=None, \n",
    "# keep_dims=False, name=None, reduction_indices=None\n",
    "print(sess.run(tf.reduce_mean([1,2,3,4])))\n",
    "\n",
    "sess.close()"
   ]
  },
  {
   "cell_type": "code",
   "execution_count": null,
   "metadata": {
    "collapsed": false
   },
   "outputs": [],
   "source": [
    "import tensorflow as tf\n",
    "# tf.reduce_min(input_tensor, axis=None, \n",
    "# keep_dims=False, name=None, reduction_indices=None)\n",
    "sess = tf.Session()\n",
    "print(sess.run(tf.reduce_all([[True,  True], [False, False]])))\n",
    "\n",
    "# tf.reduce_max(input_tensor, axis=None,\n",
    "# keep_dims=False, name=None, reduction_indices=None)\n",
    "\n",
    "print(sess.run(tf.reduce_any([[True,  True], [False, False]])))\n",
    "\n",
    "sess.close()"
   ]
  },
  {
   "cell_type": "code",
   "execution_count": null,
   "metadata": {
    "collapsed": false
   },
   "outputs": [],
   "source": [
    "import tensorflow as tf\n",
    "# tf.reduce_prod(input_tensor, axis=None, \n",
    "# keep_dims=False, name=None, reduction_indices=None)\n",
    "\n",
    "# tf.reduce_logsumexp(input_tensor, axis=None, \n",
    "# keep_dims=False, name=None, reduction_indices=None)\n",
    "\n",
    "x = tf. constant([[0, 0, 0], [0, 0, 0]], dtype=tf.float32)\n",
    "sess = tf.Session()\n",
    "print(sess.run(tf.reduce_prod([3,3])))\n",
    "print(sess.run(tf.reduce_prod([[3,3],[2,2]])))\n",
    "\n",
    "print(sess.run(tf.reduce_logsumexp(x)))\n",
    "print(sess.run(tf.reduce_logsumexp(x, 0)))\n",
    "print(sess.run(tf.reduce_logsumexp(x, 1))) \n",
    "print(sess.run(tf.reduce_logsumexp(x, 1, keep_dims=True))) \n",
    "print(sess.run(tf.reduce_logsumexp(x, [0, 1]))) \n",
    "\n",
    "sess.close()"
   ]
  },
  {
   "cell_type": "code",
   "execution_count": null,
   "metadata": {
    "collapsed": false
   },
   "outputs": [],
   "source": [
    "import tensorflow as tf\n",
    "\n",
    "# tf.accumulate_n(inputs, shape=None, tensor_dtype=None, name=None)\n",
    "\n",
    "a = tf.constant([[1, 2], [3, 4]])\n",
    "b = tf.constant([[5, 0], [0, 6]])\n",
    "\n",
    "sess = tf.Session()\n",
    "print(sess.run(tf.accumulate_n([a, b, a])))\n",
    "\n",
    "# Explicitly pass shape and type\n",
    "print(sess.run(tf.accumulate_n([a, b, a], shape=[2, 2], tensor_dtype=tf.int32)))\n",
    "sess.close()"
   ]
  },
  {
   "cell_type": "code",
   "execution_count": null,
   "metadata": {
    "collapsed": false
   },
   "outputs": [],
   "source": [
    "import tensorflow as tf\n",
    "#tf.cumsum(x, axis=0, exclusive=False, reverse=False, name=None)\n",
    "#tf.cumprod(x, axis=0, exclusive=False, reverse=False, name=None)\n",
    "\n",
    "a = tf.constant([1, 2, 3, 4])\n",
    "b = tf.constant([5, 6, 7, 8])\n",
    "c = tf.constant([[1, 2, 3, 4],[5, 6, 7, 8]])\n",
    "sess = tf.Session()\n",
    "print(sess.run(tf.cumsum(a)))\n",
    "print(sess.run(tf.cumsum(c,axis=1)))\n",
    "\n",
    "print(sess.run(tf.cumprod(b)))\n",
    "print(sess.run(tf.cumprod(c,axis=1)))\n",
    "sess.close()"
   ]
  },
  {
   "cell_type": "code",
   "execution_count": null,
   "metadata": {
    "collapsed": false
   },
   "outputs": [],
   "source": [
    "import tensorflow as tf\n",
    "\n",
    "c = tf.constant([[1,2,3,4], [-1,-2,-3,-4], [5,6,7,8],[-5,-6,-7,-8]])\n",
    "d = tf.constant([[1,2,3,4], [-1,-2,-3,-4]])\n",
    "\n",
    "sess = tf.Session()\n",
    "print(sess.run(tf.rank(c)))\n",
    "print(sess.run(tf.shape(c)))\n",
    "\n",
    "print(sess.run(tf.segment_sum(c, tf.constant([0, 0, 1, 1]))))\n",
    "print(sess.run(tf.segment_sum(d, tf.constant([0, 0]))))\n",
    "print(sess.run(tf.segment_sum(d, tf.constant([0, 1]))))\n",
    "print(sess.run(tf.segment_prod(c, tf.constant([0, 0, 1, 1]))))\n",
    "\n",
    "sess.close()"
   ]
  },
  {
   "cell_type": "code",
   "execution_count": null,
   "metadata": {
    "collapsed": false
   },
   "outputs": [],
   "source": [
    "import tensorflow as tf\n",
    "\n",
    "c = tf.constant([[1,2,3,4], [-1,-2,-3,-4], [5,6,7,8],[-5,-6,-7,-8]])\n",
    "d = tf.constant([[1,2,3,4], [-1,-2,-3,-4]])\n",
    "\n",
    "sess = tf.Session()\n",
    "print(sess.run(tf.rank(c)))\n",
    "print(sess.run(tf.shape(c)))\n",
    "\n",
    "print(sess.run(tf.segment_mean(c, tf.constant([0, 0,1,1]))))\n",
    "print(sess.run(tf.segment_mean(d, tf.constant([0, 1]))))\n",
    "print(sess.run(tf.segment_mean(d, tf.constant([0, 1]))))\n",
    "print(sess.run(tf.segment_mean(c, tf.constant([0, 0, 1, 1]))))\n",
    "\n",
    "sess.close()"
   ]
  },
  {
   "cell_type": "code",
   "execution_count": null,
   "metadata": {
    "collapsed": false,
    "scrolled": true
   },
   "outputs": [],
   "source": [
    "import tensorflow as tf\n",
    "c = tf.constant([[1,2,3,4], [-1,-2,-3,-4], [5,6,7,8]])\n",
    "tf_min = tf.segment_min(c, tf.constant([0, 0, 1]))\n",
    "tf_max = tf.segment_max(c, tf.constant([0, 0, 1]))\n",
    "\n",
    "sess = tf.Session()\n",
    "\n",
    "print(\"tf.segment_min\")\n",
    "print(sess.run(tf_min))\n",
    "print(\"tf.segment_max\")\n",
    "print(sess.run(tf_max))\n",
    "sess.close()"
   ]
  },
  {
   "cell_type": "code",
   "execution_count": null,
   "metadata": {
    "collapsed": false
   },
   "outputs": [],
   "source": [
    "import numpy as np\n",
    "import tensorflow as tf\n",
    "\n",
    "x = tf.placeholder(tf.float32, shape=(1024, 1024))\n",
    "y = tf.matmul(x, x)\n",
    "\n",
    "with tf.Session() as sess:\n",
    "    \n",
    "    rand_array = np.random.rand(1024, 1024)\n",
    "    print(sess.run(y, feed_dict={x: rand_array}))  "
   ]
  },
  {
   "cell_type": "code",
   "execution_count": null,
   "metadata": {
    "collapsed": false
   },
   "outputs": [],
   "source": [
    "import numpy as np\n",
    "import tensorflow as tf\n",
    "#tf.placeholder_with_default(input, shape, name=None)\n",
    "rand_array = np.random.rand(1024, 1024)\n",
    "x = tf.placeholder_with_default(rand_array, shape=(1024, 1024))\n",
    "y = tf.matmul(x, x)\n",
    "\n",
    "with tf.Session() as sess:\n",
    "    \n",
    "    rand_array = np.random.rand(1024, 1024)\n",
    "    print(sess.run(y)) "
   ]
  },
  {
   "cell_type": "code",
   "execution_count": null,
   "metadata": {
    "collapsed": false
   },
   "outputs": [],
   "source": [
    "import tensorflow as tf\n",
    "\n",
    "fn = tf.read_file(\"data.txt\", name=None)\n",
    "fnc = tf.read_file(\"dic_file.csv\", name=None)\n",
    "with tf.Session() as sess:\n",
    "    print(sess.run(fn))\n",
    "    line = sess.run(fnc)\n",
    "    print(line)\n",
    "    sl = str(line).strip().split(r\"\\r\\n\")\n",
    "    print(sl)\n",
    "    for ln in sl[:-1] :\n",
    "        # Read data, using python, into our features\n",
    "        firstname, last_name = ln.strip().split(\",\")\n",
    "        # Run the Print ob\n",
    "        print(firstname, last_name)"
   ]
  },
  {
   "cell_type": "code",
   "execution_count": null,
   "metadata": {
    "collapsed": false
   },
   "outputs": [],
   "source": [
    "import tensorflow as tf\n",
    "\n",
    "with tf.Session() as sess:\n",
    "    sess.run(tf.global_variables_initializer())\n",
    "    \n",
    "    with open(\"dic_file.csv\") as inf:\n",
    "        # Skip header\n",
    "        next(inf)\n",
    "        # data read \n",
    "        for line in inf:\n",
    "            # Read data, using python, into our features\n",
    "            firstname, last_name = line.strip().split(\",\")\n",
    "           \n",
    "            # Run the Print ob\n",
    "            print(firstname, last_name)"
   ]
  },
  {
   "cell_type": "code",
   "execution_count": null,
   "metadata": {
    "collapsed": false
   },
   "outputs": [],
   "source": [
    "import tensorflow as tf\n",
    "\n",
    "filename = \"dic_file.csv\"\n",
    "\n",
    "# setup text reader\n",
    "filename_queue = tf.train.string_input_producer([filename])\n",
    "reader = tf.TextLineReader(skip_header_lines=1)\n",
    "_, csv_row = reader.read(filename_queue)\n",
    "\n",
    "\n",
    "# setup CSV decoding\n",
    "record_defaults = [[\"\"],[\"\"]]\n",
    "col1, col2 = tf.decode_csv(csv_row, record_defaults=record_defaults)\n",
    "features = tf.pack([col1,col2])\n",
    "\n",
    "with tf.Session() as sess:\n",
    "    tf.global_variables_initializer().run()\n",
    "    \n",
    "    coord = tf.train.Coordinator()\n",
    "    threads = tf.train.start_queue_runners(coord=coord)\n",
    "\n",
    "    for iteration in range(1, 4):\n",
    "        # Our graph isn't evaluated until we use run unless we're in an interactive session.\n",
    "        print(sess.run([features]))\n",
    "    \n",
    "    coord.request_stop()\n",
    "    coord.join(threads) "
   ]
  },
  {
   "cell_type": "code",
   "execution_count": null,
   "metadata": {
    "collapsed": false
   },
   "outputs": [],
   "source": [
    "help(reader)"
   ]
  },
  {
   "cell_type": "code",
   "execution_count": null,
   "metadata": {
    "collapsed": false
   },
   "outputs": [],
   "source": [
    "%%writefile iris.csv\n",
    "5.1,3.5,1.4,0.2,Iris-setosa\n",
    "7.0,3.2,4.7,1.4,Iris-versicolor"
   ]
  },
  {
   "cell_type": "code",
   "execution_count": null,
   "metadata": {
    "collapsed": false
   },
   "outputs": [],
   "source": [
    "import tensorflow as tf\n",
    "#1. List of filenames\n",
    "filename = \"iris.csv\"\n",
    "#2. Filename queue\n",
    "filename_queue = tf.train.string_input_producer([filename])\n",
    "\n",
    "# Each file will have a header, we skip it and give defaults and type information\n",
    "# for each column below.\n",
    "# A Reader for the file format\n",
    "line_reader = tf.TextLineReader(skip_header_lines=1)\n",
    "_, csv_row = line_reader.read(filename_queue)\n",
    "#3. A decoder\n",
    "# Type information and column names based on the decoded CSV.\n",
    "record_defaults = [[0.0], [0.0], [0.0], [0.0], [\"\"]]\n",
    "sepal_length, sepal_width, petal_length, petal_width, iris_species = \\\n",
    "    tf.decode_csv(csv_row, record_defaults=record_defaults)\n",
    "\n",
    "# Turn the features back into a tensor.\n",
    "features = tf.pack([\n",
    "    sepal_length,\n",
    "    sepal_width,\n",
    "    petal_length,\n",
    "    petal_width])\n",
    "\n",
    "with tf.Session() as sess:\n",
    "    tf.global_variables_initializer().run()\n",
    "\n",
    "    coord = tf.train.Coordinator()\n",
    "    threads = tf.train.start_queue_runners(coord=coord)\n",
    "\n",
    "    # We do 10 iterations (steps) where we grab an example from the CSV file. \n",
    "    for iteration in range(1, 11):\n",
    "        # Our graph isn't evaluated until we use run unless we're in an interactive session.\n",
    "        example, label = sess.run([features, iris_species])\n",
    "\n",
    "        print(example, label)\n",
    "    coord.request_stop()\n",
    "    coord.join(threads)"
   ]
  },
  {
   "cell_type": "code",
   "execution_count": 1,
   "metadata": {
    "collapsed": false
   },
   "outputs": [
    {
     "name": "stdout",
     "output_type": "stream",
     "text": [
      "[ 7.          3.20000005  4.69999981  1.39999998] b'Iris-versicolor'\n",
      "[ 7.          3.20000005  4.69999981  1.39999998] b'Iris-versicolor'\n",
      "[ 7.          3.20000005  4.69999981  1.39999998] b'Iris-versicolor'\n",
      "[ 7.          3.20000005  4.69999981  1.39999998] b'Iris-versicolor'\n",
      "[ 7.          3.20000005  4.69999981  1.39999998] b'Iris-versicolor'\n",
      "[ 7.          3.20000005  4.69999981  1.39999998] b'Iris-versicolor'\n",
      "[ 7.          3.20000005  4.69999981  1.39999998] b'Iris-versicolor'\n",
      "[ 7.          3.20000005  4.69999981  1.39999998] b'Iris-versicolor'\n",
      "[ 7.          3.20000005  4.69999981  1.39999998] b'Iris-versicolor'\n",
      "[ 7.          3.20000005  4.69999981  1.39999998] b'Iris-versicolor'\n"
     ]
    }
   ],
   "source": [
    "import tensorflow as tf\n",
    "#1. List of filenames\n",
    "filename = \"iris.csv\"\n",
    "#2. Filename queue\n",
    "filename_queue = tf.train.string_input_producer([filename])\n",
    "\n",
    "# Each file will have a header, we skip it and give defaults and type information\n",
    "# for each column below.\n",
    "# A Reader for the file format\n",
    "line_reader = tf.TextLineReader(skip_header_lines=1)\n",
    "_, csv_row = line_reader.read(filename_queue)\n",
    "#3. A decoder\n",
    "# Type information and column names based on the decoded CSV.\n",
    "record_defaults = [[0.0], [0.0], [0.0], [0.0], [\"\"]]\n",
    "sepal_length, sepal_width, petal_length, petal_width, iris_species = \\\n",
    "    tf.decode_csv(csv_row, record_defaults=record_defaults)\n",
    "\n",
    "# Turn the features back into a tensor.\n",
    "features = tf.pack([\n",
    "    sepal_length,\n",
    "    sepal_width,\n",
    "    petal_length,\n",
    "    petal_width])\n",
    "\n",
    "with tf.Session() as sess:\n",
    "    tf.global_variables_initializer().run()\n",
    "    coord = tf.train.Coordinator()\n",
    "    threads = tf.train.start_queue_runners(coord=coord)\n",
    "    \n",
    "    # We do 10 iterations (steps) where we grab an example from the CSV file. \n",
    "    for iteration in range(1, 11):\n",
    "        # Our graph isn't evaluated until we use run unless we're in an interactive session.\n",
    "        example, label = sess.run([features, iris_species])\n",
    "\n",
    "        print(example, label)\n",
    "    coord.request_stop()\n",
    "    coord.join(threads)"
   ]
  },
  {
   "cell_type": "code",
   "execution_count": null,
   "metadata": {
    "collapsed": false
   },
   "outputs": [],
   "source": [
    "print(dir(1))\n",
    "print((1).__class__)\n",
    "print((1).__class__.__bases__)"
   ]
  },
  {
   "cell_type": "code",
   "execution_count": 2,
   "metadata": {
    "collapsed": false
   },
   "outputs": [
    {
     "name": "stdout",
     "output_type": "stream",
     "text": [
      "C:\\Users\\06411\\Documents\n"
     ]
    }
   ],
   "source": [
    "!cd"
   ]
  },
  {
   "cell_type": "code",
   "execution_count": 8,
   "metadata": {
    "collapsed": false
   },
   "outputs": [
    {
     "name": "stdout",
     "output_type": "stream",
     "text": [
      "(200, 300, 3)\n"
     ]
    },
    {
     "data": {
      "image/png": "[encoded data removed]",
      "text/plain": [
       "<matplotlib.figure.Figure at 0xa26d898>"
      ]
     },
     "metadata": {},
     "output_type": "display_data"
    }
   ],
   "source": [
    "import numpy as np\n",
    "import tensorflow as tf\n",
    "import matplotlib.image as mpimg\n",
    "import matplotlib.pyplot as plt\n",
    "\n",
    "# First, load the image again\n",
    "filename = \"download.png\"\n",
    "image = mpimg.imread(filename)\n",
    "height, width, depth = image.shape\n",
    "\n",
    "# Create a TensorFlow Variable\n",
    "x = tf.Variable(image, name='x')\n",
    "\n",
    "model = tf.global_variables_initializer()\n",
    "\n",
    "with tf.Session() as session:\n",
    "    x = tf.image.resize_images(x, (200,300))\n",
    "    session.run(model)\n",
    "    result = session.run(x)\n",
    "\n",
    "print(result.shape)\n",
    "plt.imshow(result)\n",
    "plt.show()"
   ]
  },
  {
   "cell_type": "code",
   "execution_count": 26,
   "metadata": {
    "collapsed": false
   },
   "outputs": [
    {
     "data": {
      "image/png": "[encoded data removed]",
      "text/plain": [
       "<matplotlib.figure.Figure at 0xa254710>"
      ]
     },
     "metadata": {},
     "output_type": "display_data"
    }
   ],
   "source": [
    "import tensorflow as tf\n",
    "import matplotlib.image as mpimg\n",
    "import matplotlib.pyplot as plt\n",
    "\n",
    "# First, load the image again\n",
    "filename = \"download.png\"\n",
    "image = mpimg.imread(filename)\n",
    "\n",
    "# Create a TensorFlow Variable\n",
    "x = tf.Variable(image, name='x')\n",
    "\n",
    "model = tf.global_variables_initializer()\n",
    "\n",
    "with tf.Session() as session:\n",
    "    #tf.reset_default_graph()\n",
    "    x = tf.transpose(x, perm=[1, 0, 2])\n",
    "    session.run(model)\n",
    "    result = session.run(x)\n",
    "\n",
    "\n",
    "plt.imshow(result)\n",
    "plt.show()"
   ]
  },
  {
   "cell_type": "code",
   "execution_count": 35,
   "metadata": {
    "collapsed": false
   },
   "outputs": [
    {
     "name": "stdout",
     "output_type": "stream",
     "text": [
      "[4.0]\n"
     ]
    }
   ],
   "source": [
    "import tensorflow as tf\n",
    "\n",
    "x = tf.placeholder(tf.float32)\n",
    "y = 2 * x* x\n",
    "c = tf.gradients(y,x)\n",
    "with tf.Session() as session:\n",
    "    print(session.run(c, feed_dict={x:1}))"
   ]
  },
  {
   "cell_type": "code",
   "execution_count": 45,
   "metadata": {
    "collapsed": false
   },
   "outputs": [
    {
     "name": "stdout",
     "output_type": "stream",
     "text": [
      "0\n",
      "4\n"
     ]
    }
   ],
   "source": [
    "import tensorflow as tf\n",
    "\n",
    "x = tf.constant([1,2,3,4,5], dtype=tf.int32)\n",
    "y = tf.constant([1,2,3,4,5], dtype=tf.int32)\n",
    "\n",
    "#축에 따른 최소와 최대값에 대한 인덱스 처리\n",
    "c = tf.argmin(x,axis=0)\n",
    "d = tf.argmax(y,axis=0)\n",
    "with tf.Session() as session:\n",
    "    print(session.run(c))\n",
    "    print(session.run(d))"
   ]
  },
  {
   "cell_type": "code",
   "execution_count": 48,
   "metadata": {
    "collapsed": false
   },
   "outputs": [
    {
     "name": "stdout",
     "output_type": "stream",
     "text": [
      "[1 2 4 7 8]\n",
      "[0 0 1 2 2 2 3 4 4]\n",
      "[4 7 8]\n",
      "[2 3 4]\n"
     ]
    }
   ],
   "source": [
    "import tensorflow as tf\n",
    "x = tf.constant([1, 1, 2, 4, 4, 4, 7, 8, 8])\n",
    "#유일한 값과 인덱스 정보 처리\n",
    "y, idx = tf.unique(x)\n",
    "\n",
    "z = tf.constant([1,2,3])\n",
    "\n",
    "#차집합의 결과와 인덱스 정보 처리\n",
    "d, didx = tf.setdiff1d(y,z)\n",
    "\n",
    "with tf.Session() as session:\n",
    "    print(session.run(y))\n",
    "    print(session.run(idx))\n",
    "    print(session.run(d))\n",
    "    print(session.run(didx))"
   ]
  },
  {
   "cell_type": "code",
   "execution_count": 63,
   "metadata": {
    "collapsed": false
   },
   "outputs": [
    {
     "name": "stdout",
     "output_type": "stream",
     "text": [
      "[ 2.25+4.75j  3.25+5.75j]\n",
      "[ 5.25594902  6.60492229]\n",
      "[ 2.25-4.75j  3.25-5.75j]\n",
      "[ 2.25  3.25]\n",
      "[ 4.75  5.75]\n"
     ]
    }
   ],
   "source": [
    "import tensorflow as tf\n",
    "real = tf.constant([2.25, 3.25])\n",
    "imag = tf.constant([4.75, 5.75])\n",
    "c = tf.complex(real, imag) \n",
    "# Computes the complex absolute value of a tensor.\n",
    "# sqrt(real**2+ imag**2)\n",
    "d = tf.complex_abs(c) \n",
    "#the complex conjugate of a complex number.\n",
    "e = tf.conj(c)\n",
    "with tf.Session() as session:\n",
    "    print(session.run(c))\n",
    "    print(session.run(d))\n",
    "    print(session.run(e))\n",
    "    # 실수와 허수부분을 분리\n",
    "    print(session.run(tf.real(c)))\n",
    "    print(session.run(tf.imag(c)))"
   ]
  },
  {
   "cell_type": "code",
   "execution_count": 86,
   "metadata": {
    "collapsed": false
   },
   "outputs": [
    {
     "name": "stdout",
     "output_type": "stream",
     "text": [
      "y  <class 'tensorflow.python.framework.ops.Operation'>\n",
      "None\n",
      "yp  <class 'tensorflow.python.framework.ops.Operation'>\n",
      "None\n"
     ]
    }
   ],
   "source": [
    "import tensorflow as tf\n",
    "#tf.assert_negative(x, data=None, summarize=None, message=None, name=None)\n",
    "\n",
    "x = tf.constant([-2.25, -3.25])\n",
    "y = tf.assert_negative(x)\n",
    "\n",
    "#tf.assert_positive(x, data=None, summarize=None, message=None, name=None\n",
    "xp = tf.constant([2.25, 3.25])\n",
    "yp = tf.assert_positive(xp)\n",
    "\n",
    "with tf.Session() as session:\n",
    "    print(\"y \",type(y))\n",
    "    print(y.run())\n",
    "    print(\"yp \",type(yp))\n",
    "    print(yp.run())"
   ]
  },
  {
   "cell_type": "code",
   "execution_count": 74,
   "metadata": {
    "collapsed": false
   },
   "outputs": [
    {
     "name": "stdout",
     "output_type": "stream",
     "text": [
      "Loss(x,y) = 1.000\n",
      "pred_y(x) = 10.000\n",
      "bias      = 1.000\n"
     ]
    }
   ],
   "source": [
    "import tensorflow as tf\n",
    "\n",
    "x = tf.placeholder(tf.float32)\n",
    "y = tf.placeholder(tf.float32)\n",
    "bias = tf.Variable(1.0)\n",
    "y_pred = x ** 2 + bias     # x -> x^2 + bias\n",
    "loss = (y - y_pred)**2     # l2 loss?\n",
    "\n",
    "with tf.Session() as session:\n",
    "    #변수 초기화\n",
    "    session.run(tf.global_variables_initializer())\n",
    "   \n",
    "    # OK, print 1.000 = (3**2 + 1 - 9)**2\n",
    "    print('Loss(x,y) = %.3f' % session.run(loss, {x: 3.0, y: 9.0}))\n",
    "    # OK, print 10.000; for evaluating y_pred only, input to y is not required\n",
    "    print('pred_y(x) = %.3f' % session.run(y_pred, {x: 3.0}))\n",
    "    # OK, print 1.000 bias evaluates to 1.0\n",
    "    print('bias      = %.3f' % session.run(bias))"
   ]
  },
  {
   "cell_type": "code",
   "execution_count": 78,
   "metadata": {
    "collapsed": false
   },
   "outputs": [
    {
     "ename": "AssertionError",
     "evalue": "Houston we've got a problem",
     "output_type": "error",
     "traceback": [
      "\u001b[0;31m---------------------------------------------------------------------------\u001b[0m",
      "\u001b[0;31mAssertionError\u001b[0m                            Traceback (most recent call last)",
      "\u001b[0;32m<ipython-input-78-68423105e63f>\u001b[0m in \u001b[0;36m<module>\u001b[0;34m()\u001b[0m\n\u001b[1;32m      1\u001b[0m \u001b[1;32massert\u001b[0m \u001b[1;36m2\u001b[0m \u001b[1;33m+\u001b[0m \u001b[1;36m2\u001b[0m \u001b[1;33m==\u001b[0m \u001b[1;36m4\u001b[0m\u001b[1;33m,\u001b[0m \u001b[1;34m\"Houston we've got a problem\"\u001b[0m\u001b[1;33m\u001b[0m\u001b[0m\n\u001b[0;32m----> 2\u001b[0;31m \u001b[1;32massert\u001b[0m \u001b[1;36m2\u001b[0m \u001b[1;33m+\u001b[0m \u001b[1;36m2\u001b[0m \u001b[1;33m==\u001b[0m \u001b[1;36m3\u001b[0m\u001b[1;33m,\u001b[0m \u001b[1;34m\"Houston we've got a problem\"\u001b[0m\u001b[1;33m\u001b[0m\u001b[0m\n\u001b[0m",
      "\u001b[0;31mAssertionError\u001b[0m: Houston we've got a problem"
     ]
    }
   ],
   "source": [
    "assert 2 + 2 == 4, \"Houston we've got a problem\"\n",
    "assert 2 + 2 == 3, \"Houston we've got a problem\""
   ]
  },
  {
   "cell_type": "code",
   "execution_count": 87,
   "metadata": {
    "collapsed": false
   },
   "outputs": [
    {
     "name": "stdout",
     "output_type": "stream",
     "text": [
      "1\n",
      "2\n",
      "3\n",
      "4\n",
      "5\n"
     ]
    }
   ],
   "source": [
    "import tensorflow as tf\n",
    "\n",
    "x = tf.Variable(0, name='x')\n",
    "\n",
    "model = tf.global_variables_initializer()\n",
    "\n",
    "with tf.Session() as session:\n",
    "    for i in range(5):\n",
    "        session.run(model)\n",
    "        x = x + 1\n",
    "        print(session.run(x))"
   ]
  },
  {
   "cell_type": "code",
   "execution_count": 88,
   "metadata": {
    "collapsed": false
   },
   "outputs": [
    {
     "name": "stdout",
     "output_type": "stream",
     "text": [
      "1\n",
      "2\n",
      "3\n",
      "4\n",
      "5\n"
     ]
    }
   ],
   "source": [
    "x= 0\n",
    "for i in range(5) :\n",
    "    x = x+ 1\n",
    "    print(x)"
   ]
  },
  {
   "cell_type": "code",
   "execution_count": 90,
   "metadata": {
    "collapsed": false
   },
   "outputs": [
    {
     "name": "stdout",
     "output_type": "stream",
     "text": [
      "40\n"
     ]
    }
   ],
   "source": [
    "import tensorflow as tf\n",
    "\n",
    "x = tf.constant(35, name='x')\n",
    "y = tf.Variable(x + 5, name='y')\n",
    "\n",
    "model = tf.global_variables_initializer()\n",
    "\n",
    "with tf.Session() as session:\n",
    "    session.run(model)\n",
    "    print(session.run(y))"
   ]
  },
  {
   "cell_type": "code",
   "execution_count": 91,
   "metadata": {
    "collapsed": false
   },
   "outputs": [
    {
     "name": "stdout",
     "output_type": "stream",
     "text": [
      "Tensor(\"y_2/read:0\", shape=(), dtype=int32)\n"
     ]
    }
   ],
   "source": [
    "import tensorflow as tf\n",
    "\n",
    "x = tf.constant(35, name='x')\n",
    "y = tf.Variable(x + 5, name='y')\n",
    "\n",
    "print(y)"
   ]
  },
  {
   "cell_type": "code",
   "execution_count": 93,
   "metadata": {
    "collapsed": false
   },
   "outputs": [
    {
     "name": "stdout",
     "output_type": "stream",
     "text": [
      "Tensor(\"x_4:0\", shape=(3,), dtype=float32)\n"
     ]
    }
   ],
   "source": [
    "import tensorflow as tf\n",
    "\n",
    "x = tf.placeholder(\"float\", 3, name='x')\n",
    "y = x * 2\n",
    "\n",
    "print(x)"
   ]
  },
  {
   "cell_type": "code",
   "execution_count": 94,
   "metadata": {
    "collapsed": false
   },
   "outputs": [
    {
     "name": "stdout",
     "output_type": "stream",
     "text": [
      "[[  2.   4.   6.]\n",
      " [  8.  10.  12.]]\n"
     ]
    }
   ],
   "source": [
    "import tensorflow as tf\n",
    "\n",
    "x = tf.placeholder(\"float\", [None, 3])\n",
    "y = x * 2\n",
    "\n",
    "with tf.Session() as session:\n",
    "    x_data = [[1, 2, 3],\n",
    "              [4, 5, 6],]\n",
    "    result = session.run(y, feed_dict={x: x_data})\n",
    "    print(result)"
   ]
  },
  {
   "cell_type": "code",
   "execution_count": 125,
   "metadata": {
    "collapsed": false
   },
   "outputs": [
    {
     "name": "stdout",
     "output_type": "stream",
     "text": [
      "C:\\Users\\06411\\Documents\n"
     ]
    }
   ],
   "source": [
    "!cd"
   ]
  },
  {
   "cell_type": "code",
   "execution_count": 133,
   "metadata": {
    "collapsed": false
   },
   "outputs": [
    {
     "name": "stdout",
     "output_type": "stream",
     "text": [
      "(600, 800, 4)\n",
      "(300, 800, 4)\n"
     ]
    },
    {
     "data": {
      "image/png": "[encoded data removed]",
      "text/plain": [
       "<matplotlib.figure.Figure at 0x102cd860>"
      ]
     },
     "metadata": {},
     "output_type": "display_data"
    }
   ],
   "source": [
    "import tensorflow as tf\n",
    "import matplotlib.image as mpimg\n",
    "import matplotlib.pyplot as plt\n",
    "import numpy as np\n",
    "\n",
    "# First, load the image again\n",
    "filename = \"MarshOrchid.jpg\"\n",
    "raw_image_data = mpimg.imread(filename)\n",
    "print(raw_image_data.shape)\n",
    "\n",
    "image = tf.placeholder(\"uint8\", [None, None, None])\n",
    "slice = tf.slice(image, [100, 0, 0], [300, -1, -1])\n",
    "\n",
    "with tf.Session() as session:\n",
    "    result = session.run(slice, feed_dict={image: raw_image_data})\n",
    "    print(result.shape)\n",
    "\n",
    "plt.imshow(result)\n",
    "plt.show()"
   ]
  },
  {
   "cell_type": "code",
   "execution_count": 117,
   "metadata": {
    "collapsed": false
   },
   "outputs": [
    {
     "name": "stdout",
     "output_type": "stream",
     "text": [
      "Help on function slice in module tensorflow.python.ops.array_ops:\n",
      "\n",
      "slice(input_, begin, size, name=None)\n",
      "    Extracts a slice from a tensor.\n",
      "    \n",
      "    This operation extracts a slice of size `size` from a tensor `input` starting\n",
      "    at the location specified by `begin`. The slice `size` is represented as a\n",
      "    tensor shape, where `size[i]` is the number of elements of the 'i'th dimension\n",
      "    of `input` that you want to slice. The starting location (`begin`) for the\n",
      "    slice is represented as an offset in each dimension of `input`. In other\n",
      "    words, `begin[i]` is the offset into the 'i'th dimension of `input` that you\n",
      "    want to slice from.\n",
      "    \n",
      "    `begin` is zero-based; `size` is one-based. If `size[i]` is -1,\n",
      "    all remaining elements in dimension i are included in the\n",
      "    slice. In other words, this is equivalent to setting:\n",
      "    \n",
      "    `size[i] = input.dim_size(i) - begin[i]`\n",
      "    \n",
      "    This operation requires that:\n",
      "    \n",
      "    `0 <= begin[i] <= begin[i] + size[i] <= Di  for i in [0, n]`\n",
      "    \n",
      "    For example:\n",
      "    \n",
      "    ```python\n",
      "    # 'input' is [[[1, 1, 1], [2, 2, 2]],\n",
      "    #             [[3, 3, 3], [4, 4, 4]],\n",
      "    #             [[5, 5, 5], [6, 6, 6]]]\n",
      "    tf.slice(input, [1, 0, 0], [1, 1, 3]) ==> [[[3, 3, 3]]]\n",
      "    tf.slice(input, [1, 0, 0], [1, 2, 3]) ==> [[[3, 3, 3],\n",
      "                                                [4, 4, 4]]]\n",
      "    tf.slice(input, [1, 0, 0], [2, 1, 3]) ==> [[[3, 3, 3]],\n",
      "                                               [[5, 5, 5]]]\n",
      "    ```\n",
      "    \n",
      "    Args:\n",
      "      input_: A `Tensor`.\n",
      "      begin: An `int32` or `int64` `Tensor`.\n",
      "      size: An `int32` or `int64` `Tensor`.\n",
      "      name: A name for the operation (optional).\n",
      "    \n",
      "    Returns:\n",
      "      A `Tensor` the same type as `input`.\n",
      "\n"
     ]
    }
   ],
   "source": [
    "help(tf.slice)"
   ]
  },
  {
   "cell_type": "code",
   "execution_count": 136,
   "metadata": {
    "collapsed": false
   },
   "outputs": [
    {
     "name": "stdout",
     "output_type": "stream",
     "text": [
      "(200, 2)\n"
     ]
    }
   ],
   "source": [
    "import numpy as np\n",
    "num_points = 200\n",
    "vectors_set = []\n",
    "for i in range(num_points):\n",
    "    x = np.random.normal(5,5)+15\n",
    "    y =  x*1000+ (np.random.normal(0,3))*1000\n",
    "    vectors_set.append([x,y])\n",
    "    \n",
    "print(np.shape(vectors_set))\n",
    "  \n",
    "x_data = [v[0] for v in vectors_set ]\n",
    "y_data = [v[1] for v in vectors_set ]"
   ]
  },
  {
   "cell_type": "code",
   "execution_count": 138,
   "metadata": {
    "collapsed": false
   },
   "outputs": [
    {
     "data": {
      "image/png": "[encoded data removed]",
      "text/plain": [
       "<matplotlib.figure.Figure at 0x117d5c88>"
      ]
     },
     "metadata": {},
     "output_type": "display_data"
    }
   ],
   "source": [
    "import matplotlib.pyplot as plt\n",
    "plt.plot(x_data,y_data,'ro',label=\"taxi fare\")\n",
    "plt.ylim([0,40000])\n",
    "plt.xlim([0,35])\n",
    "plt.xlabel('x')\n",
    "plt.ylabel('y')\n",
    "plt.legend()\n",
    "plt.show()"
   ]
  },
  {
   "cell_type": "code",
   "execution_count": 170,
   "metadata": {
    "collapsed": false
   },
   "outputs": [
    {
     "name": "stdout",
     "output_type": "stream",
     "text": [
      "[[1, 10], [2, 20]]\n",
      "(2, 2)\n",
      "[1, 10] [2, 20]\n",
      "[1, 10]\n",
      "[2, 20]\n",
      "[1, 2]\n",
      "[10, 20]\n"
     ]
    }
   ],
   "source": [
    "a = []\n",
    "a.append([1,10])\n",
    "a.append([2,20])\n",
    "print(a)\n",
    "print(np.shape(a))\n",
    "print(a[0],a[1])\n",
    "for i in a :\n",
    "    print(i)\n",
    "    \n",
    "print([j[0] for j in a])\n",
    "print([j[1] for j in a])"
   ]
  },
  {
   "cell_type": "code",
   "execution_count": 164,
   "metadata": {
    "collapsed": false
   },
   "outputs": [
    {
     "name": "stdout",
     "output_type": "stream",
     "text": [
      "Local minimum occurs at  0.9987\n"
     ]
    }
   ],
   "source": [
    "\n",
    "x_old = 0\n",
    "x_new = 1 # The algorithm starts at x=1\n",
    "eps = 0.001 # step size\n",
    "precision = 0.5\n",
    "\n",
    "def f_prime(x):    \n",
    "    return  0.1*2*(x+ 4) + 0.3\n",
    "\n",
    "while abs(x_new - x_old) > precision:\n",
    "    x_old = x_new\n",
    "    x_new = x_old - eps * f_prime(x_old)\n",
    "print(\"Local minimum occurs at \", x_new)"
   ]
  },
  {
   "cell_type": "code",
   "execution_count": 150,
   "metadata": {
    "collapsed": false
   },
   "outputs": [
    {
     "name": "stdout",
     "output_type": "stream",
     "text": [
      "[2.0]\n"
     ]
    }
   ],
   "source": [
    "import tensorflow as tf\n",
    "\n",
    "x = tf.placeholder(tf.float32)\n",
    "y = x**2\n",
    "c = tf.gradients(y,x)\n",
    "with tf.Session() as sess :\n",
    "    print(sess.run(c, feed_dict={x:1}))"
   ]
  },
  {
   "cell_type": "code",
   "execution_count": 160,
   "metadata": {
    "collapsed": false
   },
   "outputs": [
    {
     "data": {
      "text/plain": [
       "['GATE_GRAPH',\n",
       " 'GATE_NONE',\n",
       " 'GATE_OP',\n",
       " '__class__',\n",
       " '__delattr__',\n",
       " '__dict__',\n",
       " '__dir__',\n",
       " '__doc__',\n",
       " '__eq__',\n",
       " '__format__',\n",
       " '__ge__',\n",
       " '__getattribute__',\n",
       " '__gt__',\n",
       " '__hash__',\n",
       " '__init__',\n",
       " '__le__',\n",
       " '__lt__',\n",
       " '__module__',\n",
       " '__ne__',\n",
       " '__new__',\n",
       " '__reduce__',\n",
       " '__reduce_ex__',\n",
       " '__repr__',\n",
       " '__setattr__',\n",
       " '__sizeof__',\n",
       " '__str__',\n",
       " '__subclasshook__',\n",
       " '__weakref__',\n",
       " '_apply_dense',\n",
       " '_apply_sparse',\n",
       " '_assert_valid_dtypes',\n",
       " '_create_slots',\n",
       " '_finish',\n",
       " '_get_or_make_slot',\n",
       " '_prepare',\n",
       " '_resource_apply_dense',\n",
       " '_resource_apply_sparse',\n",
       " '_slot_dict',\n",
       " '_valid_dtypes',\n",
       " '_zeros_slot',\n",
       " 'apply_gradients',\n",
       " 'compute_gradients',\n",
       " 'get_name',\n",
       " 'get_slot',\n",
       " 'get_slot_names',\n",
       " 'minimize']"
      ]
     },
     "execution_count": 160,
     "metadata": {},
     "output_type": "execute_result"
    }
   ],
   "source": [
    "dir(tf.train.GradientDescentOptimizer)"
   ]
  },
  {
   "cell_type": "code",
   "execution_count": 161,
   "metadata": {
    "collapsed": false
   },
   "outputs": [
    {
     "name": "stdout",
     "output_type": "stream",
     "text": [
      "Help on function minimize in module tensorflow.python.training.optimizer:\n",
      "\n",
      "minimize(self, loss, global_step=None, var_list=None, gate_gradients=1, aggregation_method=None, colocate_gradients_with_ops=False, name=None, grad_loss=None)\n",
      "    Add operations to minimize `loss` by updating `var_list`.\n",
      "    \n",
      "    This method simply combines calls `compute_gradients()` and\n",
      "    `apply_gradients()`. If you want to process the gradient before applying\n",
      "    them call `compute_gradients()` and `apply_gradients()` explicitly instead\n",
      "    of using this function.\n",
      "    \n",
      "    Args:\n",
      "      loss: A `Tensor` containing the value to minimize.\n",
      "      global_step: Optional `Variable` to increment by one after the\n",
      "        variables have been updated.\n",
      "      var_list: Optional list of `Variable` objects to update to minimize\n",
      "        `loss`.  Defaults to the list of variables collected in the graph\n",
      "        under the key `GraphKeys.TRAINABLE_VARIABLES`.\n",
      "      gate_gradients: How to gate the computation of gradients.  Can be\n",
      "        `GATE_NONE`, `GATE_OP`, or  `GATE_GRAPH`.\n",
      "      aggregation_method: Specifies the method used to combine gradient terms.\n",
      "        Valid values are defined in the class `AggregationMethod`.\n",
      "      colocate_gradients_with_ops: If True, try colocating gradients with\n",
      "        the corresponding op.\n",
      "      name: Optional name for the returned operation.\n",
      "      grad_loss: Optional. A `Tensor` holding the gradient computed for `loss`.\n",
      "    \n",
      "    Returns:\n",
      "      An Operation that updates the variables in `var_list`.  If `global_step`\n",
      "      was not `None`, that operation also increments `global_step`.\n",
      "    \n",
      "    Raises:\n",
      "      ValueError: If some of the variables are not `Variable` objects.\n",
      "\n"
     ]
    }
   ],
   "source": [
    "help(tf.train.GradientDescentOptimizer.minimize)"
   ]
  },
  {
   "cell_type": "code",
   "execution_count": 172,
   "metadata": {
    "collapsed": true
   },
   "outputs": [],
   "source": [
    "import tensorflow as tf\n",
    "\n",
    "weights = tf.Variable(tf.random_normal([3, 3], stddev=0.1))\n",
    "biases = tf.Variable(tf.zeros([3]))"
   ]
  },
  {
   "cell_type": "code",
   "execution_count": 187,
   "metadata": {
    "collapsed": false
   },
   "outputs": [
    {
     "name": "stdout",
     "output_type": "stream",
     "text": [
      "[[-0.10710801 -0.02363504 -0.19158746]\n",
      " [-0.01806399 -0.07672255 -0.04324723]\n",
      " [-0.05202121  0.10207367  0.0297291 ]]\n",
      "[-0.10744351 -0.04601126  0.02659385]\n",
      "[[-1.07108009 -0.23635043 -1.9158746 ]\n",
      " [-0.18063991 -0.76722556 -0.43247235]\n",
      " [-0.52021211  1.02073669  0.29729098]]\n",
      "<tensorflow.python.training.saver.Saver object at 0x000000001048B748>\n",
      "./data.ckpt\n",
      "-----------  restore  ----------------\n",
      "<tensorflow.python.training.saver.Saver object at 0x00000000125A8278>\n",
      "None\n",
      "[[-0.10710801 -0.02363504 -0.19158746]\n",
      " [-0.01806399 -0.07672255 -0.04324723]\n",
      " [-0.05202121  0.10207367  0.0297291 ]]\n",
      "[-0.10744351 -0.04601126  0.02659385]\n",
      "[[-2.14216018 -0.47270086 -3.8317492 ]\n",
      " [-0.36127982 -1.53445113 -0.8649447 ]\n",
      " [-1.04042423  2.04147339  0.59458196]]\n"
     ]
    }
   ],
   "source": [
    "import tensorflow as tf\n",
    "\n",
    "weights = tf.Variable(tf.random_normal([3, 3], stddev=0.1))\n",
    "biases = tf.Variable(tf.zeros([3]))\n",
    "\n",
    "y = weights*10 - biases\n",
    "init_op = tf.global_variables_initializer()\n",
    "\n",
    "with  tf.Session() as sess : \n",
    "    # Runs the initialization.\n",
    "    sess.run(init_op)\n",
    "    # You can now evaluate the variables.\n",
    "    print(weights.eval())\n",
    "    # Or, e.g., its mean value along second dimension\n",
    "    print(tf.reduce_mean(weights, 1).eval())\n",
    "    print(y.eval())\n",
    "    \n",
    "    # Add ops to save and restore all the variables.\n",
    "    saver = tf.train.Saver()\n",
    "    print(saver)\n",
    "    # Save the variables to disk.\n",
    "    save_path = saver.save(sess, \"./data.ckpt\")\n",
    "    print(save_path)\n",
    "\n",
    "with  tf.Session() as sess : \n",
    "    print(\"-----------  restore  ----------------\")\n",
    "    saver = tf.train.Saver()\n",
    "    print(saver)\n",
    "    res = saver.restore(sess, \"./data.ckpt\")\n",
    "    print(res)\n",
    "     # You can now evaluate the variables.\n",
    "    print(weights.eval())\n",
    "    # Or, e.g., its mean value along second dimension\n",
    "    print(tf.reduce_mean(weights, 1).eval())\n",
    "    y2 = weights*20 - biases\n",
    "\n",
    "    print(y2.eval())"
   ]
  },
  {
   "cell_type": "code",
   "execution_count": 178,
   "metadata": {
    "collapsed": false
   },
   "outputs": [
    {
     "name": "stdout",
     "output_type": "stream",
     "text": [
      "C:\\Users\\06411\\Documents\n"
     ]
    }
   ],
   "source": [
    "res = saver.restore(sess, \"/tmp/model.ckpt\")\n"
   ]
  },
  {
   "cell_type": "code",
   "execution_count": 176,
   "metadata": {
    "collapsed": false
   },
   "outputs": [
    {
     "name": "stdout",
     "output_type": "stream",
     "text": [
      "Help on method save in module tensorflow.python.training.saver:\n",
      "\n",
      "save(sess, save_path, global_step=None, latest_filename=None, meta_graph_suffix='meta', write_meta_graph=True, write_state=True) method of tensorflow.python.training.saver.Saver instance\n",
      "    Saves variables.\n",
      "    \n",
      "    This method runs the ops added by the constructor for saving variables.\n",
      "    It requires a session in which the graph was launched.  The variables to\n",
      "    save must also have been initialized.\n",
      "    \n",
      "    The method returns the path of the newly created checkpoint file.  This\n",
      "    path can be passed directly to a call to `restore()`.\n",
      "    \n",
      "    Args:\n",
      "      sess: A Session to use to save the variables.\n",
      "      save_path: String.  Path to the checkpoint filename.  If the saver is\n",
      "        `sharded`, this is the prefix of the sharded checkpoint filename.\n",
      "      global_step: If provided the global step number is appended to\n",
      "        `save_path` to create the checkpoint filename. The optional argument\n",
      "        can be a `Tensor`, a `Tensor` name or an integer.\n",
      "      latest_filename: Optional name for the protocol buffer file that will\n",
      "        contains the list of most recent checkpoint filenames.  That file,\n",
      "        kept in the same directory as the checkpoint files, is automatically\n",
      "        managed by the saver to keep track of recent checkpoints.  Defaults to\n",
      "        'checkpoint'.\n",
      "      meta_graph_suffix: Suffix for `MetaGraphDef` file. Defaults to 'meta'.\n",
      "      write_meta_graph: `Boolean` indicating whether or not to write the meta\n",
      "        graph file.\n",
      "      write_state: `Boolean` indicating whether or not to write the\n",
      "        `CheckpointStateProto`.\n",
      "    \n",
      "    Returns:\n",
      "      A string: path at which the variables were saved.  If the saver is\n",
      "        sharded, this string ends with: '-?????-of-nnnnn' where 'nnnnn'\n",
      "        is the number of shards created.\n",
      "      If the saver is empty, returns None.\n",
      "    \n",
      "    Raises:\n",
      "      TypeError: If `sess` is not a `Session`.\n",
      "      ValueError: If `latest_filename` contains path components, or if it\n",
      "        collides with `save_path`.\n",
      "      RuntimeError: If save and restore ops weren't built.\n",
      "\n"
     ]
    }
   ],
   "source": [
    "help(saver.save)"
   ]
  },
  {
   "cell_type": "code",
   "execution_count": null,
   "metadata": {
    "collapsed": true
   },
   "outputs": [],
   "source": []
  }
 ],
 "metadata": {
  "kernelspec": {
   "display_name": "Python [conda root]",
   "language": "python",
   "name": "conda-root-py"
  },
  "language_info": {
   "codemirror_mode": {
    "name": "ipython",
    "version": 3
   },
   "file_extension": ".py",
   "mimetype": "text/x-python",
   "name": "python",
   "nbconvert_exporter": "python",
   "pygments_lexer": "ipython3",
   "version": "3.5.2"
  }
 },
 "nbformat": 4,
 "nbformat_minor": 1
}

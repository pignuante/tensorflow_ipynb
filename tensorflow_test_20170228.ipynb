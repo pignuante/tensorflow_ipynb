{
 "cells": [
  {
   "cell_type": "code",
   "execution_count": null,
   "metadata": {
    "collapsed": true
   },
   "outputs": [],
   "source": [
    "import tensorflow as tf"
   ]
  },
  {
   "cell_type": "code",
   "execution_count": null,
   "metadata": {
    "collapsed": false
   },
   "outputs": [],
   "source": [
    "import tensorflow as tf\n",
    "\n",
    "# Build a graph.\n",
    "a = tf.constant(5.0, name='input')\n",
    "b = tf.constant(6.0, name='output')\n",
    "c = tf.multiply(a,b, name='mul')\n",
    "\n",
    "\n",
    "\n",
    "# Launch the graph in a session.\n",
    "sess = tf.Session()\n",
    "file_writer = tf.summary.FileWriter('C:\\\\Users\\\\06411\\\\logs\\\\test5', sess.graph)\n",
    "\n",
    "\n",
    "print(sess.run(c))\n"
   ]
  },
  {
   "cell_type": "code",
   "execution_count": null,
   "metadata": {
    "collapsed": true
   },
   "outputs": [],
   "source": [
    "!tensorboard --logdir='C:\\\\Users\\\\06411\\\\logs\\\\test5'"
   ]
  },
  {
   "cell_type": "code",
   "execution_count": null,
   "metadata": {
    "collapsed": false
   },
   "outputs": [],
   "source": [
    "!tensorboard --help"
   ]
  },
  {
   "cell_type": "code",
   "execution_count": null,
   "metadata": {
    "collapsed": false,
    "scrolled": true
   },
   "outputs": [],
   "source": [
    "import tensorflow as tf\n",
    "\n",
    "sess = tf.Session()\n",
    "y = tf.Variable([-5,-5],name='y')\n",
    "\n",
    "x = tf.abs(y)\n",
    "z = tf.negative(x)\n",
    "\n",
    "# -1` if `x < 0`; 0 if `x == 0`; 1 if `x > 0`.\n",
    "o = tf.sign(z)\n",
    "\n",
    "sess.run(tf.global_variables_initializer())\n",
    "\n",
    "ya = sess.run(x)\n",
    "print(ya)\n",
    "print(sess.run(z))\n",
    "print(sess.run(o))\n",
    "\n",
    "sess.close()"
   ]
  },
  {
   "cell_type": "code",
   "execution_count": null,
   "metadata": {
    "collapsed": false
   },
   "outputs": [],
   "source": [
    "help(tf.TensorArray)"
   ]
  },
  {
   "cell_type": "code",
   "execution_count": null,
   "metadata": {
    "collapsed": false
   },
   "outputs": [],
   "source": [
    "import tensorflow as tf\n",
    "import numpy as np\n",
    "\n",
    "\n",
    "u1 = tf.TensorArray(dtype=tf.float64,size=101)\n",
    "print(u1.dtype)\n",
    "print(u1.size())\n",
    "v = tf.Variable(1)\n",
    "\n",
    "u = np.ones(101)\n",
    "print(u1)\n",
    "for i in range(101) :\n",
    "    u1.write(i,u[i])\n",
    "\n",
    "sess = tf.Session()\n",
    "sess.run(tf.global_variables_initializer())\n",
    "print(sess.run(u1.size()))\n",
    "print(sess.run(v))\n",
    "sess.close()"
   ]
  },
  {
   "cell_type": "code",
   "execution_count": null,
   "metadata": {
    "collapsed": false
   },
   "outputs": [],
   "source": [
    "help(u1.unpack)"
   ]
  },
  {
   "cell_type": "code",
   "execution_count": null,
   "metadata": {
    "collapsed": false
   },
   "outputs": [],
   "source": [
    "import tensorflow as tf\n",
    " \n",
    "# scalar rank is 0\n",
    "scalar1 = tf.constant(10000) \n",
    "# vector rank is 1\n",
    "vector1 = tf.constant([1, 2, 3, 4, 5])\n",
    "# matrix rank is 2\n",
    "matrix1 = tf.constant([[1, 2, 3], [4, 5, 6]])\n",
    "# 3-tensor rank is 3\n",
    "cube1 = tf.constant([[[1], [2], [3]], [[4], [5], [6]], [[7], [8], [9]]])\n",
    "\n",
    "print(scalar1.get_shape())\n",
    "print(vector1.get_shape())\n",
    "print(matrix1.get_shape())\n",
    "print(cube1.get_shape())\n",
    "\n",
    "sess = tf.Session()\n",
    "sess.run(tf.global_variables_initializer())\n",
    "print(sess.run(scalar1))\n",
    "print(sess.run(cube1))\n",
    "sess.close()"
   ]
  },
  {
   "cell_type": "code",
   "execution_count": null,
   "metadata": {
    "collapsed": false
   },
   "outputs": [],
   "source": [
    "import tensorflow as tf\n",
    "#상수정의\n",
    "constant1 = tf.constant([1.0])\n",
    "constant2 = tf.constant([2.0])\n",
    "constant3 = tf.constant([3.0])\n",
    "\n",
    "#operation 정의\n",
    "intermed = tf.add(constant2, constant3)  \n",
    " \n",
    "mul = tf.mul(constant1, intermed)\n",
    " \n",
    "with tf.Session() as sess:\n",
    "    print(sess.run(mul))\n",
    "    print(sess.run(intermed))\n"
   ]
  },
  {
   "cell_type": "code",
   "execution_count": null,
   "metadata": {
    "collapsed": false
   },
   "outputs": [],
   "source": [
    "import tensorflow as tf\n",
    "#상수정의\n",
    "constant1 = tf.constant([1.0])\n",
    "constant2 = tf.constant([2.0])\n",
    "constant3 = tf.constant([3.0])\n",
    "\n",
    "#operation 정의\n",
    "intermed = tf.add(constant2, constant3)  \n",
    " \n",
    "mul = tf.mul(constant1, intermed)\n",
    " \n",
    "with tf.Session() as sess:\n",
    "    result = sess.run([mul, intermed])\n",
    "    print(result)"
   ]
  },
  {
   "cell_type": "code",
   "execution_count": null,
   "metadata": {
    "collapsed": false
   },
   "outputs": [],
   "source": [
    "import tensorflow as tf\n",
    "\n",
    "with tf.variable_scope(\"foo\"):\n",
    "    v = tf.get_variable(\"vv\", [1])  # vv.name == \"foo/vv:0\"\n",
    "    w = tf.get_variable(\"ww\", [1])  # ww.name == \"foo/ww:0\"\n",
    "\n",
    "sess = tf.Session()\n",
    "with tf.variable_scope(\"foo\", reuse=True) :\n",
    "    v1 = tf.get_variable(\"vv\")  # The same as vv above.\n",
    "    \n",
    "    sess = tf.Session()\n",
    "    sess.run(tf.global_variables_initializer())\n",
    "    print(sess.run(v1))\n",
    "\n",
    "sess.close()"
   ]
  },
  {
   "cell_type": "code",
   "execution_count": null,
   "metadata": {
    "collapsed": false
   },
   "outputs": [],
   "source": [
    "help(tf.get_variable)"
   ]
  },
  {
   "cell_type": "code",
   "execution_count": null,
   "metadata": {
    "collapsed": false
   },
   "outputs": [],
   "source": [
    "c = 1\n",
    "v = c + 10\n",
    "print(v)"
   ]
  },
  {
   "cell_type": "code",
   "execution_count": null,
   "metadata": {
    "collapsed": false
   },
   "outputs": [],
   "source": [
    "import tensorflow as tf\n",
    "\n",
    "c = tf.constant(1) \n",
    "c10 = tf.constant(10) \n",
    "v = tf.add(c,c10)\n",
    "\n",
    "sess = tf.Session()\n",
    "\n",
    "print(sess.run(v))\n",
    "\n",
    "sess.close()"
   ]
  },
  {
   "cell_type": "code",
   "execution_count": null,
   "metadata": {
    "collapsed": false
   },
   "outputs": [],
   "source": [
    "import tensorflow as tf\n",
    "\n",
    "c = tf.constant(1) \n",
    "c10 = tf.constant(10) \n",
    "v = tf.Variable(0) \n",
    "ca = tf.add(c,c10)\n",
    "va = tf.add(v,ca)\n",
    "sess = tf.Session()\n",
    "sess.run(tf.global_variables_initializer())\n",
    "print(sess.run(va))\n",
    "\n",
    "sess.close()"
   ]
  },
  {
   "cell_type": "code",
   "execution_count": null,
   "metadata": {
    "collapsed": false
   },
   "outputs": [],
   "source": [
    "import tensorflow as tf\n",
    "graph = tf.get_default_graph()\n",
    "print(graph)\n",
    "\n",
    "input = tf.constant(1.0)\n",
    "operations = graph.get_operations()\n",
    "print(operations[0].node_def)\n"
   ]
  },
  {
   "cell_type": "code",
   "execution_count": 2,
   "metadata": {
    "collapsed": false
   },
   "outputs": [
    {
     "name": "stdout",
     "output_type": "stream",
     "text": [
      "WARNING:tensorflow:From <ipython-input-2-751a89204abf>:18: initialize_all_variables (from tensorflow.python.ops.variables) is deprecated and will be removed after 2017-03-02.\n",
      "Instructions for updating:\n",
      "Use `tf.global_variables_initializer` instead.\n",
      "epoch 0, output: 0.800000011920929\n",
      "epoch 10, output: 0.47898948192596436\n",
      "epoch 20, output: 0.2867887020111084\n",
      "epoch 30, output: 0.17171096801757812\n",
      "epoch 40, output: 0.10280970484018326\n",
      "epoch 50, output: 0.06155596673488617\n",
      "epoch 60, output: 0.03685583174228668\n",
      "epoch 70, output: 0.02206694707274437\n",
      "epoch 80, output: 0.013212298974394798\n",
      "epoch 90, output: 0.007910690270364285\n"
     ]
    }
   ],
   "source": [
    "import tensorflow as tf\n",
    "x = tf.constant(1.0, name='input')\n",
    "w = tf.Variable(0.8, name='weight')\n",
    "y = tf.multiply(w, x, name='output')\n",
    "y_ = tf.constant(0.0, name='correct_value')\n",
    "loss = tf.pow(y - y_, 2, name='loss')\n",
    "\n",
    "train_step = tf.train.GradientDescentOptimizer(0.025).minimize(loss)\n",
    "\n",
    "for value in [x, w, y, y_, loss]:\n",
    "    tf.summary.scalar(value.op.name, value)\n",
    "\n",
    "#summaries = tf.merge_all_summaries()\n",
    "\n",
    "sess = tf.Session()\n",
    "summary_writer = tf.summary.FileWriter('./logs/log_simple_stats', sess.graph)\n",
    "\n",
    "sess.run(tf.initialize_all_variables())\n",
    "for i in range(100):\n",
    "    if i % 10 ==0:\n",
    "        print(\"epoch {}, output: {}\".format(i, sess.run(y)))\n",
    "    summary_writer.add_graph(sess.graph)\n",
    "    sess.run(train_step)\n"
   ]
  },
  {
   "cell_type": "code",
   "execution_count": null,
   "metadata": {
    "collapsed": true
   },
   "outputs": [],
   "source": [
    "!tensorboard --logdir='./logs/log_simple_stats'"
   ]
  },
  {
   "cell_type": "code",
   "execution_count": null,
   "metadata": {
    "collapsed": false
   },
   "outputs": [],
   "source": [
    "import tensorflow as tf\n",
    "\n",
    "a1 = tf.random_uniform([10,1])\n",
    "A = tf.TensorArray(tf.float32, size=2)\n",
    "B = A.write(0,a1)\n",
    "c = B.read(0)\n",
    "sess = tf.Session()\n",
    "sess.run(tf.global_variables_initializer())\n",
    "print(sess.run(c))\n",
    "\n",
    "sess.close()"
   ]
  },
  {
   "cell_type": "code",
   "execution_count": null,
   "metadata": {
    "collapsed": false
   },
   "outputs": [],
   "source": [
    "import tensorflow as tf\n",
    "\n",
    "A = tf.TensorArray(tf.float32, size=2)\n",
    "print(A)\n",
    "print(A.handle)\n",
    "print(A.flow)\n",
    "print(A.dtype)\n",
    "sess = tf.Session()\n",
    "sess.run(tf.global_variables_initializer())\n",
    "print(sess.run(A.handle))\n",
    "print(sess.run(A.flow))\n",
    "sess.close()"
   ]
  },
  {
   "cell_type": "code",
   "execution_count": null,
   "metadata": {
    "collapsed": false
   },
   "outputs": [],
   "source": [
    "help(tf.TensorArray)"
   ]
  },
  {
   "cell_type": "code",
   "execution_count": null,
   "metadata": {
    "collapsed": false,
    "scrolled": false
   },
   "outputs": [],
   "source": [
    "import tensorflow as tf\n",
    "\n",
    "a1 = tf.random_uniform([10,1])\n",
    "A = tf.TensorArray(tf.float32, size=2)\n",
    "B = A.write(0,a1)\n",
    "C = B.gather([0])\n",
    "print(C)\n",
    "sess = tf.Session()\n",
    "sess.run(tf.global_variables_initializer())\n",
    "print(sess.run(C))\n",
    "\n",
    "sess.close()"
   ]
  },
  {
   "cell_type": "code",
   "execution_count": null,
   "metadata": {
    "collapsed": false
   },
   "outputs": [],
   "source": [
    "import tensorflow as tf\n",
    "import numpy as np\n",
    "\n",
    "a = np.zeros([2,2])\n",
    "print(a)\n",
    "print(a.reshape([1,4]))\n",
    "\n",
    "t = tf.zeros([2,2])\n",
    "sess = tf.Session()\n",
    "print(sess.run(t))\n",
    "print(sess.run(tf.reshape(t,[1,4])))\n",
    "sess.close()"
   ]
  },
  {
   "cell_type": "code",
   "execution_count": null,
   "metadata": {
    "collapsed": false
   },
   "outputs": [],
   "source": [
    "import tensorflow as tf\n",
    "\n",
    "a1 = tf.random_uniform([10,1])\n",
    "A = tf.TensorArray(tf.float32, size=2)\n",
    "B = A.write(0,a1)\n",
    "C = B.unpack()\n",
    "print(C)\n",
    "sess = tf.Session()\n",
    "sess.run(tf.global_variables_initializer())\n",
    "\n",
    "\n",
    "sess.close()"
   ]
  },
  {
   "cell_type": "code",
   "execution_count": null,
   "metadata": {
    "collapsed": false
   },
   "outputs": [],
   "source": [
    "import tensorflow as tf\n",
    "import numpy as np\n",
    "x =  np.array([1, 4])\n",
    "y =  np.array([2, 5])\n",
    "z =  np.array([3, 6])\n",
    "\n",
    "p = tf.pack([x,y,z])\n",
    "\n",
    "up1,up2,up3 = tf.unpack(p)\n",
    "print(p)\n",
    "sess = tf.Session()\n",
    "print(sess.run(p))\n",
    "print(sess.run(up1))\n",
    "print(sess.run(up2))\n",
    "print(sess.run(up3))\n",
    "sess.close()"
   ]
  },
  {
   "cell_type": "code",
   "execution_count": null,
   "metadata": {
    "collapsed": false
   },
   "outputs": [],
   "source": [
    "import tensorflow as tf\n",
    "\n",
    "c1 = tf.constant([1, 3, 5, 7, 9, 0, 2, 4, 6, 8])\n",
    "v1 = tf.constant([[1, 2, 3, 4, 5, 6], [7, 8, 9, 0, 1, 2]])\n",
    "\n",
    "print(tf.slice(c1, [2], [3]))             # [5 7 9]\n",
    "print(tf.slice(v1, [0, 2], [1, 2]))       # [[3 4]]\n",
    "print(tf.slice(v1, [0, 2], [2, 2]))       # [[3 4] [9 0]]\n",
    "print(tf.slice(v1, [0, 2], [2,-1]))  \n",
    "\n",
    "sess = tf.Session()\n",
    "print(sess.run(tf.slice(c1, [2], [3])))\n",
    "print(sess.run(tf.slice(v1, [0, 2], [2, 2])))\n",
    "\n",
    "sess.close()\n"
   ]
  },
  {
   "cell_type": "code",
   "execution_count": null,
   "metadata": {
    "collapsed": false
   },
   "outputs": [],
   "source": [
    "import tensorflow as tf\n",
    "\n",
    "c1 = tf.constant([1, 3, 5, 7, 9, 0, 2, 4, 6, 8])\n",
    "v1 = tf.constant([[1, 2, 3, 4, 5, 6], [7, 8, 9, 0, 1, 2]])\n",
    "print(v1)\n",
    "print('-----------split------------')\n",
    "print(tf.split(0, 2, c1)) # [[1, 3, 5, 7, 9], [0, 2, 4, 6, 8]]\n",
    "print(tf.split(0, 5, c1)) # [[1, 3], [5, 7], [9, 0], [2, 4], [6, 8]]\n",
    "print(tf.split(0, 2, v1)) # [[[1, 2, 3, 4, 5, 6]], [[7, 8, 9, 0, 1, 2]]]\n",
    "print(tf.split(1, 2, v1)) # [[[1, 2, 3], [7, 8, 9]], [[4, 5, 6], [0, 1, 2]]]\n",
    "sess = tf.Session()\n",
    "print(sess.run(tf.split(0, 2, c1)))\n",
    "print(sess.run(tf.split(0, 2, v1)))\n",
    "print(sess.run(tf.split(1, 2, v1)))\n",
    "sess.close()\n"
   ]
  },
  {
   "cell_type": "code",
   "execution_count": null,
   "metadata": {
    "collapsed": false
   },
   "outputs": [],
   "source": [
    "help(tf.split)"
   ]
  },
  {
   "cell_type": "code",
   "execution_count": null,
   "metadata": {
    "collapsed": false
   },
   "outputs": [],
   "source": [
    "import tensorflow as tf\n",
    "\n",
    "c2 = tf.constant([1, 3, 5])\n",
    "print(c2)\n",
    "print(tf.tile(c2, [3]))  \n",
    "v2 = tf.constant([[1, 2, 3], [7, 8, 9]])\n",
    "print(v2)\n",
    "print(tf.tile(v2, [2, 2]))\n",
    "sess = tf.Session()\n",
    "print('-----------tile------------')\n",
    "print(sess.run(tf.tile(c2, [3])))\n",
    "print(sess.run(tf.tile(v2, [2, 2])))\n",
    "\n",
    "sess.close()"
   ]
  },
  {
   "cell_type": "code",
   "execution_count": null,
   "metadata": {
    "collapsed": false
   },
   "outputs": [],
   "source": [
    "import tensorflow as tf\n",
    "v2 = tf.constant([[1, 2, 3], [7, 8, 9]])\n",
    "print(v2)\n",
    "print(tf.pad(v2, [[1, 1], [2, 2]], 'CONSTANT'))\n",
    "print(tf.pad(v2, [[1, 3], [2, 4]], 'CONSTANT'))\n",
    "sess = tf.Session()\n",
    "print('-----------pad ------------')\n",
    "print(sess.run(tf.pad(v2, [[1, 1], [2, 2]], 'CONSTANT')))\n",
    "print(sess.run(tf.pad(v2, [[1, 3], [2, 4]], 'CONSTANT')))\n",
    "\n",
    "sess.close()\n"
   ]
  },
  {
   "cell_type": "code",
   "execution_count": null,
   "metadata": {
    "collapsed": false
   },
   "outputs": [],
   "source": [
    "import tensorflow as tf\n",
    "v2 = tf.constant([[1, 2, 3], [7, 8, 9]])\n",
    "print(v2)\n",
    "\n",
    "print(tf.pad(v2, [[1, 1], [2, 2]], 'REFLECT'))\n",
    "print(tf.pad(v2, [[1, 1], [2, 2]], 'SYMMETRIC'))\n",
    "\n",
    "sess = tf.Session()\n",
    "print('-----------pad ------------')\n",
    "\n",
    "print(sess.run(tf.pad(v2, [[1, 1], [2, 2]], 'REFLECT')))\n",
    "print(sess.run(tf.pad(v2, [[1, 1], [2, 2]], 'SYMMETRIC')))\n",
    "sess.close()\n"
   ]
  },
  {
   "cell_type": "code",
   "execution_count": null,
   "metadata": {
    "collapsed": false
   },
   "outputs": [],
   "source": [
    "help(tf.pad)"
   ]
  },
  {
   "cell_type": "code",
   "execution_count": null,
   "metadata": {
    "collapsed": false
   },
   "outputs": [],
   "source": [
    "import tensorflow as tf\n",
    "\n",
    "c1 = tf.constant([1, 3, 5, 7, 9, 0, 2, 4, 6, 8])\n",
    "c2 = tf.constant([1, 3, 5])\n",
    "v1 = tf.constant([[1, 2, 3, 4, 5, 6], [7, 8, 9, 0, 1, 2]])\n",
    "v2 = tf.constant([[1, 2, 3], [7, 8, 9]])\n",
    "\n",
    "print(tf.concat(0, [c1, c2]))    \n",
    "print(tf.concat(1, [v1, v2])) \n",
    "\n",
    "sess = tf.Session()\n",
    "print('-----------concat ------------')\n",
    "\n",
    "print(sess.run(tf.concat(0, [c1, c2])))\n",
    "print(sess.run(tf.concat(1, [v1, v2])))\n",
    "sess.close()\n"
   ]
  },
  {
   "cell_type": "code",
   "execution_count": null,
   "metadata": {
    "collapsed": false
   },
   "outputs": [],
   "source": [
    "import tensorflow as tf\n",
    "\n",
    "c1 = tf.constant([1, 3, 5, 7, 9, 0, 2, 4, 6, 8])\n",
    "v1 = tf.constant([[1, 2, 3, 4, 5, 6], [7, 8, 9, 0, 1, 2]])\n",
    "\n",
    "print(tf.reverse(c1, [True]))         \n",
    "print(tf.reverse(v1, [True, False]))  \n",
    "print(tf.reverse(v1, [True, True ]))\n",
    "sess = tf.Session()\n",
    "print('-----------reverse------------')\n",
    "print(sess.run(tf.reverse(c1, [True])))\n",
    "print(sess.run(tf.reverse(v1, [True, False])))\n",
    "print(sess.run(tf.reverse(v1, [True, True])))\n",
    "sess.close()"
   ]
  },
  {
   "cell_type": "code",
   "execution_count": null,
   "metadata": {
    "collapsed": false
   },
   "outputs": [],
   "source": [
    "import tensorflow as tf\n",
    "c3, c4 = tf.constant([1, 3, 5]), tf.constant([[1, 3, 5], [5, 7, 9]])\n",
    "\n",
    "\n",
    "# perm is useful to multi-dimension .\n",
    "print(tf.transpose(c3))       \n",
    "print(tf.transpose(c4))      \n",
    "print(tf.transpose(c4, perm=[0, 1]))   \n",
    "print(tf.transpose(c4, perm=[1, 0]))  \n",
    "\n",
    "print('-----------transpose------------') \n",
    "sess = tf.Session()\n",
    "\n",
    "print(sess.run(tf.transpose(c3)))\n",
    "print(sess.run(tf.transpose(c4)))\n",
    "print(sess.run(tf.transpose(c4, perm=[0, 1])))\n",
    "print(sess.run(tf.transpose(c4, perm=[1, 0])))\n",
    "sess.close()"
   ]
  },
  {
   "cell_type": "code",
   "execution_count": null,
   "metadata": {
    "collapsed": false
   },
   "outputs": [],
   "source": [
    "import tensorflow as tf\n",
    "\n",
    "t = tf.constant([[[1, 1, 1], [2, 2, 2]], [[3, 3, 3], [4, 4, 4]]])\n",
    "print(tf.shape(t))\n",
    "\n",
    "sess = tf.Session()\n",
    "\n",
    "print(sess.run(tf.shape(t)))\n",
    "\n",
    "sess.close()"
   ]
  },
  {
   "cell_type": "code",
   "execution_count": null,
   "metadata": {
    "collapsed": false
   },
   "outputs": [],
   "source": [
    "import tensorflow as tf\n",
    "\n",
    "t = tf.constant([[[1, 1, 1], [2, 2, 2]], [[3, 3, 3], [4, 4, 4]]])\n",
    "print(tf.size(t))\n",
    "\n",
    "sess = tf.Session()\n",
    "\n",
    "print(sess.run(tf.size(t)))\n",
    "\n",
    "sess.close()"
   ]
  },
  {
   "cell_type": "code",
   "execution_count": null,
   "metadata": {
    "collapsed": false
   },
   "outputs": [],
   "source": [
    "import tensorflow as tf\n",
    "\n",
    "t = tf.zeros([1, 2, 1, 4]) \n",
    "print(t)\n",
    "print(tf.squeeze(t))\n",
    "\n",
    "sess = tf.Session()\n",
    "\n",
    "print(sess.run(tf.squeeze(t)))\n",
    "\n",
    "sess.close()"
   ]
  },
  {
   "cell_type": "code",
   "execution_count": null,
   "metadata": {
    "collapsed": false
   },
   "outputs": [],
   "source": [
    "import tensorflow as tf\n",
    "x = tf.constant([1, 2, 3])\n",
    "y = tf.constant([4, 5, 6])\n",
    "\n",
    "X,Y = tf.meshgrid(x,y)\n",
    "sess = tf.Session()\n",
    "\n",
    "print(sess.run(X))\n",
    "print(sess.run(Y))\n",
    "sess.close()"
   ]
  },
  {
   "cell_type": "code",
   "execution_count": null,
   "metadata": {
    "collapsed": false
   },
   "outputs": [],
   "source": [
    "import tensorflow as tf\n",
    "x = tf.constant([1, 2, 3])\n",
    "y = tf.constant([4, 5, 6])\n",
    "sess = tf.Session()\n",
    "\n",
    "print(sess.run(tf.div(x,y)))\n",
    "print(sess.run(tf.truediv(x,y)))\n",
    "print(sess.run(tf.floordiv(x,y)))\n",
    "print(sess.run(tf.truncatediv(x,y)))\n",
    "\n",
    "sess.close()"
   ]
  },
  {
   "cell_type": "code",
   "execution_count": null,
   "metadata": {
    "collapsed": false
   },
   "outputs": [],
   "source": [
    "import tensorflow as tf\n",
    "x = tf.constant([1, 2, 3])\n",
    "y = tf.constant([4, 5, 6])\n",
    "sess = tf.Session()\n",
    "\n",
    "print(sess.run(tf.cross(x,y)))\n",
    "\n",
    "sess.close()"
   ]
  },
  {
   "cell_type": "code",
   "execution_count": null,
   "metadata": {
    "collapsed": false
   },
   "outputs": [],
   "source": [
    "import tensorflow as tf\n",
    "\n",
    "t0 = tf.Variable(tf.random_uniform([5,2]))\n",
    "t1 = tf.Variable(tf.random_uniform([5,2]))\n",
    "\n",
    "A = tf.TensorArray(dtype=tf.float32, size=2)\n",
    "A = A.write(0, t0)\n",
    "A = A.write(1,t1)\n",
    "\n",
    "a0 = A.read(0)\n",
    "a1 = A.read(1)\n",
    "\n",
    "sess = tf.Session()\n",
    "sess.run(tf.global_variables_initializer())\n",
    "\n",
    "print(sess.run(a0))\n",
    "print(sess.run(a1))\n",
    "\n",
    "sess.close()"
   ]
  },
  {
   "cell_type": "code",
   "execution_count": null,
   "metadata": {
    "collapsed": false
   },
   "outputs": [],
   "source": [
    "import tensorflow as tf\n",
    "\n",
    "t0 = tf.Variable(tf.random_uniform([5,2]))\n",
    "\n",
    "C = tf.TensorArray(dtype=tf.float32, size=5)\n",
    "C = C.unpack(t0)\n",
    "c0 = C.read(0)\n",
    "c1 = C.read(1)\n",
    "c2 = C.read(2)\n",
    "c3 = C.read(3)\n",
    "c4 = C.read(4)\n",
    "\n",
    "sess = tf.Session()\n",
    "sess.run(tf.global_variables_initializer())\n",
    "\n",
    "print(sess.run(c0))\n",
    "print(sess.run(c1))\n",
    "\n",
    "sess.close()"
   ]
  },
  {
   "cell_type": "code",
   "execution_count": null,
   "metadata": {
    "collapsed": false
   },
   "outputs": [],
   "source": [
    "import tensorflow as tf\n",
    "\n",
    "D = tf.TensorArray(dtype=tf.float32, size= 5)\n",
    "\n",
    "D = D.write(0,c0)\n",
    "D = D.write(1,c1)\n",
    "D = D.write(2,c2)\n",
    "D = D.write(3,c3)\n",
    "D = D.write(4,c4)\n",
    "d = D.pack()\n",
    "sess = tf.Session()\n",
    "sess.run(tf.global_variables_initializer())\n",
    "\n",
    "print(sess.run(d))\n",
    "\n",
    "sess.close()"
   ]
  },
  {
   "cell_type": "code",
   "execution_count": null,
   "metadata": {
    "collapsed": false
   },
   "outputs": [],
   "source": [
    "help(tf.TensorArray.pack)"
   ]
  },
  {
   "cell_type": "code",
   "execution_count": null,
   "metadata": {
    "collapsed": false
   },
   "outputs": [],
   "source": [
    "import tensorflow as tf\n",
    "\n",
    "t0 = tf.Variable([1, 2, 3, 4])\n",
    "print(t0)\n",
    "\n",
    "sess = tf.Session()\n",
    "sess.run(tf.global_variables_initializer())\n",
    "\n",
    "print(sess.run(tf.diag(t0)))\n",
    "\n",
    "sess.close()"
   ]
  },
  {
   "cell_type": "code",
   "execution_count": null,
   "metadata": {
    "collapsed": false
   },
   "outputs": [],
   "source": [
    "import tensorflow as tf\n",
    "\n",
    "t0 = tf.Variable(tf.random_uniform([2,2]))\n",
    "print(t0)\n",
    "\n",
    "sess = tf.Session()\n",
    "sess.run(tf.global_variables_initializer())\n",
    "\n",
    "print(sess.run(tf.matrix_inverse(t0)))\n",
    "\n",
    "sess.close()"
   ]
  },
  {
   "cell_type": "code",
   "execution_count": null,
   "metadata": {
    "collapsed": false
   },
   "outputs": [],
   "source": [
    "import tensorflow as tf\n",
    "\n",
    "t0 = tf.Variable(tf.random_uniform([2,2]))\n",
    "print(t0)\n",
    "\n",
    "sess = tf.Session()\n",
    "sess.run(tf.global_variables_initializer())\n",
    "\n",
    "print(sess.run(tf.matrix_determinant(t0)))\n",
    "\n",
    "sess.close()"
   ]
  },
  {
   "cell_type": "code",
   "execution_count": null,
   "metadata": {
    "collapsed": false
   },
   "outputs": [],
   "source": [
    "import tensorflow as tf\n",
    "\n",
    "t0 = tf.Variable(tf.random_uniform([5,2]))\n",
    "t1 = tf.Variable(tf.random_uniform([2,5]))\n",
    "\n",
    "sess = tf.Session()\n",
    "sess.run(tf.global_variables_initializer())\n",
    "\n",
    "print(sess.run(tf.matmul(t0,t1)))\n",
    "\n",
    "sess.close()"
   ]
  },
  {
   "cell_type": "code",
   "execution_count": null,
   "metadata": {
    "collapsed": false
   },
   "outputs": [],
   "source": [
    "import tensorflow as tf\n",
    "\n",
    "t0 = tf.Variable(tf.random_uniform([3,3]))\n",
    "\n",
    "\n",
    "sess = tf.Session()\n",
    "sess.run(tf.global_variables_initializer())\n",
    "print(sess.run(t0))\n",
    "print(sess.run(tf.trace(t0)))\n",
    "\n",
    "sess.close()"
   ]
  },
  {
   "cell_type": "code",
   "execution_count": null,
   "metadata": {
    "collapsed": false
   },
   "outputs": [],
   "source": [
    "import tensorflow as tf\n",
    "\n",
    "t0 = tf.Variable([1, 2, 3, 4])\n",
    "print(t0)\n",
    "\n",
    "sess = tf.Session()\n",
    "sess.run(tf.global_variables_initializer())\n",
    "\n",
    "print(sess.run(tf.diag(t0)))\n",
    "print(sess.run(tf.trace(tf.diag(t0))))\n",
    "\n",
    "sess.close()"
   ]
  },
  {
   "cell_type": "code",
   "execution_count": null,
   "metadata": {
    "collapsed": false
   },
   "outputs": [],
   "source": [
    "import tensorflow as tf\n",
    "# Construct one identity matrix.\n",
    "\n",
    "sess = tf.Session()\n",
    "sess.run(tf.global_variables_initializer())\n",
    "\n",
    "print(sess.run(tf.eye(2)))\n",
    "\n",
    "\n",
    "sess.close()\n"
   ]
  },
  {
   "cell_type": "code",
   "execution_count": null,
   "metadata": {
    "collapsed": false
   },
   "outputs": [],
   "source": [
    "import tensorflow as tf\n",
    "\n",
    "t0 = tf.constant([[1, 2, 3], [4, 5, 6]])\n",
    "sess = tf.Session()\n",
    "sess.run(tf.global_variables_initializer())\n",
    "\n",
    "print(sess.run(tf.zeros_like(t0)))\n",
    "\n",
    "sess.close()"
   ]
  },
  {
   "cell_type": "code",
   "execution_count": null,
   "metadata": {
    "collapsed": false
   },
   "outputs": [],
   "source": [
    "\n",
    "import tensorflow as tf\n",
    "\n",
    "t0 = tf.ones([3, 3], tf.int32)\n",
    "sess = tf.Session()\n",
    "sess.run(tf.global_variables_initializer())\n",
    "\n",
    "print(sess.run(t0))\n",
    "print(sess.run(tf.ones_like(t0)))\n",
    "\n",
    "sess.close()"
   ]
  },
  {
   "cell_type": "code",
   "execution_count": null,
   "metadata": {
    "collapsed": false
   },
   "outputs": [],
   "source": [
    "\n",
    "import tensorflow as tf\n",
    "\n",
    "# Output tensor has shape [2, 3].\n",
    "t0 = tf.fill([2, 3], 9)\n",
    "sess = tf.Session()\n",
    "sess.run(tf.global_variables_initializer())\n",
    "\n",
    "print(sess.run(t0))\n",
    "\n",
    "sess.close()\n"
   ]
  },
  {
   "cell_type": "code",
   "execution_count": null,
   "metadata": {
    "collapsed": false
   },
   "outputs": [],
   "source": [
    "import tensorflow as tf\n",
    "\n",
    "t0 = tf.linspace(10.0, 12.0, 3, name=\"linspace\")\n",
    "\n",
    "sess = tf.Session()\n",
    "sess.run(tf.global_variables_initializer())\n",
    "\n",
    "print(sess.run(t0))\n",
    "\n",
    "sess.close()"
   ]
  },
  {
   "cell_type": "code",
   "execution_count": null,
   "metadata": {
    "collapsed": false
   },
   "outputs": [],
   "source": [
    "import tensorflow as tf\n",
    "# 'start' is 3 'limit' is 18  'delta' is 3\n",
    "t0 = tf.range(3, 18, 3) \n",
    "\n",
    "# 'start' is 3,  'limit' is 1 'delta' is -0.5\n",
    "t1 = tf.range(3, 1, -0.5)\n",
    "\n",
    "# 'limit' is 5\n",
    "t2 = tf.range(5) \n",
    "sess = tf.Session()\n",
    "sess.run(tf.global_variables_initializer())\n",
    "\n",
    "print(sess.run(t0))\n",
    "print(sess.run(t1))\n",
    "print(sess.run(t2))\n",
    "\n",
    "sess.close()"
   ]
  },
  {
   "cell_type": "code",
   "execution_count": null,
   "metadata": {
    "collapsed": false
   },
   "outputs": [],
   "source": [
    "import tensorflow as tf\n",
    "norm = tf.random_normal([2, 3], mean=-1, stddev=4)\n",
    "print(norm)\n",
    "\n",
    "sess = tf.Session()\n",
    "sess.run(tf.global_variables_initializer())\n",
    "\n",
    "print(sess.run(norm))\n",
    "\n",
    "\n",
    "sess.close()"
   ]
  },
  {
   "cell_type": "code",
   "execution_count": null,
   "metadata": {
    "collapsed": false
   },
   "outputs": [],
   "source": [
    "import tensorflow as tf\n",
    "# Shuffle the first dimension of a tensor\n",
    "\n",
    "c = tf.constant([[1, 2], [3, 4], [5, 6]])\n",
    "shuff = tf.random_shuffle(c)\n",
    "\n",
    "sess = tf.Session()\n",
    "sess.run(tf.global_variables_initializer())\n",
    "\n",
    "print(sess.run(shuff))\n",
    "\n",
    "sess.close()"
   ]
  },
  {
   "cell_type": "code",
   "execution_count": null,
   "metadata": {
    "collapsed": false
   },
   "outputs": [],
   "source": [
    "import tensorflow as tf\n",
    "# Set an op-level seed to generate repeatable sequences across sessions.\n",
    "norm = tf.random_normal([2, 3], seed=1234)\n",
    "sess = tf.Session()\n",
    "print(sess.run(norm))\n",
    "print(sess.run(norm))\n",
    "sess = tf.Session()\n",
    "print(sess.run(norm))\n",
    "print(sess.run(norm))\n",
    "\n",
    "sess.close()"
   ]
  },
  {
   "cell_type": "code",
   "execution_count": null,
   "metadata": {
    "collapsed": false
   },
   "outputs": [],
   "source": [
    "import tensorflow as tf\n",
    "# Use random uniform values in [0, 1) as the initializer for a variable of shape\n",
    "# [2, 3]. The default type is float32.\n",
    "var = tf.Variable(tf.random_uniform([2, 3]), name=\"var\")\n",
    "init = tf.global_variables_initializer()\n",
    "\n",
    "sess = tf.Session()\n",
    "sess.run(init)\n",
    "print(sess.run(var))"
   ]
  },
  {
   "cell_type": "code",
   "execution_count": null,
   "metadata": {
    "collapsed": false
   },
   "outputs": [],
   "source": [
    "import tensorflow as tf\n",
    "\n",
    "nbins = 5\n",
    "value_range = [0.0, 5.0]\n",
    "new_values = [-1.0, 0.0, 1.5, 2.0, 5.0, 15]\n",
    "init = tf.global_variables_initializer()\n",
    "\n",
    "with tf.Session() as sess:\n",
    "    \n",
    "    hist = tf.histogram_fixed_width(new_values, value_range, nbins=5)\n",
    "    sess.run(init)\n",
    "    print(sess.run(hist))"
   ]
  },
  {
   "cell_type": "code",
   "execution_count": null,
   "metadata": {
    "collapsed": false
   },
   "outputs": [],
   "source": [
    "%matplotlib inline\n",
    "import matplotlib.pyplot as plt\n",
    "x = [-1.0, 0.0, 1.5, 2.0, 5.0, 15]\n",
    "\n",
    "plt.hist(x,bins=5,range=[0.0,5.0])\n",
    "plt.show()"
   ]
  },
  {
   "cell_type": "code",
   "execution_count": null,
   "metadata": {
    "collapsed": false
   },
   "outputs": [],
   "source": [
    "\n",
    "import tensorflow as tf\n",
    "# tf.identity(input, name=None)\n",
    "norm = tf.random_normal([2, 3], seed=1234)\n",
    "anorm = tf.identity(norm )\n",
    "print(norm is anorm)\n",
    "\n",
    "sess = tf.Session()\n",
    "print(sess.run(anorm))\n",
    "sess = tf.Session()\n",
    "print(sess.run(norm))\n",
    "\n",
    "sess.close()"
   ]
  },
  {
   "cell_type": "code",
   "execution_count": null,
   "metadata": {
    "collapsed": false
   },
   "outputs": [],
   "source": [
    "\n",
    "import tensorflow as tf\n",
    "import pprint\n",
    "# tf.tuple(tensors, name=None, control_inputs=None)\n",
    "norm1 = tf.random_normal([2, 3])\n",
    "norm2 = tf.random_normal([2, 3])\n",
    "\n",
    "atuple = tf.tuple((norm1,norm2))\n",
    "print(type(atuple))\n",
    "print(type(atuple[0]))\n",
    "\n",
    "pprint.pprint(atuple)\n",
    "\n",
    "sess = tf.Session()\n",
    "result = sess.run(atuple)\n",
    "pprint.pprint(result)\n",
    "print(type(result[0]))\n",
    "\n",
    "sess.close()"
   ]
  },
  {
   "cell_type": "code",
   "execution_count": null,
   "metadata": {
    "collapsed": false
   },
   "outputs": [],
   "source": [
    "import tensorflow as tf\n",
    "\n",
    "# tf.cond(pred, fn1, fn2, name=None)\n",
    "x = tf.constant(1)\n",
    "y = tf.constant(2)\n",
    "z = tf.mul(x, y)\n",
    "result = tf.cond(x < y, lambda: tf.add(x, z), lambda: tf.square(y))\n",
    "\n",
    "sess = tf.Session()\n",
    "result = sess.run(result)\n",
    "print(result)\n",
    "sess.close()"
   ]
  },
  {
   "cell_type": "code",
   "execution_count": null,
   "metadata": {
    "collapsed": false
   },
   "outputs": [],
   "source": [
    "# Pseudocode: if (x < y) return 17; else return 23;\n",
    "\n",
    "import tensorflow as tf\n",
    "\n",
    "# tf.case(pred_fn_pairs, default, exclusive=False, name='case')\n",
    "f1 = lambda: tf.constant(17)\n",
    "f2 = lambda: tf.constant(23)\n",
    "x = tf.constant(1)\n",
    "y = tf.constant(2)\n",
    "\n",
    "result = tf.case([(tf.less(x, y), f1)], default=f2)\n",
    "\n",
    "sess = tf.Session()\n",
    "result = sess.run(result)\n",
    "print(result)\n",
    "sess.close()"
   ]
  },
  {
   "cell_type": "code",
   "execution_count": null,
   "metadata": {
    "collapsed": false
   },
   "outputs": [],
   "source": [
    "import tensorflow as tf\n",
    "# tf.while_loop(cond, body, loop_vars, shape_invariants=None, \n",
    "# parallel_iterations=10, back_prop=True, swap_memory=False, name=None)\n",
    "# loop variable\n",
    "i = tf.constant(0) \n",
    "# condition\n",
    "c = lambda i: tf.less(i, 10) \n",
    "# body\n",
    "b = lambda i: tf.add(i, 1) \n",
    "result = tf.while_loop(c, b, [i])\n",
    "\n",
    "sess = tf.Session()\n",
    "result = sess.run(result)\n",
    "print(result)\n",
    "sess.close()"
   ]
  },
  {
   "cell_type": "code",
   "execution_count": null,
   "metadata": {
    "collapsed": false
   },
   "outputs": [],
   "source": [
    "import tensorflow as tf\n",
    "import numpy as np\n",
    "\n",
    "def body(x):\n",
    "    a = tf.random_uniform(shape=[2, 2], dtype=tf.int32, maxval=100)\n",
    "    b = tf.constant(np.array([[1, 2], [3, 4]]), dtype=tf.int32)\n",
    "    c = a + b\n",
    "    return tf.nn.relu(x + c)\n",
    "\n",
    "def condition(x):\n",
    "    return tf.reduce_sum(x) < 100\n",
    "\n",
    "x = tf.Variable(tf.constant(0, shape=[2, 2]))\n",
    "\n",
    "with tf.Session():\n",
    "    tf.global_variables_initializer().run()\n",
    "    result = tf.while_loop(condition, body, [x])\n",
    "    print(result.eval())"
   ]
  },
  {
   "cell_type": "code",
   "execution_count": null,
   "metadata": {
    "collapsed": false
   },
   "outputs": [],
   "source": [
    "import tensorflow as tf\n",
    "\n",
    "x = tf.constant(True)\n",
    "y = tf.constant(False)\n",
    "\n",
    "land = tf.logical_and(x,y)\n",
    "lor  = tf.logical_or(x,y)\n",
    "lxor  = tf.logical_xor(x,y)\n",
    "lnot  = tf.logical_not(x)\n",
    "with tf.Session():\n",
    "    print(land.eval())\n",
    "    print(lor.eval())\n",
    "    print(lxor.eval())\n",
    "    print(lnot.eval())"
   ]
  },
  {
   "cell_type": "code",
   "execution_count": null,
   "metadata": {
    "collapsed": false
   },
   "outputs": [],
   "source": [
    "import tensorflow as tf\n",
    "\n",
    "x = tf.constant(1)\n",
    "y = tf.constant(2)\n",
    "z = tf.constant(2)\n",
    "\n",
    "leq = tf.equal(x,y)\n",
    "lneq = tf.not_equal(x,y)\n",
    "less = tf.less(x,y)\n",
    "lgr = tf.greater(x,y)\n",
    "lgre = tf.greater_equal(z,y)\n",
    "with tf.Session():\n",
    "    print(leq.eval())\n",
    "    print(lneq.eval())\n",
    "    print(less.eval())\n",
    "    print(lgr.eval())\n",
    "    print(lgre.eval())"
   ]
  },
  {
   "cell_type": "code",
   "execution_count": null,
   "metadata": {
    "collapsed": false
   },
   "outputs": [],
   "source": [
    "import tensorflow as tf\n",
    "cond1 = tf.constant([[True,  False], [False, True]])\n",
    "t = tf.constant([[1, 2], [3, 4]])\n",
    "e = tf.constant([[5, 6], [7, 8]])\n",
    "\n",
    "sel1 = tf.select(cond1, t, e) \n",
    "\n",
    "cond2 = tf.constant([True, False])\n",
    "sel2 = tf.select(cond2, t, e) \n",
    "\n",
    "with tf.Session():\n",
    "    print(sel1.eval())\n",
    "    print(sel2.eval())"
   ]
  },
  {
   "cell_type": "code",
   "execution_count": null,
   "metadata": {
    "collapsed": false
   },
   "outputs": [],
   "source": [
    "\n",
    "import tensorflow as tf\n",
    "# tf.where(condition, x=None, y=None, name=None)\n",
    "cond1 = tf.constant(True, dtype=tf.bool)\n",
    "cond2 = tf.constant([[True, True], [False, False]], dtype=tf.bool)\n",
    "ts = tf.constant(100)\n",
    "es = tf.constant(500)\n",
    "tv = tf.constant([[1, 2], [3, 4]])\n",
    "ev = tf.constant([[5, 6], [7, 8]])\n",
    "\n",
    "wh1 = tf.where(cond1, ts, es)\n",
    "wh2 = tf.where(cond2, tv, ev)\n",
    "with tf.Session():\n",
    "    print(wh1.eval())\n",
    "    print(wh2.eval())"
   ]
  },
  {
   "cell_type": "code",
   "execution_count": null,
   "metadata": {
    "collapsed": false
   },
   "outputs": [],
   "source": [
    "\n",
    "import tensorflow as tf\n",
    "# tf.where(condition, x=None, y=None, name=None)\n",
    "myOtherTensor = tf.constant([[True, True], [False, True]])\n",
    "\n",
    "myTensor = tf.where(myOtherTensor)\n",
    "\n",
    "countTrue = tf.shape(myTensor) \n",
    "\n",
    "sess = tf.Session()\n",
    "print(sess.run(myTensor))\n",
    "sum = sess.run(countTrue)\n",
    "print(sum)\n",
    "import tensorflow as tfsess.close()"
   ]
  },
  {
   "cell_type": "code",
   "execution_count": null,
   "metadata": {
    "collapsed": false
   },
   "outputs": [],
   "source": [
    "import tensorflow as tf\n",
    "# tf.map_fn(fn, elems, dtype=None, parallel_iterations=10,\n",
    "# back_prop=True, swap_memory=False, infer_shape=True, name=None)\n",
    "\n",
    "elems = np.array([1, 2, 3, 4, 5, 6])\n",
    "squares = tf.map_fn(lambda x: x * x, elems)\n",
    "print(type(squares))\n",
    "with tf.Session():\n",
    "    print(squares.eval())"
   ]
  },
  {
   "cell_type": "code",
   "execution_count": null,
   "metadata": {
    "collapsed": false
   },
   "outputs": [],
   "source": [
    "import tensorflow as tf\n",
    "# tf.foldl(fn, elems, initializer=None, parallel_iterations=10,\n",
    "# back_prop=True, swap_memory=False, name=None)\n",
    "\n",
    "elems = [1, 2, 3, 4, 5, 6]\n",
    "suml = tf.foldl(lambda a, x: a + x, elems) \n",
    "sumr = tf.foldr(lambda a, x: a + x, elems)\n",
    "print(type(suml))\n",
    "print(type(sumr))\n",
    "with tf.Session():\n",
    "    print(suml.eval())\n",
    "    print(sumr.eval())\n"
   ]
  },
  {
   "cell_type": "code",
   "execution_count": null,
   "metadata": {
    "collapsed": false
   },
   "outputs": [],
   "source": [
    "import tensorflow as tf\n",
    "# tf.scan(fn, elems, initializer=None, parallel_iterations=10,\n",
    "# back_prop=True, swap_memory=False, infer_shape=True, name=None)\n",
    "\n",
    "elems = np.array([1, 2, 3, 4, 5, 6])\n",
    "sum = tf.scan(lambda a, x: a + x, elems) \n",
    "\n",
    "print(type(sum))\n",
    "with tf.Session():\n",
    "    print(sum.eval())\n",
    "    "
   ]
  },
  {
   "cell_type": "code",
   "execution_count": null,
   "metadata": {
    "collapsed": false
   },
   "outputs": [],
   "source": [
    "import tensorflow as tf\n",
    "import numpy as np\n",
    "# tf.scan(fn, elems, initializer=None, parallel_iterations=10,\n",
    "# back_prop=True, swap_memory=False, infer_shape=True, name=None)\n",
    "\n",
    "elems = np.array([1, 0, 0, 0, 0, 0]) \n",
    "initializer = (np.array(0), np.array(1)) \n",
    "fibonaccis = tf.scan(lambda a, _: (a[1], a[0] + a[1]), elems, initializer) \n",
    "\n",
    "print(fibonaccis)\n",
    "with tf.Session():\n",
    "    print(fibonaccis[0].eval())\n",
    "    print(fibonaccis[1].eval())"
   ]
  },
  {
   "cell_type": "code",
   "execution_count": null,
   "metadata": {
    "collapsed": false
   },
   "outputs": [],
   "source": [
    "import tensorflow as tf\n",
    "import numpy as np\n",
    "# tf.scan(fn, elems, initializer=None, parallel_iterations=10,\n",
    "# back_prop=True, swap_memory=False, infer_shape=True, name=None)\n",
    "\n",
    "elems = np.array([1, 0, 0, 0, 0, 0]) \n",
    "initializer = (np.array(0), np.array(1)) \n",
    "fibonaccis = tf.scan(lambda a, _: (a[1], a[0] + a[1]), elems, initializer) \n",
    "\n",
    "print(fibonaccis)\n",
    "with tf.Session():\n",
    "    print(fibonaccis[0].eval())\n",
    "    print(fibonaccis[1].eval())"
   ]
  },
  {
   "cell_type": "code",
   "execution_count": null,
   "metadata": {
    "collapsed": false
   },
   "outputs": [],
   "source": [
    "import tensorflow as tf\n",
    "import numpy as np\n",
    "# tf.scan(fn, elems, initializer=None, parallel_iterations=10,\n",
    "# back_prop=True, swap_memory=False, infer_shape=True, name=None)\n",
    "\n",
    "elems = np.array([1, 2, 3, 4, 5, 6])\n",
    "initializer = np.array(0) \n",
    "sum_one = tf.scan( lambda a, x: x[0] - x[1] + a, (elems + 1, elems), initializer)\n",
    "\n",
    "print(sum_one)\n",
    "with tf.Session():\n",
    "    print(sum_one.eval())"
   ]
  },
  {
   "cell_type": "code",
   "execution_count": null,
   "metadata": {
    "collapsed": false
   },
   "outputs": [],
   "source": [
    "import tensorflow as tf\n",
    "\n",
    "def fn(previous_output, current_input):\n",
    "    return previous_output + current_input\n",
    "\n",
    "elems = tf.Variable([1.0, 2.0, 2.0, 2.0])\n",
    "elems = tf.identity(elems)\n",
    "\n",
    "initializer = tf.constant(0.0)\n",
    "out = tf.scan(fn, elems, initializer=initializer)\n",
    "\n",
    "with tf.Session() as sess:\n",
    "    sess.run(tf.global_variables_initializer())\n",
    "    print(sess.run(out))"
   ]
  },
  {
   "cell_type": "code",
   "execution_count": null,
   "metadata": {
    "collapsed": false
   },
   "outputs": [],
   "source": [
    "import tensorflow as tf\n",
    "\n",
    "def fn(previous_output, current_input):\n",
    "    print(previous_output, current_input)\n",
    "    return previous_output + current_input\n",
    "\n",
    "elems = tf.Variable([1.0, 2.0, 2.0, 2.0])\n",
    "elems = tf.identity(elems)\n",
    "\n",
    "\n",
    "out = tf.scan(fn, elems)\n",
    "\n",
    "with tf.Session() as sess:\n",
    "    sess.run(tf.global_variables_initializer())\n",
    "    print(sess.run(out))"
   ]
  },
  {
   "cell_type": "code",
   "execution_count": null,
   "metadata": {
    "collapsed": false
   },
   "outputs": [],
   "source": [
    "import tensorflow as tf\n",
    "\n",
    "a = tf.placeholder(\"float\")\n",
    "b = tf.placeholder(\"float\")\n",
    "\n",
    "y = tf.mul(a, b)\n",
    "z = tf.add(y,y)\n",
    "\n",
    "elems = tf.Variable([1.0, 2.0, 2.0, 2.0])\n",
    "\n",
    "with tf.Session() as sess:\n",
    "    sess.run(tf.global_variables_initializer())\n",
    "    # feed로 호출하기\n",
    "    print(sess.run(y, feed_dict={a: 3, b: 3}))\n",
    "    #placeholder를  다시 사용할 때는 재할당 필요\n",
    "    print(sess.run(z,feed_dict={a: 4, b: 4} ))\n",
    "    # fetch로 호출하기\n",
    "    print(sess.run(out))"
   ]
  },
  {
   "cell_type": "code",
   "execution_count": null,
   "metadata": {
    "collapsed": false
   },
   "outputs": [],
   "source": [
    "import tensorflow as tf\n",
    "\n",
    "a = tf.constant(1)\n",
    "print(a)\n",
    "with tf.Session() as sess:\n",
    "    print(a.eval())"
   ]
  },
  {
   "cell_type": "code",
   "execution_count": null,
   "metadata": {
    "collapsed": false
   },
   "outputs": [],
   "source": [
    "import tensorflow as tf\n",
    "\n",
    "with tf.Session() as sess:\n",
    "    print(tf.add(1,1).eval())"
   ]
  },
  {
   "cell_type": "code",
   "execution_count": null,
   "metadata": {
    "collapsed": false
   },
   "outputs": [],
   "source": [
    "import numpy as np\n",
    "\n",
    "num_puntos = 1000\n",
    "conjunto_puntos = []\n",
    "\n",
    "for i in range(num_puntos):\n",
    "    x1= np.random.normal(0.0, 0.55)\n",
    "    y1= x1 * 0.1 + 0.3 + np.random.normal(0.0, 0.03)\n",
    "    conjunto_puntos.append([x1, y1])\n",
    "x_data = [v[0] for v in conjunto_puntos]\n",
    "y_data = [v[1] for v in conjunto_puntos]\n",
    "\n",
    "import matplotlib.pyplot as plt\n",
    "plt.plot(x_data, y_data, 'ro', label='Original data')\n",
    "plt.legend()\n",
    "plt.show() "
   ]
  },
  {
   "cell_type": "code",
   "execution_count": null,
   "metadata": {
    "collapsed": false
   },
   "outputs": [],
   "source": [
    "import tensorflow as tf\n",
    "W = tf.Variable(tf.random_uniform([1], -1.0, 1.0))\n",
    "b = tf.Variable(tf.zeros([1]))\n",
    "y = W * x_data + b\n",
    "loss = tf.reduce_mean(tf.square(y - y_data))\n",
    "optimizer = tf.train.GradientDescentOptimizer(0.25)\n",
    "train = optimizer.minimize(loss)\n",
    "init = tf.global_variables_initializer()\n",
    "sess = tf.Session()\n",
    "sess.run(init)\n",
    "for step in range(16):\n",
    "    sess.run(train)\n",
    "    print(step,sess.run(W),sess.run(b))\n",
    "    print(step,sess.run(loss))\n",
    "    plt.plot(x_data, y_data, 'ro', label='train data')\n",
    "    plt.plot(x_data, sess.run(W) * x_data + sess.run(b))\n",
    "    plt.xlabel('x')\n",
    "    plt.xlim(-2,2)\n",
    "    plt.ylim(0.1,0.6)\n",
    "    plt.ylabel('y')\n",
    "    plt.legend()\n",
    "    plt.show()"
   ]
  },
  {
   "cell_type": "code",
   "execution_count": null,
   "metadata": {
    "collapsed": false
   },
   "outputs": [],
   "source": [
    "import tensorflow as tf\n",
    "import matplotlib.pyplot as plt\n",
    "\n",
    "W = tf.Variable(tf.random_uniform([1], -1.0, 1.0))\n",
    "b = tf.Variable(tf.zeros([1]))\n",
    "y = W * x_data + b\n",
    "loss = tf.reduce_mean(tf.square(y - y_data))\n",
    "optimizer = tf.train.GradientDescentOptimizer(0.15)\n",
    "train = optimizer.minimize(loss)\n",
    "init = tf.global_variables_initializer()\n",
    "sess = tf.Session()\n",
    "sess.run(init)\n",
    "for step in range(51):\n",
    "    sess.run(train)\n",
    "    print(step,sess.run(W),sess.run(b))\n",
    "    print(step,sess.run(loss))\n",
    "    plt.plot(x_data, y_data, 'ro', label='train data')\n",
    "    plt.plot(x_data, sess.run(W) * x_data + sess.run(b))\n",
    "    plt.xlabel('x')\n",
    "    plt.xlim(-2,2)\n",
    "    plt.ylim(0.1,0.6)\n",
    "    plt.ylabel('y')\n",
    "    plt.legend()\n",
    "    plt.show()\n",
    "print(step,sess.run(W),sess.run(b))\n",
    "print(step,sess.run(loss))"
   ]
  },
  {
   "cell_type": "code",
   "execution_count": null,
   "metadata": {
    "collapsed": false,
    "scrolled": true
   },
   "outputs": [],
   "source": [
    "!pip install --upgrade https://storage.googleapis.com/tensorflow/windows/cpu/tensorflow-1.0.0a0-cp35-cp35m-win_amd64.whl"
   ]
  },
  {
   "cell_type": "code",
   "execution_count": null,
   "metadata": {
    "collapsed": false
   },
   "outputs": [],
   "source": [
    "!pip list"
   ]
  },
  {
   "cell_type": "code",
   "execution_count": null,
   "metadata": {
    "collapsed": false
   },
   "outputs": [],
   "source": [
    "!pip install --upgrade tensorflow"
   ]
  },
  {
   "cell_type": "code",
   "execution_count": null,
   "metadata": {
    "collapsed": false
   },
   "outputs": [],
   "source": [
    "import numpy as np\n",
    "a = np.array([1,2,3,4,5])\n",
    "print(np.ndim(a))\n",
    "print(np.shape(a))\n",
    "print(np.size(a))"
   ]
  },
  {
   "cell_type": "code",
   "execution_count": null,
   "metadata": {
    "collapsed": false
   },
   "outputs": [],
   "source": [
    "import tensorflow as tf\n",
    "ta = tf.constant([1,2,3,4,5])\n",
    "\n",
    "with tf.Session() as sess :\n",
    "    print(sess.run(tf.rank(ta)))\n",
    "    print(sess.run(tf.shape(ta)))\n",
    "    print(sess.run(tf.size(ta)))"
   ]
  },
  {
   "cell_type": "code",
   "execution_count": null,
   "metadata": {
    "collapsed": false
   },
   "outputs": [],
   "source": [
    "import numpy as np\n",
    "a = np.zeros((1,3,1,2))\n",
    "print(a)\n",
    "print(np.squeeze(a))"
   ]
  },
  {
   "cell_type": "code",
   "execution_count": null,
   "metadata": {
    "collapsed": false
   },
   "outputs": [],
   "source": [
    "import tensorflow as tf\n",
    "ta = tf.zeros((1,3,1,2))\n",
    "\n",
    "with tf.Session() as sess :\n",
    "    print(sess.run(ta))\n",
    "    print(sess.run(tf.squeeze(ta)))\n",
    "    "
   ]
  },
  {
   "cell_type": "code",
   "execution_count": null,
   "metadata": {
    "collapsed": false
   },
   "outputs": [],
   "source": [
    "import tensorflow as tf\n",
    "ta = tf.constant([1,2,3,4,5])\n",
    "\n",
    "with tf.Session() as sess :\n",
    "    print(sess.run(ta))\n",
    "    e0 = tf.expand_dims(ta,0)\n",
    "    print(sess.run(tf.shape(e0)))\n",
    "    e1 = tf.expand_dims(ta,1)\n",
    "    print(sess.run(tf.shape(e1)))\n",
    "    e11 = tf.expand_dims(ta,1)\n",
    "    print(sess.run(tf.shape(e11)))"
   ]
  },
  {
   "cell_type": "code",
   "execution_count": null,
   "metadata": {
    "collapsed": false
   },
   "outputs": [],
   "source": [
    "import numpy as np\n",
    "x = [1, 2, 3]\n",
    "y = [4, 5, 6]\n",
    "\n",
    "print(np.meshgrid(x,y))"
   ]
  },
  {
   "cell_type": "code",
   "execution_count": null,
   "metadata": {
    "collapsed": false
   },
   "outputs": [],
   "source": [
    "import tensorflow as tf\n",
    "# tf.reverse(tensor, dims, name=None)\n",
    "\n",
    "ta = tf.constant([1,2,3,4,5])\n",
    "ta2 = tf.constant([[3,6,9],[0,1,2]])\n",
    "\n",
    "with tf.Session() as sess :\n",
    "    print(tf.reverse(ta,[True]).eval())\n",
    "    print(sess.run(tf.reverse(ta2,[True,True])))\n",
    "    print(sess.run(tf.reverse(ta2,[True,False])))"
   ]
  },
  {
   "cell_type": "code",
   "execution_count": null,
   "metadata": {
    "collapsed": false
   },
   "outputs": [],
   "source": [
    "import tensorflow as tf\n",
    "v = tf.Variable(tf.truncated_normal([2, 3]))\n",
    "# Use `initialized_value` to guarantee that `v` has been\n",
    "# initialized before its value is used to initialize `w`.\n",
    "# The random values are picked only once.\n",
    "vi = v.initialized_value()\n",
    "vi1 = v.initialized_value()\n",
    "w = tf.Variable(vi* 2.0)\n",
    "\n",
    "init = tf.global_variables_initializer()\n",
    "with tf.Session() as sess :\n",
    "    init.run()\n",
    "    print(vi.eval())\n",
    "    print(vi1.eval())\n",
    "    print(w.eval())\n"
   ]
  },
  {
   "cell_type": "code",
   "execution_count": null,
   "metadata": {
    "collapsed": false
   },
   "outputs": [],
   "source": [
    "import tensorflow as tf\n",
    "c = tf.constant(10)\n",
    "v = tf.Variable(c)\n",
    "\n",
    "init = tf.global_variables_initializer()\n",
    "with tf.Session() as sess :\n",
    "    init.run()\n",
    "    print(v.assign(100).eval())\n",
    "    print(v.assign_add(99).eval())\n",
    "    print(v.assign_sub(189).eval())"
   ]
  },
  {
   "cell_type": "code",
   "execution_count": null,
   "metadata": {
    "collapsed": false
   },
   "outputs": [],
   "source": [
    "import tensorflow as tf\n",
    "v = tf.Variable([1, 2])\n",
    "init = tf.global_variables_initializer()\n",
    "\n",
    "with tf.Session() as sess:\n",
    "    sess.run(init)\n",
    "    # Usage passing the session explicitly.\n",
    "    print(v.eval(sess))\n",
    "    \n",
    "    # Usage with the default session.  The 'with' block\n",
    "    # above makes 'sess' the default session.\n",
    "    print(v.eval())"
   ]
  },
  {
   "cell_type": "code",
   "execution_count": null,
   "metadata": {
    "collapsed": false
   },
   "outputs": [],
   "source": [
    "import tensorflow as tf\n",
    "\n",
    "init = tf.global_variables_initializer()\n",
    "\n",
    "with tf.Session() as sess:\n",
    "    sess.run(init)\n",
    "    print(tf.local_variables())"
   ]
  },
  {
   "cell_type": "code",
   "execution_count": null,
   "metadata": {
    "collapsed": false
   },
   "outputs": [],
   "source": [
    "import tensorflow as tf\n",
    "\n",
    "with tf.variable_scope(\"foo\") as foo:\n",
    "    v = tf.Variable(100)\n",
    "    \n",
    "init = tf.global_variables_initializer()\n",
    "\n",
    "with tf.Session() as sess:\n",
    "    sess.run(init)\n",
    "    print(tf.local_variables())"
   ]
  },
  {
   "cell_type": "code",
   "execution_count": null,
   "metadata": {
    "collapsed": false
   },
   "outputs": [],
   "source": [
    "import tensorflow as tf\n",
    "#tf.string_join(inputs, separator=None, name=None)\n",
    "#tf.reduce_join(inputs, reduction_indices, keep_dims=None, separator=None, name=None)\n",
    "\n",
    "a = tf.constant([[\"a\", \"b\"], [\"c\", \"d\"]])\n",
    "\n",
    "with tf.Session() as sess:\n",
    "   \n",
    "    print(tf.string_join(['Hello', 'World'],\"\").eval())\n",
    "    print(tf.reduce_join(a,0).eval())\n",
    "    print(tf.reduce_join(a,1).eval())"
   ]
  },
  {
   "cell_type": "code",
   "execution_count": null,
   "metadata": {
    "collapsed": false
   },
   "outputs": [],
   "source": [
    "import tensorflow as tf\n",
    "#tf.string_split(source, delimiter=' ')\n",
    "a = tf.constant(['Hello World'])\n",
    "b = tf.string_split(a,\" \")\n",
    "\n",
    "with tf.Session() as sess:\n",
    "   \n",
    "    print(tf.shape(a).eval())\n",
    "    print(b.values.eval())\n"
   ]
  },
  {
   "cell_type": "code",
   "execution_count": null,
   "metadata": {
    "collapsed": false
   },
   "outputs": [],
   "source": [
    "import tensorflow as tf\n",
    "\n",
    "sp = tf.SparseTensor(values=[1, 2], indices=[[0, 0], [1, 2]], shape=[3, 4])\n",
    "\n",
    "print(sp.dtype)\n",
    "print(sp.shape)\n",
    "print(sp.values)\n",
    "\n",
    "with tf.Session() as sess:\n",
    "    print(tf.shape(sp).eval())\n",
    "    print(sp.values.eval())\n"
   ]
  },
  {
   "cell_type": "code",
   "execution_count": null,
   "metadata": {
    "collapsed": false
   },
   "outputs": [],
   "source": [
    "import tensorflow as tf\n",
    "# tf.substr(input, pos, len, name=None)\n",
    "\n",
    "indata = tf.constant([b'Hello', b'World'])\n",
    "position = 1\n",
    "length = 3\n",
    "\n",
    "sr = tf.substr(indata,position,length)\n",
    "\n",
    "with tf.Session() as sess:\n",
    "    print(sr.eval())"
   ]
  },
  {
   "cell_type": "code",
   "execution_count": null,
   "metadata": {
    "collapsed": false
   },
   "outputs": [],
   "source": [
    "import tensorflow as tf\n",
    "\n",
    "#tf.encode_base64(input, pad=None, name=None)\n",
    "indata = tf.constant([b'Hello', b'World'])\n",
    "en = tf.encode_base64(indata)\n",
    "\n",
    "# tf.decode_base64(input, name=None)\n",
    "de = tf.decode_base64(en)\n",
    "\n",
    "with tf.Session() as sess:\n",
    "    print(en.eval())\n",
    "    print(de.eval())"
   ]
  },
  {
   "cell_type": "code",
   "execution_count": null,
   "metadata": {
    "collapsed": false
   },
   "outputs": [],
   "source": [
    "import tensorflow as tf\n",
    "\n",
    "help(tf.Tensor)"
   ]
  },
  {
   "cell_type": "code",
   "execution_count": null,
   "metadata": {
    "collapsed": false
   },
   "outputs": [],
   "source": [
    "b = tf.add(3,3, name=\"output\")\n",
    "print(b.name)\n",
    "\n",
    "print(isinstance(b.name, tf.Operation))\n",
    "a = tf.Tensor(b.name,3,tf.int32)\n",
    "print(a)"
   ]
  },
  {
   "cell_type": "code",
   "execution_count": null,
   "metadata": {
    "collapsed": false
   },
   "outputs": [],
   "source": [
    "help(tf.Operation)"
   ]
  },
  {
   "cell_type": "code",
   "execution_count": null,
   "metadata": {
    "collapsed": false
   },
   "outputs": [],
   "source": [
    "import numpy as np\n",
    "x1 = np.linspace(-1.0, 1.0, 10)\n",
    "print(x1) \n",
    "# you will get a linear space directly, \n",
    "# which means that the computation has been performed.\n",
    "\n",
    "import tensorflow as tf\n",
    "x2 = tf.linspace(-1.0, 1.0, 10)\n",
    "print(x2) \n",
    "# you will get Tensor(\"LinSpace_3:0\", shape=(10,), dtype=float32). \n",
    "# The actual computation has not been performed. \n",
    "\n",
    "# We can get the current data flow graph via the following\n",
    "g = tf.get_default_graph()\n",
    "print([op.name for op in g.get_operations()])\n",
    "# the output is ['LinSpace/start', 'LinSpace/stop', 'LinSpace/num', 'LinSpace']\n",
    "\n",
    "# In order to actually perform the computation,\n",
    "# we have to create a tensorflow session and run the graph\n",
    "sess = tf.Session()\n",
    "sess.run(x2)\n",
    "sess.close()"
   ]
  },
  {
   "cell_type": "code",
   "execution_count": null,
   "metadata": {
    "collapsed": false
   },
   "outputs": [],
   "source": [
    "import tensorflow as tf\n",
    "sess = tf.Session()\n",
    "hello = tf.constant('Hello, TensorFlow')\n",
    "print(sess.run(hello))\n",
    "print(str(sess.run(hello),encoding=\"utf-8\"))"
   ]
  },
  {
   "cell_type": "code",
   "execution_count": null,
   "metadata": {
    "collapsed": true
   },
   "outputs": [],
   "source": []
  }
 ],
 "metadata": {
  "anaconda-cloud": {},
  "kernelspec": {
   "display_name": "Python [conda root]",
   "language": "python",
   "name": "conda-root-py"
  },
  "language_info": {
   "codemirror_mode": {
    "name": "ipython",
    "version": 3
   },
   "file_extension": ".py",
   "mimetype": "text/x-python",
   "name": "python",
   "nbconvert_exporter": "python",
   "pygments_lexer": "ipython3",
   "version": "3.5.2"
  }
 },
 "nbformat": 4,
 "nbformat_minor": 1
}

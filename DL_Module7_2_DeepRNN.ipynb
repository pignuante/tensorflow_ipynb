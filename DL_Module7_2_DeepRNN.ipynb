{
 "cells": [
  {
   "cell_type": "markdown",
   "metadata": {},
   "source": [
    "# Bidirectional Recurrent Neural Network (Deep RNN)"
   ]
  },
  {
   "cell_type": "code",
   "execution_count": 1,
   "metadata": {
    "collapsed": true
   },
   "outputs": [],
   "source": [
    "from __future__ import absolute_import\n",
    "from __future__ import division\n",
    "from __future__ import print_function\n",
    "\n",
    "import tensorflow as tf\n",
    "from tensorflow.contrib.rnn.python.ops.core_rnn import static_bidirectional_rnn"
   ]
  },
  {
   "cell_type": "markdown",
   "metadata": {},
   "source": [
    "----------------------------------------------------------------\n",
    "\n",
    "## 1. Data (mnist)"
   ]
  },
  {
   "cell_type": "code",
   "execution_count": 2,
   "metadata": {},
   "outputs": [
    {
     "name": "stdout",
     "output_type": "stream",
     "text": [
      "Extracting D:/2_Edu/tmp/data/train-images-idx3-ubyte.gz\n",
      "Extracting D:/2_Edu/tmp/data/train-labels-idx1-ubyte.gz\n",
      "Extracting D:/2_Edu/tmp/data/t10k-images-idx3-ubyte.gz\n",
      "Extracting D:/2_Edu/tmp/data/t10k-labels-idx1-ubyte.gz\n"
     ]
    }
   ],
   "source": [
    "from tensorflow.examples.tutorials.mnist import input_data\n",
    "mnist = input_data.read_data_sets(\"D:/2_Edu/tmp/data/\", one_hot=True)"
   ]
  },
  {
   "cell_type": "markdown",
   "metadata": {},
   "source": [
    "----------------------------------------------------------------------------------\n",
    "\n",
    "## 2. Bidirectional RNN\n",
    "\n",
    " - 시간 스텝 t에서의 출력값이 이전 시간 스텝 외에, 이후의 시간 스텝 입력값에도 영향을 받을 수 있다\n",
    " - 출력값은 두 RNN의 hidden state에 모두 의존하도록 계산\n",
    "\n",
    "\n",
    "### 2-1. Hyper-parameter"
   ]
  },
  {
   "cell_type": "code",
   "execution_count": 3,
   "metadata": {
    "collapsed": true
   },
   "outputs": [],
   "source": [
    "training_iters  = 200000\n",
    "batch_size      = 128\n",
    "learning_rate   = 0.001\n",
    "display_step    = 10"
   ]
  },
  {
   "cell_type": "markdown",
   "metadata": {},
   "source": [
    "### 2-2. Layer parameter\n",
    "\n",
    " - consider every image row as a sequence of pixels\n",
    " - 28*28px >> 28 sequences of 28 steps"
   ]
  },
  {
   "cell_type": "code",
   "execution_count": 4,
   "metadata": {
    "collapsed": true
   },
   "outputs": [],
   "source": [
    "n_input   = 28\n",
    "n_step    = 28\n",
    "n_hidden  = 128\n",
    "n_classes = 10"
   ]
  },
  {
   "cell_type": "markdown",
   "metadata": {},
   "source": [
    "### 2-3. Input"
   ]
  },
  {
   "cell_type": "code",
   "execution_count": 5,
   "metadata": {
    "collapsed": true
   },
   "outputs": [],
   "source": [
    "x = tf.placeholder(tf.float32, [None, n_step, n_input])\n",
    "y = tf.placeholder(tf.float32, [None, n_classes])\n",
    "\n",
    "weights = {'out': tf.Variable(tf.random_normal([2*n_hidden, n_classes]))}\n",
    "biases  = {'out': tf.Variable(tf.random_normal([n_classes]))}"
   ]
  },
  {
   "cell_type": "markdown",
   "metadata": {},
   "source": [
    "### 2-4. Modeling"
   ]
  },
  {
   "cell_type": "code",
   "execution_count": 6,
   "metadata": {},
   "outputs": [
    {
     "name": "stdout",
     "output_type": "stream",
     "text": [
      "Tensor(\"add:0\", shape=(?, 10), dtype=float32)\n"
     ]
    }
   ],
   "source": [
    "def BiRNN(x, weights, biases):\n",
    "    \n",
    "    ## reshaping for RNN\n",
    "    x = tf.transpose(x, [1,0,2])\n",
    "    x = tf.reshape(x, [-1, n_input])\n",
    "    x = tf.split(x, n_step, 0)\n",
    "\n",
    "    ## LSTM\n",
    "    ##-- fw: forward cell, bw: backward cell\n",
    "    lstm_cell_fw = tf.contrib.rnn.BasicLSTMCell(n_hidden, forget_bias = 1.0)\n",
    "    lstm_cell_bw = tf.contrib.rnn.BasicLSTMCell(n_hidden, forget_bias = 1.0)\n",
    "\n",
    "    \n",
    "    ## Cell Output\n",
    "    outputs, _, _ = tf.contrib.rnn.static_bidirectional_rnn(lstm_cell_fw, lstm_cell_bw, x, dtype = tf.float32)\n",
    "\n",
    "    return tf.matmul(outputs[-1], weights['out']) + biases['out']\n",
    "\n",
    "\n",
    "model = BiRNN(x, weights, biases)\n",
    "print(model)"
   ]
  },
  {
   "cell_type": "markdown",
   "metadata": {},
   "source": [
    "### 2-5. Optimization"
   ]
  },
  {
   "cell_type": "code",
   "execution_count": 7,
   "metadata": {
    "collapsed": true
   },
   "outputs": [],
   "source": [
    "cost      = tf.reduce_mean(tf.nn.softmax_cross_entropy_with_logits(logits = model, labels = y))\n",
    "optimizer = tf.train.AdamOptimizer(learning_rate).minimize(cost)"
   ]
  },
  {
   "cell_type": "markdown",
   "metadata": {},
   "source": [
    "### 2-6. Test Accuracy"
   ]
  },
  {
   "cell_type": "code",
   "execution_count": 8,
   "metadata": {
    "collapsed": true
   },
   "outputs": [],
   "source": [
    "correct_model = tf.equal(tf.argmax(model, 1), tf.argmax(y, 1))\n",
    "accuracy      = tf.reduce_mean(tf.cast(correct_model, tf.float32))"
   ]
  },
  {
   "cell_type": "markdown",
   "metadata": {},
   "source": [
    "### 2-7. tf.Session"
   ]
  },
  {
   "cell_type": "code",
   "execution_count": 9,
   "metadata": {},
   "outputs": [
    {
     "name": "stdout",
     "output_type": "stream",
     "text": [
      "Iter 1280, Minibatch Loss= 2.063506, Training Accuracy= 0.28906\n",
      "Iter 2560, Minibatch Loss= 1.777920, Training Accuracy= 0.41406\n",
      "Iter 3840, Minibatch Loss= 1.368550, Training Accuracy= 0.49219\n",
      "Iter 5120, Minibatch Loss= 1.129501, Training Accuracy= 0.69531\n",
      "Iter 6400, Minibatch Loss= 0.904674, Training Accuracy= 0.75781\n",
      "Iter 7680, Minibatch Loss= 1.202785, Training Accuracy= 0.62500\n",
      "Iter 8960, Minibatch Loss= 0.998449, Training Accuracy= 0.68750\n",
      "Iter 10240, Minibatch Loss= 0.776043, Training Accuracy= 0.76562\n",
      "Iter 11520, Minibatch Loss= 0.476647, Training Accuracy= 0.88281\n",
      "Iter 12800, Minibatch Loss= 0.801440, Training Accuracy= 0.75000\n",
      "Iter 14080, Minibatch Loss= 0.737565, Training Accuracy= 0.72656\n",
      "Iter 15360, Minibatch Loss= 0.392288, Training Accuracy= 0.88281\n",
      "Iter 16640, Minibatch Loss= 0.470018, Training Accuracy= 0.89844\n",
      "Iter 17920, Minibatch Loss= 0.381047, Training Accuracy= 0.85938\n",
      "Iter 19200, Minibatch Loss= 0.272885, Training Accuracy= 0.92188\n",
      "Iter 20480, Minibatch Loss= 0.168999, Training Accuracy= 0.95312\n",
      "Iter 21760, Minibatch Loss= 0.514514, Training Accuracy= 0.85938\n",
      "Iter 23040, Minibatch Loss= 0.162133, Training Accuracy= 0.92969\n",
      "Iter 24320, Minibatch Loss= 0.418397, Training Accuracy= 0.87500\n",
      "Iter 25600, Minibatch Loss= 0.378174, Training Accuracy= 0.89062\n",
      "Iter 26880, Minibatch Loss= 0.250909, Training Accuracy= 0.92188\n",
      "Iter 28160, Minibatch Loss= 0.292148, Training Accuracy= 0.90625\n",
      "Iter 29440, Minibatch Loss= 0.312168, Training Accuracy= 0.89844\n",
      "Iter 30720, Minibatch Loss= 0.352042, Training Accuracy= 0.89844\n",
      "Iter 32000, Minibatch Loss= 0.209691, Training Accuracy= 0.95312\n",
      "Iter 33280, Minibatch Loss= 0.228464, Training Accuracy= 0.93750\n",
      "Iter 34560, Minibatch Loss= 0.216550, Training Accuracy= 0.95312\n",
      "Iter 35840, Minibatch Loss= 0.216312, Training Accuracy= 0.92969\n",
      "Iter 37120, Minibatch Loss= 0.290419, Training Accuracy= 0.90625\n",
      "Iter 38400, Minibatch Loss= 0.143450, Training Accuracy= 0.94531\n",
      "Iter 39680, Minibatch Loss= 0.136647, Training Accuracy= 0.93750\n",
      "Iter 40960, Minibatch Loss= 0.387954, Training Accuracy= 0.85156\n",
      "Iter 42240, Minibatch Loss= 0.122837, Training Accuracy= 0.96094\n",
      "Iter 43520, Minibatch Loss= 0.216207, Training Accuracy= 0.92969\n",
      "Iter 44800, Minibatch Loss= 0.237776, Training Accuracy= 0.90625\n",
      "Iter 46080, Minibatch Loss= 0.158461, Training Accuracy= 0.92969\n",
      "Iter 47360, Minibatch Loss= 0.317518, Training Accuracy= 0.90625\n",
      "Iter 48640, Minibatch Loss= 0.249297, Training Accuracy= 0.92188\n",
      "Iter 49920, Minibatch Loss= 0.251958, Training Accuracy= 0.92188\n",
      "Iter 51200, Minibatch Loss= 0.166554, Training Accuracy= 0.93750\n",
      "Iter 52480, Minibatch Loss= 0.186411, Training Accuracy= 0.93750\n",
      "Iter 53760, Minibatch Loss= 0.057534, Training Accuracy= 0.97656\n",
      "Iter 55040, Minibatch Loss= 0.198874, Training Accuracy= 0.94531\n",
      "Iter 56320, Minibatch Loss= 0.362398, Training Accuracy= 0.89062\n",
      "Iter 57600, Minibatch Loss= 0.078409, Training Accuracy= 0.97656\n",
      "Iter 58880, Minibatch Loss= 0.112747, Training Accuracy= 0.97656\n",
      "Iter 60160, Minibatch Loss= 0.231216, Training Accuracy= 0.92188\n",
      "Iter 61440, Minibatch Loss= 0.229128, Training Accuracy= 0.93750\n",
      "Iter 62720, Minibatch Loss= 0.095142, Training Accuracy= 0.97656\n",
      "Iter 64000, Minibatch Loss= 0.103962, Training Accuracy= 0.97656\n",
      "Iter 65280, Minibatch Loss= 0.083575, Training Accuracy= 0.95312\n",
      "Iter 66560, Minibatch Loss= 0.109358, Training Accuracy= 0.97656\n",
      "Iter 67840, Minibatch Loss= 0.072991, Training Accuracy= 0.97656\n",
      "Iter 69120, Minibatch Loss= 0.102226, Training Accuracy= 0.96875\n",
      "Iter 70400, Minibatch Loss= 0.165480, Training Accuracy= 0.92188\n",
      "Iter 71680, Minibatch Loss= 0.266051, Training Accuracy= 0.94531\n",
      "Iter 72960, Minibatch Loss= 0.184965, Training Accuracy= 0.94531\n",
      "Iter 74240, Minibatch Loss= 0.097925, Training Accuracy= 0.96094\n",
      "Iter 75520, Minibatch Loss= 0.115252, Training Accuracy= 0.96094\n",
      "Iter 76800, Minibatch Loss= 0.192577, Training Accuracy= 0.96094\n",
      "Iter 78080, Minibatch Loss= 0.088164, Training Accuracy= 0.95312\n",
      "Iter 79360, Minibatch Loss= 0.098501, Training Accuracy= 0.96094\n",
      "Iter 80640, Minibatch Loss= 0.102176, Training Accuracy= 0.96875\n",
      "Iter 81920, Minibatch Loss= 0.140365, Training Accuracy= 0.96094\n",
      "Iter 83200, Minibatch Loss= 0.160251, Training Accuracy= 0.96094\n",
      "Iter 84480, Minibatch Loss= 0.070530, Training Accuracy= 0.96875\n",
      "Iter 85760, Minibatch Loss= 0.160341, Training Accuracy= 0.95312\n",
      "Iter 87040, Minibatch Loss= 0.124328, Training Accuracy= 0.97656\n",
      "Iter 88320, Minibatch Loss= 0.111674, Training Accuracy= 0.96094\n",
      "Iter 89600, Minibatch Loss= 0.178577, Training Accuracy= 0.96094\n",
      "Iter 90880, Minibatch Loss= 0.113322, Training Accuracy= 0.96094\n",
      "Iter 92160, Minibatch Loss= 0.117870, Training Accuracy= 0.96094\n",
      "Iter 93440, Minibatch Loss= 0.083404, Training Accuracy= 0.96875\n",
      "Iter 94720, Minibatch Loss= 0.035007, Training Accuracy= 1.00000\n",
      "Iter 96000, Minibatch Loss= 0.095009, Training Accuracy= 0.97656\n",
      "Iter 97280, Minibatch Loss= 0.076063, Training Accuracy= 0.96094\n",
      "Iter 98560, Minibatch Loss= 0.094351, Training Accuracy= 0.96875\n",
      "Iter 99840, Minibatch Loss= 0.136004, Training Accuracy= 0.95312\n",
      "Iter 101120, Minibatch Loss= 0.225224, Training Accuracy= 0.94531\n",
      "Iter 102400, Minibatch Loss= 0.078575, Training Accuracy= 0.96875\n",
      "Iter 103680, Minibatch Loss= 0.111354, Training Accuracy= 0.96875\n",
      "Iter 104960, Minibatch Loss= 0.095554, Training Accuracy= 0.96875\n",
      "Iter 106240, Minibatch Loss= 0.181263, Training Accuracy= 0.96875\n",
      "Iter 107520, Minibatch Loss= 0.151615, Training Accuracy= 0.96094\n",
      "Iter 108800, Minibatch Loss= 0.112736, Training Accuracy= 0.96094\n",
      "Iter 110080, Minibatch Loss= 0.148159, Training Accuracy= 0.94531\n",
      "Iter 111360, Minibatch Loss= 0.050784, Training Accuracy= 0.99219\n",
      "Iter 112640, Minibatch Loss= 0.070558, Training Accuracy= 0.96875\n",
      "Iter 113920, Minibatch Loss= 0.102239, Training Accuracy= 0.97656\n",
      "Iter 115200, Minibatch Loss= 0.179239, Training Accuracy= 0.94531\n",
      "Iter 116480, Minibatch Loss= 0.103856, Training Accuracy= 0.96094\n",
      "Iter 117760, Minibatch Loss= 0.156972, Training Accuracy= 0.93750\n",
      "Iter 119040, Minibatch Loss= 0.051741, Training Accuracy= 0.99219\n",
      "Iter 120320, Minibatch Loss= 0.058273, Training Accuracy= 0.99219\n",
      "Iter 121600, Minibatch Loss= 0.119050, Training Accuracy= 0.96094\n",
      "Iter 122880, Minibatch Loss= 0.078609, Training Accuracy= 0.97656\n",
      "Iter 124160, Minibatch Loss= 0.187053, Training Accuracy= 0.96094\n",
      "Iter 125440, Minibatch Loss= 0.057370, Training Accuracy= 0.98438\n",
      "Iter 126720, Minibatch Loss= 0.092634, Training Accuracy= 0.95312\n",
      "Iter 128000, Minibatch Loss= 0.098877, Training Accuracy= 0.96875\n",
      "Iter 129280, Minibatch Loss= 0.098556, Training Accuracy= 0.96875\n",
      "Iter 130560, Minibatch Loss= 0.090769, Training Accuracy= 0.97656\n",
      "Iter 131840, Minibatch Loss= 0.078032, Training Accuracy= 0.98438\n",
      "Iter 133120, Minibatch Loss= 0.094912, Training Accuracy= 0.96875\n",
      "Iter 134400, Minibatch Loss= 0.098821, Training Accuracy= 0.97656\n",
      "Iter 135680, Minibatch Loss= 0.057877, Training Accuracy= 0.98438\n",
      "Iter 136960, Minibatch Loss= 0.058695, Training Accuracy= 0.97656\n",
      "Iter 138240, Minibatch Loss= 0.067560, Training Accuracy= 0.99219\n",
      "Iter 139520, Minibatch Loss= 0.111980, Training Accuracy= 0.96875\n",
      "Iter 140800, Minibatch Loss= 0.079620, Training Accuracy= 0.97656\n",
      "Iter 142080, Minibatch Loss= 0.067433, Training Accuracy= 0.98438\n",
      "Iter 143360, Minibatch Loss= 0.055008, Training Accuracy= 0.98438\n",
      "Iter 144640, Minibatch Loss= 0.101228, Training Accuracy= 0.96094\n",
      "Iter 145920, Minibatch Loss= 0.078414, Training Accuracy= 0.98438\n",
      "Iter 147200, Minibatch Loss= 0.107628, Training Accuracy= 0.96875\n",
      "Iter 148480, Minibatch Loss= 0.038532, Training Accuracy= 0.99219\n",
      "Iter 149760, Minibatch Loss= 0.040333, Training Accuracy= 0.99219\n",
      "Iter 151040, Minibatch Loss= 0.069421, Training Accuracy= 0.96875\n",
      "Iter 152320, Minibatch Loss= 0.078722, Training Accuracy= 0.96875\n",
      "Iter 153600, Minibatch Loss= 0.168960, Training Accuracy= 0.95312\n",
      "Iter 154880, Minibatch Loss= 0.133184, Training Accuracy= 0.96094\n",
      "Iter 156160, Minibatch Loss= 0.061691, Training Accuracy= 0.96875\n",
      "Iter 157440, Minibatch Loss= 0.111572, Training Accuracy= 0.96094\n",
      "Iter 158720, Minibatch Loss= 0.140758, Training Accuracy= 0.97656\n",
      "Iter 160000, Minibatch Loss= 0.035129, Training Accuracy= 1.00000\n",
      "Iter 161280, Minibatch Loss= 0.071268, Training Accuracy= 0.97656\n",
      "Iter 162560, Minibatch Loss= 0.116728, Training Accuracy= 0.97656\n",
      "Iter 163840, Minibatch Loss= 0.079692, Training Accuracy= 0.98438\n",
      "Iter 165120, Minibatch Loss= 0.082469, Training Accuracy= 0.98438\n",
      "Iter 166400, Minibatch Loss= 0.051200, Training Accuracy= 0.98438\n",
      "Iter 167680, Minibatch Loss= 0.086620, Training Accuracy= 0.98438\n",
      "Iter 168960, Minibatch Loss= 0.119563, Training Accuracy= 0.96875\n",
      "Iter 170240, Minibatch Loss= 0.054325, Training Accuracy= 0.99219\n",
      "Iter 171520, Minibatch Loss= 0.030322, Training Accuracy= 1.00000\n",
      "Iter 172800, Minibatch Loss= 0.090050, Training Accuracy= 0.98438\n",
      "Iter 174080, Minibatch Loss= 0.085816, Training Accuracy= 0.96875\n",
      "Iter 175360, Minibatch Loss= 0.044539, Training Accuracy= 0.96875\n",
      "Iter 176640, Minibatch Loss= 0.136007, Training Accuracy= 0.95312\n",
      "Iter 177920, Minibatch Loss= 0.046057, Training Accuracy= 0.99219\n",
      "Iter 179200, Minibatch Loss= 0.013533, Training Accuracy= 1.00000\n",
      "Iter 180480, Minibatch Loss= 0.024728, Training Accuracy= 0.99219\n",
      "Iter 181760, Minibatch Loss= 0.048191, Training Accuracy= 0.98438\n",
      "Iter 183040, Minibatch Loss= 0.080728, Training Accuracy= 0.97656\n",
      "Iter 184320, Minibatch Loss= 0.066926, Training Accuracy= 0.97656\n",
      "Iter 185600, Minibatch Loss= 0.030788, Training Accuracy= 0.98438\n",
      "Iter 186880, Minibatch Loss= 0.073487, Training Accuracy= 0.97656\n",
      "Iter 188160, Minibatch Loss= 0.046154, Training Accuracy= 0.98438\n",
      "Iter 189440, Minibatch Loss= 0.060578, Training Accuracy= 0.97656\n",
      "Iter 190720, Minibatch Loss= 0.042392, Training Accuracy= 0.98438\n",
      "Iter 192000, Minibatch Loss= 0.099290, Training Accuracy= 0.96875\n",
      "Iter 193280, Minibatch Loss= 0.037968, Training Accuracy= 0.99219\n",
      "Iter 194560, Minibatch Loss= 0.039097, Training Accuracy= 0.98438\n",
      "Iter 195840, Minibatch Loss= 0.027001, Training Accuracy= 1.00000\n",
      "Iter 197120, Minibatch Loss= 0.039038, Training Accuracy= 0.97656\n",
      "Iter 198400, Minibatch Loss= 0.046473, Training Accuracy= 0.98438\n",
      "Iter 199680, Minibatch Loss= 0.037527, Training Accuracy= 0.99219\n",
      "Optimization Finished!\n",
      "==========================================================\n",
      "Testing Accuracy: 0.976563\n"
     ]
    }
   ],
   "source": [
    "init = tf.global_variables_initializer()\n",
    "with tf.Session() as sess:\n",
    "    sess.run(init)\n",
    "\n",
    "    step = 1\n",
    "    while step * batch_size < training_iters:\n",
    "        batch_x, batch_y = mnist.train.next_batch(batch_size)\n",
    "        batch_x = batch_x.reshape((batch_size, n_step, n_input))\n",
    "\n",
    "        sess.run(optimizer, feed_dict={x: batch_x, y: batch_y})\n",
    "\n",
    "        if step % display_step == 0:\n",
    "            loss, acc = sess.run([cost, accuracy], feed_dict={x: batch_x, y: batch_y})\n",
    "            print(\"Iter \" + str(step*batch_size) + \\\n",
    "                  \", Minibatch Loss= \" + \"{:.6f}\".format(loss) +  \\\n",
    "                  \", Training Accuracy= \" + \"{:.5f}\".format(acc))\n",
    "        step += 1\n",
    "    print(\"Optimization Finished!\")\n",
    "    print(\"==========================================================\")\n",
    "\n",
    "    ## 128 mnist test images\n",
    "    test_len = 128\n",
    "    test_data  = mnist.test.images[:test_len].reshape((-1, n_step, n_input))\n",
    "    test_label = mnist.test.labels[:test_len]\n",
    "    print(\"Testing Accuracy:\", \\\n",
    "        sess.run(accuracy, feed_dict={x: test_data, y: test_label}))"
   ]
  },
  {
   "cell_type": "markdown",
   "metadata": {},
   "source": [
    "--------------------------------------------------------------------\n",
    "*End of Code*"
   ]
  }
 ],
 "metadata": {
  "kernelspec": {
   "display_name": "Python 3",
   "language": "python",
   "name": "python3"
  },
  "language_info": {
   "codemirror_mode": {
    "name": "ipython",
    "version": 3
   },
   "file_extension": ".py",
   "mimetype": "text/x-python",
   "name": "python",
   "nbconvert_exporter": "python",
   "pygments_lexer": "ipython3",
   "version": "3.5.3"
  }
 },
 "nbformat": 4,
 "nbformat_minor": 2
}

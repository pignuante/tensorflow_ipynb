{
 "cells": [
  {
   "cell_type": "markdown",
   "metadata": {},
   "source": [
    "# Recurrent Neural Network"
   ]
  },
  {
   "cell_type": "code",
   "execution_count": 2,
   "metadata": {},
   "outputs": [],
   "source": [
    "import numpy as np\n",
    "import os\n",
    "\n",
    "## keras\n",
    "from keras.models import Sequential\n",
    "from keras.layers import Dense, TimeDistributed, Activation, LSTM\n",
    "from keras.utils import np_utils"
   ]
  },
  {
   "cell_type": "markdown",
   "metadata": {},
   "source": [
    "# BasicRNNCell\n",
    "\n",
    "---------------------------------------------------------------------------\n",
    "\n",
    "## [Case1] seq2seq, Character \"HelloWorld\"\n",
    "\n",
    "### 1. data define"
   ]
  },
  {
   "cell_type": "code",
   "execution_count": 3,
   "metadata": {},
   "outputs": [
    {
     "data": {
      "text/plain": [
       "(['d', 'l', 'H', 'e', 'W', 'o', 'r'],\n",
       " {'H': 2, 'W': 4, 'd': 0, 'e': 3, 'l': 1, 'o': 5, 'r': 6})"
      ]
     },
     "execution_count": 3,
     "metadata": {},
     "output_type": "execute_result"
    }
   ],
   "source": [
    "sample = \"HelloWorld\"\n",
    "\n",
    "char_set = list(set(sample))  \n",
    "char_dic = {w: i for i, w in enumerate(char_set)}\n",
    "\n",
    "char_set, char_dic"
   ]
  },
  {
   "cell_type": "code",
   "execution_count": 4,
   "metadata": {},
   "outputs": [
    {
     "data": {
      "text/plain": [
       "('HelloWorl', 'elloWorld')"
      ]
     },
     "execution_count": 4,
     "metadata": {},
     "output_type": "execute_result"
    }
   ],
   "source": [
    "x_str = sample[:-1]\n",
    "y_str = sample[1:]\n",
    "\n",
    "x_str, y_str"
   ]
  },
  {
   "cell_type": "code",
   "execution_count": 21,
   "metadata": {},
   "outputs": [
    {
     "data": {
      "text/plain": [
       "([2, 3, 1, 1, 5, 4, 5, 6, 1], [3, 1, 1, 5, 4, 5, 6, 1, 0])"
      ]
     },
     "execution_count": 21,
     "metadata": {},
     "output_type": "execute_result"
    }
   ],
   "source": [
    "# char to index\n",
    "x = [char_dic[c] for c in x_str]  \n",
    "y = [char_dic[c] for c in y_str]  \n",
    "\n",
    "x, y"
   ]
  },
  {
   "cell_type": "markdown",
   "metadata": {},
   "source": [
    "### 2. Hyper-parameter"
   ]
  },
  {
   "cell_type": "code",
   "execution_count": 10,
   "metadata": {},
   "outputs": [
    {
     "data": {
      "text/plain": [
       "(7, 9, 7)"
      ]
     },
     "execution_count": 10,
     "metadata": {},
     "output_type": "execute_result"
    }
   ],
   "source": [
    "data_dim    = len(char_set)\n",
    "timesteps   = len(y_str)\n",
    "num_classes = len(char_set)\n",
    "\n",
    "data_dim, timesteps, num_classes"
   ]
  },
  {
   "cell_type": "markdown",
   "metadata": {},
   "source": [
    "\n",
    "## 3. One-hot Encoding + Data reshape"
   ]
  },
  {
   "cell_type": "code",
   "execution_count": 22,
   "metadata": {},
   "outputs": [
    {
     "data": {
      "text/plain": [
       "(array([[ 0.,  0.,  1.,  0.,  0.,  0.,  0.],\n",
       "        [ 0.,  0.,  0.,  1.,  0.,  0.,  0.],\n",
       "        [ 0.,  1.,  0.,  0.,  0.,  0.,  0.],\n",
       "        [ 0.,  1.,  0.,  0.,  0.,  0.,  0.],\n",
       "        [ 0.,  0.,  0.,  0.,  0.,  1.,  0.],\n",
       "        [ 0.,  0.,  0.,  0.,  1.,  0.,  0.],\n",
       "        [ 0.,  0.,  0.,  0.,  0.,  1.,  0.],\n",
       "        [ 0.,  0.,  0.,  0.,  0.,  0.,  1.],\n",
       "        [ 0.,  1.,  0.,  0.,  0.,  0.,  0.]]), (9, 7))"
      ]
     },
     "execution_count": 22,
     "metadata": {},
     "output_type": "execute_result"
    }
   ],
   "source": [
    "# One-hot encoding\n",
    "x = np_utils.to_categorical(x, 7)\n",
    "x, x.shape"
   ]
  },
  {
   "cell_type": "code",
   "execution_count": 23,
   "metadata": {},
   "outputs": [
    {
     "data": {
      "text/plain": [
       "(array([[[ 0.,  0.,  1.,  0.,  0.,  0.,  0.],\n",
       "         [ 0.,  0.,  0.,  1.,  0.,  0.,  0.],\n",
       "         [ 0.,  1.,  0.,  0.,  0.,  0.,  0.],\n",
       "         [ 0.,  1.,  0.,  0.,  0.,  0.,  0.],\n",
       "         [ 0.,  0.,  0.,  0.,  0.,  1.,  0.],\n",
       "         [ 0.,  0.,  0.,  0.,  1.,  0.,  0.],\n",
       "         [ 0.,  0.,  0.,  0.,  0.,  1.,  0.],\n",
       "         [ 0.,  0.,  0.,  0.,  0.,  0.,  1.],\n",
       "         [ 0.,  1.,  0.,  0.,  0.,  0.,  0.]]]), (1, 9, 7))"
      ]
     },
     "execution_count": 23,
     "metadata": {},
     "output_type": "execute_result"
    }
   ],
   "source": [
    "# reshape X to be [samples, time steps, features]\n",
    "x = np.reshape(x, (-1, len(x), data_dim))\n",
    "x, x.shape"
   ]
  },
  {
   "cell_type": "code",
   "execution_count": 24,
   "metadata": {},
   "outputs": [
    {
     "data": {
      "text/plain": [
       "(array([[[ 0.,  0.,  0.,  1.,  0.,  0.,  0.],\n",
       "         [ 0.,  1.,  0.,  0.,  0.,  0.,  0.],\n",
       "         [ 0.,  1.,  0.,  0.,  0.,  0.,  0.],\n",
       "         [ 0.,  0.,  0.,  0.,  0.,  1.,  0.],\n",
       "         [ 0.,  0.,  0.,  0.,  1.,  0.,  0.],\n",
       "         [ 0.,  0.,  0.,  0.,  0.,  1.,  0.],\n",
       "         [ 0.,  0.,  0.,  0.,  0.,  0.,  1.],\n",
       "         [ 0.,  1.,  0.,  0.,  0.,  0.,  0.],\n",
       "         [ 1.,  0.,  0.,  0.,  0.,  0.,  0.]]]), (1, 9, 7))"
      ]
     },
     "execution_count": 24,
     "metadata": {},
     "output_type": "execute_result"
    }
   ],
   "source": [
    "y = np_utils.to_categorical(y, num_classes)\n",
    "y = np.reshape(y, (-1, len(y), data_dim))\n",
    "y, y.shape"
   ]
  },
  {
   "cell_type": "markdown",
   "metadata": {},
   "source": [
    "\n",
    "### 4. Modeling"
   ]
  },
  {
   "cell_type": "code",
   "execution_count": 25,
   "metadata": {},
   "outputs": [
    {
     "name": "stdout",
     "output_type": "stream",
     "text": [
      "____________________________________________________________________________________________________\n",
      "Layer (type)                     Output Shape          Param #     Connected to                     \n",
      "====================================================================================================\n",
      "lstm_1 (LSTM)                    (None, 9, 7)          420         lstm_input_1[0][0]               \n",
      "____________________________________________________________________________________________________\n",
      "timedistributed_1 (TimeDistribut (None, 9, 7)          56          lstm_1[0][0]                     \n",
      "____________________________________________________________________________________________________\n",
      "activation_1 (Activation)        (None, 9, 7)          0           timedistributed_1[0][0]          \n",
      "====================================================================================================\n",
      "Total params: 476\n",
      "Trainable params: 476\n",
      "Non-trainable params: 0\n",
      "____________________________________________________________________________________________________\n"
     ]
    }
   ],
   "source": [
    "model = Sequential()\n",
    "\n",
    "model.add(LSTM(num_classes, input_shape=(timesteps, data_dim), return_sequences=True))\n",
    "model.add(TimeDistributed(Dense(num_classes)))\n",
    "model.add(Activation('softmax'))\n",
    "model.summary()"
   ]
  },
  {
   "cell_type": "code",
   "execution_count": 40,
   "metadata": {},
   "outputs": [],
   "source": [
    "model.compile(loss='categorical_crossentropy', optimizer='adam', metrics=['accuracy'])"
   ]
  },
  {
   "cell_type": "code",
   "execution_count": 46,
   "metadata": {},
   "outputs": [
    {
     "name": "stdout",
     "output_type": "stream",
     "text": [
      "Epoch 1/10\n",
      "1/1 [==============================] - 0s - loss: 1.8957 - acc: 0.3333\n",
      "Epoch 2/10\n",
      "1/1 [==============================] - 0s - loss: 1.8936 - acc: 0.3333\n",
      "Epoch 3/10\n",
      "1/1 [==============================] - 0s - loss: 1.8916 - acc: 0.4444\n",
      "Epoch 4/10\n",
      "1/1 [==============================] - 0s - loss: 1.8895 - acc: 0.4444\n",
      "Epoch 5/10\n",
      "1/1 [==============================] - 0s - loss: 1.8874 - acc: 0.4444\n",
      "Epoch 6/10\n",
      "1/1 [==============================] - 0s - loss: 1.8854 - acc: 0.4444\n",
      "Epoch 7/10\n",
      "1/1 [==============================] - 0s - loss: 1.8834 - acc: 0.5556\n",
      "Epoch 8/10\n",
      "1/1 [==============================] - 0s - loss: 1.8813 - acc: 0.5556\n",
      "Epoch 9/10\n",
      "1/1 [==============================] - 0s - loss: 1.8793 - acc: 0.5556\n",
      "Epoch 10/10\n",
      "1/1 [==============================] - 0s - loss: 1.8773 - acc: 0.5556\n"
     ]
    },
    {
     "data": {
      "text/plain": [
       "<keras.callbacks.History at 0xfaa3f60>"
      ]
     },
     "execution_count": 46,
     "metadata": {},
     "output_type": "execute_result"
    }
   ],
   "source": [
    "model.fit(x, y)"
   ]
  },
  {
   "cell_type": "markdown",
   "metadata": {
    "collapsed": true
   },
   "source": [
    "### 5. Predict Result"
   ]
  },
  {
   "cell_type": "code",
   "execution_count": 48,
   "metadata": {},
   "outputs": [
    {
     "name": "stdout",
     "output_type": "stream",
     "text": [
      "[[ 0.138119    0.15028575  0.13049877  0.14729542  0.13618085  0.1555717\n",
      "   0.14204855]\n",
      " [ 0.1153471   0.15938033  0.14261015  0.12842326  0.14264613  0.15495665\n",
      "   0.15663634]\n",
      " [ 0.13742045  0.16306952  0.14247268  0.14297885  0.1270176   0.14857706\n",
      "   0.13846391]\n",
      " [ 0.15058793  0.15709595  0.14808835  0.15046465  0.12566513  0.14014694\n",
      "   0.12795103]\n",
      " [ 0.11739409  0.16999906  0.14862731  0.12610589  0.13213894  0.14847542\n",
      "   0.15725927]\n",
      " [ 0.13519976  0.14922701  0.13355704  0.14002325  0.13627122  0.15840399\n",
      "   0.14731775]\n",
      " [ 0.11456206  0.1705693   0.12964723  0.12413155  0.12766209  0.16286017\n",
      "   0.17056765]\n",
      " [ 0.11580326  0.16755274  0.14261857  0.12380446  0.13978869  0.14946236\n",
      "   0.16097002]\n",
      " [ 0.14576149  0.1681633   0.13770878  0.1452297   0.12160087  0.14168409\n",
      "   0.13985166]]\n",
      "[2 3 1 1 5 4 5 6 1] HelloWorl\n",
      "[5 1 1 1 1 5 1 1 1] ollllolll\n"
     ]
    }
   ],
   "source": [
    "predictions = model.predict(x, verbose=0)\n",
    "\n",
    "\n",
    "for i, prediction in enumerate(predictions):\n",
    "    print(prediction)\n",
    "    x_index = np.argmax(x[i], axis=1)\n",
    "    x_str = [char_set[j] for j in x_index]\n",
    "    print(x_index, ''.join(x_str))\n",
    "\n",
    "    index = np.argmax(prediction, axis=1)\n",
    "    result = [char_set[j] for j in index]\n",
    "    print(index, ''.join(result))"
   ]
  },
  {
   "cell_type": "markdown",
   "metadata": {},
   "source": [
    "\n",
    "------------------------------------\n",
    "*End of Code*"
   ]
  }
 ],
 "metadata": {
  "kernelspec": {
   "display_name": "Python 3",
   "language": "python",
   "name": "python3"
  },
  "language_info": {
   "codemirror_mode": {
    "name": "ipython",
    "version": 3
   },
   "file_extension": ".py",
   "mimetype": "text/x-python",
   "name": "python",
   "nbconvert_exporter": "python",
   "pygments_lexer": "ipython3",
   "version": "3.5.3"
  }
 },
 "nbformat": 4,
 "nbformat_minor": 2
}

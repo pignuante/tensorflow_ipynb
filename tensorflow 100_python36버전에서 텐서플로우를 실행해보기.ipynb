{
 "cells": [
  {
   "cell_type": "code",
   "execution_count": 2,
   "metadata": {},
   "outputs": [
    {
     "name": "stdout",
     "output_type": "stream",
     "text": [
      "Requirement already up-to-date: tensorflow in /Users/dahlmoon/anaconda/lib/python3.6/site-packages\n",
      "Requirement already up-to-date: wheel>=0.26 in /Users/dahlmoon/anaconda/lib/python3.6/site-packages (from tensorflow)\n",
      "Requirement already up-to-date: enum34>=1.1.6 in /Users/dahlmoon/anaconda/lib/python3.6/site-packages (from tensorflow)\n",
      "Requirement already up-to-date: numpy>=1.12.1 in /Users/dahlmoon/anaconda/lib/python3.6/site-packages (from tensorflow)\n",
      "Requirement already up-to-date: six>=1.10.0 in /Users/dahlmoon/anaconda/lib/python3.6/site-packages (from tensorflow)\n",
      "Requirement already up-to-date: protobuf>=3.3.0 in /Users/dahlmoon/anaconda/lib/python3.6/site-packages (from tensorflow)\n",
      "Requirement already up-to-date: tensorflow-tensorboard<0.5.0,>=0.4.0rc1 in /Users/dahlmoon/anaconda/lib/python3.6/site-packages (from tensorflow)\n",
      "Collecting setuptools (from protobuf>=3.3.0->tensorflow)\n",
      "  Downloading setuptools-38.2.3-py2.py3-none-any.whl (489kB)\n",
      "\u001b[K    100% |████████████████████████████████| 491kB 971kB/s ta 0:00:01\n",
      "\u001b[?25hRequirement already up-to-date: werkzeug>=0.11.10 in /Users/dahlmoon/anaconda/lib/python3.6/site-packages (from tensorflow-tensorboard<0.5.0,>=0.4.0rc1->tensorflow)\n",
      "Requirement already up-to-date: bleach==1.5.0 in /Users/dahlmoon/anaconda/lib/python3.6/site-packages (from tensorflow-tensorboard<0.5.0,>=0.4.0rc1->tensorflow)\n",
      "Requirement already up-to-date: html5lib==0.9999999 in /Users/dahlmoon/anaconda/lib/python3.6/site-packages (from tensorflow-tensorboard<0.5.0,>=0.4.0rc1->tensorflow)\n",
      "Requirement already up-to-date: markdown>=2.6.8 in /Users/dahlmoon/anaconda/lib/python3.6/site-packages (from tensorflow-tensorboard<0.5.0,>=0.4.0rc1->tensorflow)\n",
      "Installing collected packages: setuptools\n",
      "  Found existing installation: setuptools 37.0.0\n",
      "    Uninstalling setuptools-37.0.0:\n",
      "      Successfully uninstalled setuptools-37.0.0\n",
      "Successfully installed setuptools-38.2.3\n"
     ]
    }
   ],
   "source": [
    "!pip install tensorflow --upgrade"
   ]
  },
  {
   "cell_type": "code",
   "execution_count": 4,
   "metadata": {},
   "outputs": [
    {
     "name": "stdout",
     "output_type": "stream",
     "text": [
      "Tensor(\"Const_6:0\", shape=(), dtype=string)\n",
      "Tensor(\"Add_2:0\", shape=(), dtype=int32)\n"
     ]
    }
   ],
   "source": [
    "# 텐서플로우의 기본적인 구성을 익힙니다.\n",
    "import tensorflow as tf\n",
    "\n",
    "# tf.constant: 말 그대로 상수입니다.\n",
    "hello = tf.constant('Hello, TensorFlow!')\n",
    "print(hello)\n",
    "\n",
    "a = tf.constant(10)\n",
    "b = tf.constant(32)\n",
    "c = tf.add(a, b)  # a + b 로도 쓸 수 있음\n",
    "print(c)\n",
    "\n",
    "\n",
    "\n"
   ]
  },
  {
   "cell_type": "code",
   "execution_count": 5,
   "metadata": {},
   "outputs": [
    {
     "name": "stdout",
     "output_type": "stream",
     "text": [
      "b'Hello, TensorFlow!'\n",
      "[10, 32, 42]\n"
     ]
    }
   ],
   "source": [
    "# 위에서 변수와 수식들을 정의했지만, 실행이 정의한 시점에서 실행되는 것은 아닙니다.\n",
    "# 다음처럼 Session 객제와 run 메소드를 사용할 때 계산이 됩니다.\n",
    "# 따라서 모델을 구성하는 것과, 실행하는 것을 분리하여 프로그램을 깔끔하게 작성할 수 있습니다.\n",
    "# 그래프를 실행할 세션을 구성합니다.\n",
    "sess = tf.Session()\n",
    "# sess.run: 설정한 텐서 그래프(변수나 수식 등등)를 실행합니다.\n",
    "print(sess.run(hello))\n",
    "print(sess.run([a, b, c]))\n",
    "\n",
    "# 세션을 닫습니다.\n",
    "sess.close()"
   ]
  },
  {
   "cell_type": "code",
   "execution_count": null,
   "metadata": {
    "collapsed": true
   },
   "outputs": [],
   "source": []
  }
 ],
 "metadata": {
  "kernelspec": {
   "display_name": "Python 3",
   "language": "python",
   "name": "python3"
  },
  "language_info": {
   "codemirror_mode": {
    "name": "ipython",
    "version": 3
   },
   "file_extension": ".py",
   "mimetype": "text/x-python",
   "name": "python",
   "nbconvert_exporter": "python",
   "pygments_lexer": "ipython3",
   "version": "3.6.1"
  }
 },
 "nbformat": 4,
 "nbformat_minor": 2
}

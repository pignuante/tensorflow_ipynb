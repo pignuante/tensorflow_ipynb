{
 "cells": [
  {
   "cell_type": "code",
   "execution_count": 2,
   "metadata": {
    "collapsed": true
   },
   "outputs": [],
   "source": [
    "import tensorflow as tf"
   ]
  },
  {
   "cell_type": "code",
   "execution_count": 9,
   "metadata": {
    "collapsed": false,
    "scrolled": false
   },
   "outputs": [
    {
     "name": "stdout",
     "output_type": "stream",
     "text": [
      "# packages in environment at C:\\Program Files\\Anaconda3:\n",
      "#\n",
      "_license                  1.1                      py35_1  \n",
      "_nb_ext_conf              0.3.0                    py35_0  \n",
      "alabaster                 0.7.9                    py35_0  \n",
      "anaconda                  4.2.0               np111py35_0  \n",
      "anaconda-clean            1.0.0                    py35_0  \n",
      "anaconda-client           1.5.1                    py35_0  \n",
      "anaconda-navigator        1.3.1                    py35_0  \n",
      "argcomplete               1.0.0                    py35_1  \n",
      "astroid                   1.4.7                    py35_0  \n",
      "astropy                   1.2.1               np111py35_0  \n",
      "babel                     2.3.4                    py35_0  \n",
      "backports                 1.0                      py35_0  \n",
      "beautifulsoup4            4.5.1                    py35_0  \n",
      "bitarray                  0.8.1                    py35_1  \n",
      "blaze                     0.10.1                   py35_0  \n",
      "bokeh                     0.12.2                   py35_0  \n",
      "boto                      2.42.0                   py35_0  \n",
      "bottleneck                1.1.0               np111py35_0  \n",
      "bzip2                     1.0.6                    vc14_3  [vc14]\n",
      "cffi                      1.7.0                    py35_0  \n",
      "chest                     0.2.3                    py35_0  \n",
      "click                     6.7                       <pip>\n",
      "click                     6.6                      py35_0  \n",
      "cloudpickle               0.2.1                    py35_0  \n",
      "clyent                    1.2.2                    py35_0  \n",
      "colorama                  0.3.7                    py35_0  \n",
      "comtypes                  1.1.2                    py35_0  \n",
      "conda                     4.2.13                   py35_0    conda-forge\n",
      "conda-build               2.0.2                    py35_0  \n",
      "conda-env                 2.6.0                         0    conda-forge\n",
      "configobj                 5.0.6                    py35_0  \n",
      "console_shortcut          0.1.1                    py35_1  \n",
      "contextlib2               0.5.3                    py35_0  \n",
      "cryptography              1.5                      py35_0  \n",
      "curl                      7.49.0                   vc14_0  [vc14]\n",
      "cycler                    0.10.0                   py35_0  \n",
      "cython                    0.24.1                   py35_0  \n",
      "cytoolz                   0.8.0                    py35_0  \n",
      "dask                      0.11.0                   py35_0  \n",
      "datashape                 0.5.2                    py35_0  \n",
      "decorator                 4.0.10                   py35_0  \n",
      "dill                      0.2.5                    py35_0  \n",
      "docutils                  0.12                     py35_2  \n",
      "dynd-python               0.7.2                    py35_0  \n",
      "entrypoints               0.2.2                    py35_0  \n",
      "et_xmlfile                1.0.1                    py35_0  \n",
      "fastcache                 1.0.2                    py35_1  \n",
      "filelock                  2.0.6                    py35_0  \n",
      "flask                     0.11.1                   py35_0  \n",
      "Flask                     0.12                      <pip>\n",
      "flask-cors                2.1.2                    py35_0  \n",
      "Flask-Script              2.0.5                     <pip>\n",
      "Flask-WTF                 0.14.2                    <pip>\n",
      "freetype                  2.5.5                    vc14_1  [vc14]\n",
      "get_terminal_size         1.0.0                    py35_0  \n",
      "gevent                    1.1.2                    py35_0  \n",
      "greenlet                  0.4.10                   py35_0  \n",
      "h5py                      2.6.0               np111py35_2  \n",
      "hdf5                      1.8.15.1                 vc14_4  [vc14]\n",
      "heapdict                  1.0.0                    py35_1  \n",
      "icu                       57.1                     vc14_0  [vc14]\n",
      "idna                      2.1                      py35_0  \n",
      "imagesize                 0.7.1                    py35_0  \n",
      "ipykernel                 4.5.0                    py35_0  \n",
      "ipython                   5.1.0                    py35_0  \n",
      "ipython_genutils          0.1.0                    py35_0  \n",
      "ipywidgets                5.2.2                    py35_0  \n",
      "itsdangerous              0.24                     py35_0  \n",
      "jdcal                     1.3                       <pip>\n",
      "jdcal                     1.2                      py35_1  \n",
      "jedi                      0.9.0                    py35_1  \n",
      "Jinja2                    2.9.5                     <pip>\n",
      "jinja2                    2.8                      py35_1  \n",
      "jpeg                      8d                       vc14_2  [vc14]\n",
      "jsonschema                2.5.1                    py35_0  \n",
      "jupyter                   1.0.0                    py35_3  \n",
      "jupyter_client            4.4.0                    py35_0  \n",
      "jupyter_console           5.0.0                    py35_0  \n",
      "jupyter_core              4.2.0                    py35_0  \n",
      "Keras                     2.0.3                     <pip>\n",
      "lazy-object-proxy         1.2.1                    py35_0  \n",
      "libdynd                   0.7.2                         0  \n",
      "libpng                    1.6.22                   vc14_0  [vc14]\n",
      "libtiff                   4.0.6                    vc14_2  [vc14]\n",
      "llvmlite                  0.13.0                   py35_0  \n",
      "locket                    0.2.0                    py35_1  \n",
      "lxml                      3.6.4                    py35_0  \n",
      "markupsafe                0.23                     py35_2  \n",
      "matplotlib                1.5.3               np111py35_0  \n",
      "matplotlib                2.0.0                     <pip>\n",
      "matplotlib-venn           0.11.5                    <pip>\n",
      "menuinst                  1.4.1                    py35_0  \n",
      "mistune                   0.7.3                    py35_0  \n",
      "mixin                     1.1                       <pip>\n",
      "mkl                       11.3.3                        1  \n",
      "mkl-service               1.1.2                    py35_2  \n",
      "mock                      2.0.0                    py35_0    conda-forge\n",
      "mpmath                    0.19                     py35_1  \n",
      "multipledispatch          0.4.8                    py35_0  \n",
      "mysql-connector           2.1.4                     <pip>\n",
      "nb_anacondacloud          1.2.0                    py35_0  \n",
      "nb_conda                  2.0.0                    py35_0  \n",
      "nb_conda_kernels          2.0.0                    py35_0  \n",
      "nbconvert                 4.2.0                    py35_0  \n",
      "nbformat                  4.1.0                    py35_0  \n",
      "nbpresent                 3.0.2                    py35_0  \n",
      "networkx                  1.11                     py35_0  \n",
      "nltk                      3.2.1                    py35_0  \n",
      "nose                      1.3.7                    py35_1  \n",
      "notebook                  4.2.3                    py35_0  \n",
      "numba                     0.28.1              np111py35_0  \n",
      "numexpr                   2.6.1               np111py35_0  \n",
      "numpy                     1.11.1                   py35_1  \n",
      "numpy                     1.12.0                    <pip>\n",
      "odo                       0.5.0                    py35_1  \n",
      "openpyxl                  2.3.2                    py35_0  \n",
      "openpyxl                  2.4.1                     <pip>\n",
      "openssl                   1.0.2j                   vc14_0  [vc14]\n",
      "overload                  1.1                       <pip>\n",
      "pandas                    0.18.1              np111py35_0  \n",
      "pandoc                    1.0.0b2                   <pip>\n",
      "partd                     0.3.6                    py35_0  \n",
      "path.py                   8.2.1                    py35_0  \n",
      "pathlib2                  2.1.0                    py35_0  \n",
      "patsy                     0.4.1                    py35_0  \n",
      "pbr                       2.0.0                    py35_0    conda-forge\n",
      "pep8                      1.7.0                    py35_0  \n",
      "pickleshare               0.7.4                    py35_0  \n",
      "pillow                    3.3.1                    py35_0  \n",
      "pip                       8.1.2                    py35_0  \n",
      "pkginfo                   1.3.2                    py35_0  \n",
      "ply                       3.10                      <pip>\n",
      "ply                       3.9                      py35_0  \n",
      "prompt_toolkit            1.0.3                    py35_0  \n",
      "protobuf                  3.2.0               py35_vc14_0  [vc14]  conda-forge\n",
      "protobuf                  3.1.0.post1               <pip>\n",
      "psutil                    4.3.1                    py35_0  \n",
      "py                        1.4.31                   py35_0  \n",
      "pyasn1                    0.1.9                    py35_0  \n",
      "pycosat                   0.6.1                    py35_1  \n",
      "pycparser                 2.14                     py35_1  \n",
      "pycrypto                  2.6.1                    py35_4  \n",
      "pycurl                    7.43.0                   py35_0  \n",
      "pyflakes                  1.3.0                    py35_0  \n",
      "pygments                  2.1.3                    py35_0  \n",
      "pylint                    1.5.4                    py35_1  \n",
      "pyopenssl                 16.0.0                   py35_0  \n",
      "pyparsing                 2.1.10                    <pip>\n",
      "pyparsing                 2.1.4                    py35_0  \n",
      "pyqt                      5.6.0                    py35_0  \n",
      "pyrecord                  1.0.1                     <pip>\n",
      "pytables                  3.2.2               np111py35_4  \n",
      "pytest                    2.9.2                    py35_0  \n",
      "python                    3.5.2                         0  \n",
      "python-dateutil           2.6.0                     <pip>\n",
      "python-dateutil           2.5.3                    py35_0  \n",
      "pytz                      2016.6.1                 py35_0  \n",
      "pytz                      2016.10                   <pip>\n",
      "pywin32                   220                      py35_1  \n",
      "pyyaml                    3.12                     py35_0  \n",
      "pyzmq                     15.4.0                   py35_0  \n",
      "qt                        5.6.0                    vc14_0  [vc14]\n",
      "qtawesome                 0.3.3                    py35_0  \n",
      "qtconsole                 4.2.1                    py35_2  \n",
      "qtpy                      1.1.2                    py35_0  \n",
      "recordtype                1.1                       <pip>\n",
      "requests                  2.11.1                   py35_0  \n",
      "rope                      0.9.4                    py35_1  \n",
      "ruamel_yaml               0.11.14                  py35_0  \n",
      "scikit-image              0.12.3              np111py35_1  \n",
      "scikit-learn              0.17.1              np111py35_1  \n",
      "scipy                     0.18.1              np111py35_0  \n",
      "seaborn                   0.7.1                     <pip>\n",
      "setuptools                27.2.0                   py35_1  \n",
      "simplegeneric             0.8.1                    py35_1  \n",
      "singledispatch            3.4.0.3                  py35_0  \n",
      "sip                       4.18                     py35_0  \n",
      "six                       1.10.0                   py35_0  \n",
      "snowballstemmer           1.2.1                    py35_0  \n",
      "sockjs-tornado            1.0.3                    py35_0  \n",
      "sphinx                    1.4.6                    py35_0  \n",
      "spyder                    3.0.0                    py35_0  \n",
      "sqlalchemy                1.0.13                   py35_0  \n",
      "statsmodels               0.6.1               np111py35_1  \n",
      "sympy                     1.0                      py35_0  \n",
      "tensorflow                0.12.1                    <pip>\n",
      "tensorflow                1.0.0                    py35_0    conda-forge\n",
      "that                      1.0.7                     <pip>\n",
      "Theano                    0.9.0                     <pip>\n",
      "tk                        8.5.18                   vc14_0  [vc14]\n",
      "toolz                     0.8.0                    py35_0  \n",
      "tornado                   4.4.1                    py35_0  \n",
      "traitlets                 4.3.0                    py35_0  \n",
      "unicodecsv                0.14.1                   py35_0  \n",
      "virtualenv                15.1.0                    <pip>\n",
      "vs2015_runtime            14.0.25123                    0  \n",
      "wcwidth                   0.1.7                    py35_0  \n",
      "werkzeug                  0.11.11                  py35_0  \n",
      "Werkzeug                  0.11.15                   <pip>\n",
      "wheel                     0.29.0                   py35_0  \n",
      "widgetsnbextension        1.2.6                    py35_0  \n",
      "win_unicode_console       0.5                      py35_0  \n",
      "wrapt                     1.10.6                   py35_0  \n",
      "WTForms                   2.1                       <pip>\n",
      "xlrd                      1.0.0                    py35_0  \n",
      "xlsxwriter                0.9.3                    py35_0  \n",
      "xlwings                   0.10.0                   py35_0  \n",
      "xlwt                      1.1.2                    py35_0  \n",
      "zlib                      1.2.8                    vc14_3  [vc14]\n"
     ]
    }
   ],
   "source": [
    "!conda list"
   ]
  },
  {
   "cell_type": "code",
   "execution_count": 3,
   "metadata": {
    "collapsed": false
   },
   "outputs": [
    {
     "name": "stdout",
     "output_type": "stream",
     "text": [
      "10\n"
     ]
    }
   ],
   "source": [
    "a = tf.constant(10)\n",
    "\n",
    "sess = tf.Session()\n",
    "\n",
    "print(sess.run(a))"
   ]
  },
  {
   "cell_type": "code",
   "execution_count": 7,
   "metadata": {
    "collapsed": false
   },
   "outputs": [
    {
     "name": "stdout",
     "output_type": "stream",
     "text": [
      "sys.version_info(major=3, minor=5, micro=2, releaselevel='final', serial=0)\n"
     ]
    }
   ],
   "source": [
    "import sys\n",
    "\n",
    "sys.platform\n",
    "print(sys.version_info)"
   ]
  },
  {
   "cell_type": "code",
   "execution_count": 8,
   "metadata": {
    "collapsed": false
   },
   "outputs": [
    {
     "name": "stdout",
     "output_type": "stream",
     "text": [
      "Collecting keras\n",
      "  Using cached Keras-2.0.3.tar.gz\n",
      "Collecting theano (from keras)\n",
      "  Using cached Theano-0.9.0.tar.gz\n",
      "Requirement already satisfied (use --upgrade to upgrade): pyyaml in c:\\program files\\anaconda3\\lib\\site-packages (from keras)\n",
      "Requirement already satisfied (use --upgrade to upgrade): six in c:\\program files\\anaconda3\\lib\\site-packages (from keras)\n",
      "Requirement already satisfied (use --upgrade to upgrade): numpy>=1.9.1 in c:\\program files\\anaconda3\\lib\\site-packages (from theano->keras)\n",
      "Requirement already satisfied (use --upgrade to upgrade): scipy>=0.14 in c:\\program files\\anaconda3\\lib\\site-packages (from theano->keras)\n",
      "Building wheels for collected packages: keras, theano\n",
      "  Running setup.py bdist_wheel for keras: started\n",
      "  Running setup.py bdist_wheel for keras: finished with status 'done'\n",
      "  Stored in directory: C:\\Users\\06411\\AppData\\Local\\pip\\Cache\\wheels\\93\\72\\65\\4924fd6b1859343291c50774e2df36919ee61c4511dc6a9890\n",
      "  Running setup.py bdist_wheel for theano: started\n",
      "  Running setup.py bdist_wheel for theano: finished with status 'done'\n",
      "  Stored in directory: C:\\Users\\06411\\AppData\\Local\\pip\\Cache\\wheels\\d5\\5b\\93\\433299b86e3e9b25f0f600e4e4ebf18e38eb7534ea518eba13\n",
      "Successfully built keras theano\n",
      "Installing collected packages: theano, keras\n",
      "Successfully installed keras-2.0.3 theano-0.9.0\n"
     ]
    }
   ],
   "source": [
    "!pip install keras"
   ]
  },
  {
   "cell_type": "code",
   "execution_count": 11,
   "metadata": {
    "collapsed": false
   },
   "outputs": [
    {
     "name": "stdout",
     "output_type": "stream",
     "text": [
      "100\n"
     ]
    }
   ],
   "source": [
    "print(sess.run(tf.multiply(10,10)))\n",
    "\n",
    "sess.close()\n"
   ]
  },
  {
   "cell_type": "code",
   "execution_count": 13,
   "metadata": {
    "collapsed": false
   },
   "outputs": [
    {
     "name": "stderr",
     "output_type": "stream",
     "text": [
      "Using TensorFlow backend.\n"
     ]
    }
   ],
   "source": [
    "import keras"
   ]
  },
  {
   "cell_type": "code",
   "execution_count": 15,
   "metadata": {
    "collapsed": false
   },
   "outputs": [
    {
     "name": "stdout",
     "output_type": "stream",
     "text": [
      "[2 3]\n"
     ]
    }
   ],
   "source": [
    "a = tf.reduce_mean([[1,2],[3,4]], axis=0)\n",
    "\n",
    "sess = tf.Session()\n",
    "b = sess.run(a)\n",
    "print(b)"
   ]
  },
  {
   "cell_type": "code",
   "execution_count": 16,
   "metadata": {
    "collapsed": false
   },
   "outputs": [
    {
     "name": "stdout",
     "output_type": "stream",
     "text": [
      "[1 8]\n"
     ]
    }
   ],
   "source": [
    "a = tf.reduce_mean([[1,2],[8,9]], axis=1)\n",
    "b = sess.run(a)\n",
    "print(b)\n"
   ]
  },
  {
   "cell_type": "code",
   "execution_count": 17,
   "metadata": {
    "collapsed": false
   },
   "outputs": [
    {
     "name": "stdout",
     "output_type": "stream",
     "text": [
      "[1 8]\n"
     ]
    }
   ],
   "source": [
    "a = tf.reduce_mean([[1,2],[8,9]], axis=-1)\n",
    "b = sess.run(a)\n",
    "print(b)"
   ]
  },
  {
   "cell_type": "code",
   "execution_count": 18,
   "metadata": {
    "collapsed": false
   },
   "outputs": [
    {
     "name": "stdout",
     "output_type": "stream",
     "text": [
      "[4 5]\n"
     ]
    }
   ],
   "source": [
    "a = tf.reduce_mean([[1,2],[8,9]], axis=-2)\n",
    "b = sess.run(a)\n",
    "print(b)"
   ]
  },
  {
   "cell_type": "code",
   "execution_count": 30,
   "metadata": {
    "collapsed": false
   },
   "outputs": [
    {
     "name": "stdout",
     "output_type": "stream",
     "text": [
      "[[[ 1  2  3]\n",
      "  [ 4  5  6]]\n",
      "\n",
      " [[ 7  8  9]\n",
      "  [10 11 12]]]\n",
      "[[ 1  2  3]\n",
      " [ 4  5  6]\n",
      " [ 7  8  9]\n",
      " [10 11 12]]\n"
     ]
    }
   ],
   "source": [
    "import numpy as np\n",
    "\n",
    "c = np.arange(1,13).reshape(2,2,3)\n",
    "\n",
    "d = tf.constant(c)\n",
    "\n",
    "\n",
    "a = tf.reshape(d, shape=[-1,3])\n",
    "print(sess.run(d))\n",
    "b = sess.run(a)\n",
    "print(b)"
   ]
  },
  {
   "cell_type": "code",
   "execution_count": 26,
   "metadata": {
    "collapsed": false
   },
   "outputs": [
    {
     "name": "stdout",
     "output_type": "stream",
     "text": [
      "Help on function reshape in module tensorflow.python.ops.gen_array_ops:\n",
      "\n",
      "reshape(tensor, shape, name=None)\n",
      "    Reshapes a tensor.\n",
      "    \n",
      "    Given `tensor`, this operation returns a tensor that has the same values\n",
      "    as `tensor` with shape `shape`.\n",
      "    \n",
      "    If one component of `shape` is the special value -1, the size of that dimension\n",
      "    is computed so that the total size remains constant.  In particular, a `shape`\n",
      "    of `[-1]` flattens into 1-D.  At most one component of `shape` can be -1.\n",
      "    \n",
      "    If `shape` is 1-D or higher, then the operation returns a tensor with shape\n",
      "    `shape` filled with the values of `tensor`. In this case, the number of elements\n",
      "    implied by `shape` must be the same as the number of elements in `tensor`.\n",
      "    \n",
      "    For example:\n",
      "    \n",
      "    ```prettyprint\n",
      "    # tensor 't' is [1, 2, 3, 4, 5, 6, 7, 8, 9]\n",
      "    # tensor 't' has shape [9]\n",
      "    reshape(t, [3, 3]) ==> [[1, 2, 3],\n",
      "                            [4, 5, 6],\n",
      "                            [7, 8, 9]]\n",
      "    \n",
      "    # tensor 't' is [[[1, 1], [2, 2]],\n",
      "    #                [[3, 3], [4, 4]]]\n",
      "    # tensor 't' has shape [2, 2, 2]\n",
      "    reshape(t, [2, 4]) ==> [[1, 1, 2, 2],\n",
      "                            [3, 3, 4, 4]]\n",
      "    \n",
      "    # tensor 't' is [[[1, 1, 1],\n",
      "    #                 [2, 2, 2]],\n",
      "    #                [[3, 3, 3],\n",
      "    #                 [4, 4, 4]],\n",
      "    #                [[5, 5, 5],\n",
      "    #                 [6, 6, 6]]]\n",
      "    # tensor 't' has shape [3, 2, 3]\n",
      "    # pass '[-1]' to flatten 't'\n",
      "    reshape(t, [-1]) ==> [1, 1, 1, 2, 2, 2, 3, 3, 3, 4, 4, 4, 5, 5, 5, 6, 6, 6]\n",
      "    \n",
      "    # -1 can also be used to infer the shape\n",
      "    \n",
      "    # -1 is inferred to be 9:\n",
      "    reshape(t, [2, -1]) ==> [[1, 1, 1, 2, 2, 2, 3, 3, 3],\n",
      "                             [4, 4, 4, 5, 5, 5, 6, 6, 6]]\n",
      "    # -1 is inferred to be 2:\n",
      "    reshape(t, [-1, 9]) ==> [[1, 1, 1, 2, 2, 2, 3, 3, 3],\n",
      "                             [4, 4, 4, 5, 5, 5, 6, 6, 6]]\n",
      "    # -1 is inferred to be 3:\n",
      "    reshape(t, [ 2, -1, 3]) ==> [[[1, 1, 1],\n",
      "                                  [2, 2, 2],\n",
      "                                  [3, 3, 3]],\n",
      "                                 [[4, 4, 4],\n",
      "                                  [5, 5, 5],\n",
      "                                  [6, 6, 6]]]\n",
      "    \n",
      "    # tensor 't' is [7]\n",
      "    # shape `[]` reshapes to a scalar\n",
      "    reshape(t, []) ==> 7\n",
      "    ```\n",
      "    \n",
      "    Args:\n",
      "      tensor: A `Tensor`.\n",
      "      shape: A `Tensor`. Must be one of the following types: `int32`, `int64`.\n",
      "        Defines the shape of the output tensor.\n",
      "      name: A name for the operation (optional).\n",
      "    \n",
      "    Returns:\n",
      "      A `Tensor`. Has the same type as `tensor`.\n",
      "\n"
     ]
    }
   ],
   "source": [
    "help(tf.reshape)"
   ]
  },
  {
   "cell_type": "code",
   "execution_count": 31,
   "metadata": {
    "collapsed": false
   },
   "outputs": [
    {
     "name": "stdout",
     "output_type": "stream",
     "text": [
      "Help on function reshape in module numpy.core.fromnumeric:\n",
      "\n",
      "reshape(a, newshape, order='C')\n",
      "    Gives a new shape to an array without changing its data.\n",
      "    \n",
      "    Parameters\n",
      "    ----------\n",
      "    a : array_like\n",
      "        Array to be reshaped.\n",
      "    newshape : int or tuple of ints\n",
      "        The new shape should be compatible with the original shape. If\n",
      "        an integer, then the result will be a 1-D array of that length.\n",
      "        One shape dimension can be -1. In this case, the value is\n",
      "        inferred from the length of the array and remaining dimensions.\n",
      "    order : {'C', 'F', 'A'}, optional\n",
      "        Read the elements of `a` using this index order, and place the\n",
      "        elements into the reshaped array using this index order.  'C'\n",
      "        means to read / write the elements using C-like index order,\n",
      "        with the last axis index changing fastest, back to the first\n",
      "        axis index changing slowest. 'F' means to read / write the\n",
      "        elements using Fortran-like index order, with the first index\n",
      "        changing fastest, and the last index changing slowest. Note that\n",
      "        the 'C' and 'F' options take no account of the memory layout of\n",
      "        the underlying array, and only refer to the order of indexing.\n",
      "        'A' means to read / write the elements in Fortran-like index\n",
      "        order if `a` is Fortran *contiguous* in memory, C-like order\n",
      "        otherwise.\n",
      "    \n",
      "    Returns\n",
      "    -------\n",
      "    reshaped_array : ndarray\n",
      "        This will be a new view object if possible; otherwise, it will\n",
      "        be a copy.  Note there is no guarantee of the *memory layout* (C- or\n",
      "        Fortran- contiguous) of the returned array.\n",
      "    \n",
      "    See Also\n",
      "    --------\n",
      "    ndarray.reshape : Equivalent method.\n",
      "    \n",
      "    Notes\n",
      "    -----\n",
      "    It is not always possible to change the shape of an array without\n",
      "    copying the data. If you want an error to be raise if the data is copied,\n",
      "    you should assign the new shape to the shape attribute of the array::\n",
      "    \n",
      "     >>> a = np.zeros((10, 2))\n",
      "     # A transpose make the array non-contiguous\n",
      "     >>> b = a.T\n",
      "     # Taking a view makes it possible to modify the shape without modifying\n",
      "     # the initial object.\n",
      "     >>> c = b.view()\n",
      "     >>> c.shape = (20)\n",
      "     AttributeError: incompatible shape for a non-contiguous array\n",
      "    \n",
      "    The `order` keyword gives the index ordering both for *fetching* the values\n",
      "    from `a`, and then *placing* the values into the output array.\n",
      "    For example, let's say you have an array:\n",
      "    \n",
      "    >>> a = np.arange(6).reshape((3, 2))\n",
      "    >>> a\n",
      "    array([[0, 1],\n",
      "           [2, 3],\n",
      "           [4, 5]])\n",
      "    \n",
      "    You can think of reshaping as first raveling the array (using the given\n",
      "    index order), then inserting the elements from the raveled array into the\n",
      "    new array using the same kind of index ordering as was used for the\n",
      "    raveling.\n",
      "    \n",
      "    >>> np.reshape(a, (2, 3)) # C-like index ordering\n",
      "    array([[0, 1, 2],\n",
      "           [3, 4, 5]])\n",
      "    >>> np.reshape(np.ravel(a), (2, 3)) # equivalent to C ravel then C reshape\n",
      "    array([[0, 1, 2],\n",
      "           [3, 4, 5]])\n",
      "    >>> np.reshape(a, (2, 3), order='F') # Fortran-like index ordering\n",
      "    array([[0, 4, 3],\n",
      "           [2, 1, 5]])\n",
      "    >>> np.reshape(np.ravel(a, order='F'), (2, 3), order='F')\n",
      "    array([[0, 4, 3],\n",
      "           [2, 1, 5]])\n",
      "    \n",
      "    Examples\n",
      "    --------\n",
      "    >>> a = np.array([[1,2,3], [4,5,6]])\n",
      "    >>> np.reshape(a, 6)\n",
      "    array([1, 2, 3, 4, 5, 6])\n",
      "    >>> np.reshape(a, 6, order='F')\n",
      "    array([1, 4, 2, 5, 3, 6])\n",
      "    \n",
      "    >>> np.reshape(a, (3,-1))       # the unspecified value is inferred to be 2\n",
      "    array([[1, 2],\n",
      "           [3, 4],\n",
      "           [5, 6]])\n",
      "\n"
     ]
    }
   ],
   "source": [
    "help(np.reshape)"
   ]
  },
  {
   "cell_type": "code",
   "execution_count": null,
   "metadata": {
    "collapsed": true
   },
   "outputs": [],
   "source": []
  }
 ],
 "metadata": {
  "anaconda-cloud": {},
  "kernelspec": {
   "display_name": "Python [conda root]",
   "language": "python",
   "name": "conda-root-py"
  },
  "language_info": {
   "codemirror_mode": {
    "name": "ipython",
    "version": 3
   },
   "file_extension": ".py",
   "mimetype": "text/x-python",
   "name": "python",
   "nbconvert_exporter": "python",
   "pygments_lexer": "ipython3",
   "version": "3.5.2"
  }
 },
 "nbformat": 4,
 "nbformat_minor": 1
}
